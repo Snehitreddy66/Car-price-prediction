{
 "cells": [
  {
   "cell_type": "code",
   "execution_count": 1,
   "id": "1218237b",
   "metadata": {
    "ExecuteTime": {
     "end_time": "2022-11-30T14:27:23.868162Z",
     "start_time": "2022-11-30T14:27:22.072824Z"
    }
   },
   "outputs": [],
   "source": [
    "import pandas as pd\n",
    "import numpy as np\n",
    "import matplotlib.pyplot as plt\n",
    "import seaborn as sns"
   ]
  },
  {
   "cell_type": "code",
   "execution_count": 2,
   "id": "1f518148",
   "metadata": {
    "ExecuteTime": {
     "end_time": "2022-11-30T14:27:23.915246Z",
     "start_time": "2022-11-30T14:27:23.871159Z"
    }
   },
   "outputs": [],
   "source": [
    "df = pd.read_csv(\"train-data.csv\")"
   ]
  },
  {
   "cell_type": "code",
   "execution_count": 3,
   "id": "1ba86895",
   "metadata": {
    "ExecuteTime": {
     "end_time": "2022-11-30T14:27:23.947335Z",
     "start_time": "2022-11-30T14:27:23.917251Z"
    }
   },
   "outputs": [
    {
     "data": {
      "text/html": [
       "<div>\n",
       "<style scoped>\n",
       "    .dataframe tbody tr th:only-of-type {\n",
       "        vertical-align: middle;\n",
       "    }\n",
       "\n",
       "    .dataframe tbody tr th {\n",
       "        vertical-align: top;\n",
       "    }\n",
       "\n",
       "    .dataframe thead th {\n",
       "        text-align: right;\n",
       "    }\n",
       "</style>\n",
       "<table border=\"1\" class=\"dataframe\">\n",
       "  <thead>\n",
       "    <tr style=\"text-align: right;\">\n",
       "      <th></th>\n",
       "      <th>Name</th>\n",
       "      <th>Location</th>\n",
       "      <th>Year</th>\n",
       "      <th>Kilometers_Driven</th>\n",
       "      <th>Fuel_Type</th>\n",
       "      <th>Transmission</th>\n",
       "      <th>Owner_Type</th>\n",
       "      <th>Mileage</th>\n",
       "      <th>Engine</th>\n",
       "      <th>Power</th>\n",
       "      <th>Seats</th>\n",
       "      <th>New_Price</th>\n",
       "      <th>Price</th>\n",
       "    </tr>\n",
       "  </thead>\n",
       "  <tbody>\n",
       "    <tr>\n",
       "      <th>0</th>\n",
       "      <td>Maruti Wagon R LXI CNG</td>\n",
       "      <td>Mumbai</td>\n",
       "      <td>2010</td>\n",
       "      <td>72000</td>\n",
       "      <td>CNG</td>\n",
       "      <td>Manual</td>\n",
       "      <td>First</td>\n",
       "      <td>26.6 km/kg</td>\n",
       "      <td>998 CC</td>\n",
       "      <td>58.16 bhp</td>\n",
       "      <td>5.0</td>\n",
       "      <td>NaN</td>\n",
       "      <td>1.75</td>\n",
       "    </tr>\n",
       "    <tr>\n",
       "      <th>1</th>\n",
       "      <td>Hyundai Creta 1.6 CRDi SX Option</td>\n",
       "      <td>Pune</td>\n",
       "      <td>2015</td>\n",
       "      <td>41000</td>\n",
       "      <td>Diesel</td>\n",
       "      <td>Manual</td>\n",
       "      <td>First</td>\n",
       "      <td>19.67 kmpl</td>\n",
       "      <td>1582 CC</td>\n",
       "      <td>126.2 bhp</td>\n",
       "      <td>5.0</td>\n",
       "      <td>NaN</td>\n",
       "      <td>12.50</td>\n",
       "    </tr>\n",
       "    <tr>\n",
       "      <th>2</th>\n",
       "      <td>Honda Jazz V</td>\n",
       "      <td>Chennai</td>\n",
       "      <td>2011</td>\n",
       "      <td>46000</td>\n",
       "      <td>Petrol</td>\n",
       "      <td>Manual</td>\n",
       "      <td>First</td>\n",
       "      <td>18.2 kmpl</td>\n",
       "      <td>1199 CC</td>\n",
       "      <td>88.7 bhp</td>\n",
       "      <td>5.0</td>\n",
       "      <td>8.61 Lakh</td>\n",
       "      <td>4.50</td>\n",
       "    </tr>\n",
       "    <tr>\n",
       "      <th>3</th>\n",
       "      <td>Maruti Ertiga VDI</td>\n",
       "      <td>Chennai</td>\n",
       "      <td>2012</td>\n",
       "      <td>87000</td>\n",
       "      <td>Diesel</td>\n",
       "      <td>Manual</td>\n",
       "      <td>First</td>\n",
       "      <td>20.77 kmpl</td>\n",
       "      <td>1248 CC</td>\n",
       "      <td>88.76 bhp</td>\n",
       "      <td>7.0</td>\n",
       "      <td>NaN</td>\n",
       "      <td>6.00</td>\n",
       "    </tr>\n",
       "    <tr>\n",
       "      <th>4</th>\n",
       "      <td>Audi A4 New 2.0 TDI Multitronic</td>\n",
       "      <td>Coimbatore</td>\n",
       "      <td>2013</td>\n",
       "      <td>40670</td>\n",
       "      <td>Diesel</td>\n",
       "      <td>Automatic</td>\n",
       "      <td>Second</td>\n",
       "      <td>15.2 kmpl</td>\n",
       "      <td>1968 CC</td>\n",
       "      <td>140.8 bhp</td>\n",
       "      <td>5.0</td>\n",
       "      <td>NaN</td>\n",
       "      <td>17.74</td>\n",
       "    </tr>\n",
       "  </tbody>\n",
       "</table>\n",
       "</div>"
      ],
      "text/plain": [
       "                               Name    Location  Year  Kilometers_Driven  \\\n",
       "0            Maruti Wagon R LXI CNG      Mumbai  2010              72000   \n",
       "1  Hyundai Creta 1.6 CRDi SX Option        Pune  2015              41000   \n",
       "2                      Honda Jazz V     Chennai  2011              46000   \n",
       "3                 Maruti Ertiga VDI     Chennai  2012              87000   \n",
       "4   Audi A4 New 2.0 TDI Multitronic  Coimbatore  2013              40670   \n",
       "\n",
       "  Fuel_Type Transmission Owner_Type     Mileage   Engine      Power  Seats  \\\n",
       "0       CNG       Manual      First  26.6 km/kg   998 CC  58.16 bhp    5.0   \n",
       "1    Diesel       Manual      First  19.67 kmpl  1582 CC  126.2 bhp    5.0   \n",
       "2    Petrol       Manual      First   18.2 kmpl  1199 CC   88.7 bhp    5.0   \n",
       "3    Diesel       Manual      First  20.77 kmpl  1248 CC  88.76 bhp    7.0   \n",
       "4    Diesel    Automatic     Second   15.2 kmpl  1968 CC  140.8 bhp    5.0   \n",
       "\n",
       "   New_Price  Price  \n",
       "0        NaN   1.75  \n",
       "1        NaN  12.50  \n",
       "2  8.61 Lakh   4.50  \n",
       "3        NaN   6.00  \n",
       "4        NaN  17.74  "
      ]
     },
     "execution_count": 3,
     "metadata": {},
     "output_type": "execute_result"
    }
   ],
   "source": [
    "df.head()"
   ]
  },
  {
   "cell_type": "code",
   "execution_count": 4,
   "id": "ecb114a1",
   "metadata": {
    "ExecuteTime": {
     "end_time": "2022-11-30T14:27:23.979255Z",
     "start_time": "2022-11-30T14:27:23.950250Z"
    }
   },
   "outputs": [
    {
     "name": "stdout",
     "output_type": "stream",
     "text": [
      "<class 'pandas.core.frame.DataFrame'>\n",
      "RangeIndex: 6019 entries, 0 to 6018\n",
      "Data columns (total 13 columns):\n",
      " #   Column             Non-Null Count  Dtype  \n",
      "---  ------             --------------  -----  \n",
      " 0   Name               6019 non-null   object \n",
      " 1   Location           6019 non-null   object \n",
      " 2   Year               6019 non-null   int64  \n",
      " 3   Kilometers_Driven  6019 non-null   int64  \n",
      " 4   Fuel_Type          6019 non-null   object \n",
      " 5   Transmission       6019 non-null   object \n",
      " 6   Owner_Type         6019 non-null   object \n",
      " 7   Mileage            6017 non-null   object \n",
      " 8   Engine             5983 non-null   object \n",
      " 9   Power              5983 non-null   object \n",
      " 10  Seats              5977 non-null   float64\n",
      " 11  New_Price          824 non-null    object \n",
      " 12  Price              6019 non-null   float64\n",
      "dtypes: float64(2), int64(2), object(9)\n",
      "memory usage: 611.4+ KB\n"
     ]
    }
   ],
   "source": [
    "df.info()"
   ]
  },
  {
   "cell_type": "code",
   "execution_count": 5,
   "id": "1ddd2879",
   "metadata": {
    "ExecuteTime": {
     "end_time": "2022-11-30T14:27:24.010878Z",
     "start_time": "2022-11-30T14:27:23.982250Z"
    }
   },
   "outputs": [
    {
     "data": {
      "text/html": [
       "<div>\n",
       "<style scoped>\n",
       "    .dataframe tbody tr th:only-of-type {\n",
       "        vertical-align: middle;\n",
       "    }\n",
       "\n",
       "    .dataframe tbody tr th {\n",
       "        vertical-align: top;\n",
       "    }\n",
       "\n",
       "    .dataframe thead th {\n",
       "        text-align: right;\n",
       "    }\n",
       "</style>\n",
       "<table border=\"1\" class=\"dataframe\">\n",
       "  <thead>\n",
       "    <tr style=\"text-align: right;\">\n",
       "      <th></th>\n",
       "      <th>Year</th>\n",
       "      <th>Kilometers_Driven</th>\n",
       "      <th>Seats</th>\n",
       "      <th>Price</th>\n",
       "    </tr>\n",
       "  </thead>\n",
       "  <tbody>\n",
       "    <tr>\n",
       "      <th>count</th>\n",
       "      <td>6019.000000</td>\n",
       "      <td>6.019000e+03</td>\n",
       "      <td>5977.000000</td>\n",
       "      <td>6019.000000</td>\n",
       "    </tr>\n",
       "    <tr>\n",
       "      <th>mean</th>\n",
       "      <td>2013.358199</td>\n",
       "      <td>5.873838e+04</td>\n",
       "      <td>5.278735</td>\n",
       "      <td>9.479468</td>\n",
       "    </tr>\n",
       "    <tr>\n",
       "      <th>std</th>\n",
       "      <td>3.269742</td>\n",
       "      <td>9.126884e+04</td>\n",
       "      <td>0.808840</td>\n",
       "      <td>11.187917</td>\n",
       "    </tr>\n",
       "    <tr>\n",
       "      <th>min</th>\n",
       "      <td>1998.000000</td>\n",
       "      <td>1.710000e+02</td>\n",
       "      <td>0.000000</td>\n",
       "      <td>0.440000</td>\n",
       "    </tr>\n",
       "    <tr>\n",
       "      <th>25%</th>\n",
       "      <td>2011.000000</td>\n",
       "      <td>3.400000e+04</td>\n",
       "      <td>5.000000</td>\n",
       "      <td>3.500000</td>\n",
       "    </tr>\n",
       "    <tr>\n",
       "      <th>50%</th>\n",
       "      <td>2014.000000</td>\n",
       "      <td>5.300000e+04</td>\n",
       "      <td>5.000000</td>\n",
       "      <td>5.640000</td>\n",
       "    </tr>\n",
       "    <tr>\n",
       "      <th>75%</th>\n",
       "      <td>2016.000000</td>\n",
       "      <td>7.300000e+04</td>\n",
       "      <td>5.000000</td>\n",
       "      <td>9.950000</td>\n",
       "    </tr>\n",
       "    <tr>\n",
       "      <th>max</th>\n",
       "      <td>2019.000000</td>\n",
       "      <td>6.500000e+06</td>\n",
       "      <td>10.000000</td>\n",
       "      <td>160.000000</td>\n",
       "    </tr>\n",
       "  </tbody>\n",
       "</table>\n",
       "</div>"
      ],
      "text/plain": [
       "              Year  Kilometers_Driven        Seats        Price\n",
       "count  6019.000000       6.019000e+03  5977.000000  6019.000000\n",
       "mean   2013.358199       5.873838e+04     5.278735     9.479468\n",
       "std       3.269742       9.126884e+04     0.808840    11.187917\n",
       "min    1998.000000       1.710000e+02     0.000000     0.440000\n",
       "25%    2011.000000       3.400000e+04     5.000000     3.500000\n",
       "50%    2014.000000       5.300000e+04     5.000000     5.640000\n",
       "75%    2016.000000       7.300000e+04     5.000000     9.950000\n",
       "max    2019.000000       6.500000e+06    10.000000   160.000000"
      ]
     },
     "execution_count": 5,
     "metadata": {},
     "output_type": "execute_result"
    }
   ],
   "source": [
    "df.describe()"
   ]
  },
  {
   "cell_type": "code",
   "execution_count": 6,
   "id": "05ada16b",
   "metadata": {
    "ExecuteTime": {
     "end_time": "2022-11-30T14:27:24.026093Z",
     "start_time": "2022-11-30T14:27:24.013080Z"
    }
   },
   "outputs": [
    {
     "data": {
      "text/plain": [
       "0"
      ]
     },
     "execution_count": 6,
     "metadata": {},
     "output_type": "execute_result"
    }
   ],
   "source": [
    "df.duplicated().sum()\n"
   ]
  },
  {
   "cell_type": "code",
   "execution_count": 7,
   "id": "356df995",
   "metadata": {
    "ExecuteTime": {
     "end_time": "2022-11-30T14:27:24.041118Z",
     "start_time": "2022-11-30T14:27:24.028095Z"
    }
   },
   "outputs": [
    {
     "data": {
      "text/plain": [
       "Name                    0\n",
       "Location                0\n",
       "Year                    0\n",
       "Kilometers_Driven       0\n",
       "Fuel_Type               0\n",
       "Transmission            0\n",
       "Owner_Type              0\n",
       "Mileage                 2\n",
       "Engine                 36\n",
       "Power                  36\n",
       "Seats                  42\n",
       "New_Price            5195\n",
       "Price                   0\n",
       "dtype: int64"
      ]
     },
     "execution_count": 7,
     "metadata": {},
     "output_type": "execute_result"
    }
   ],
   "source": [
    "df.isnull().sum()"
   ]
  },
  {
   "cell_type": "code",
   "execution_count": 8,
   "id": "6ffd2403",
   "metadata": {
    "ExecuteTime": {
     "end_time": "2022-11-30T14:27:24.057114Z",
     "start_time": "2022-11-30T14:27:24.043091Z"
    }
   },
   "outputs": [],
   "source": [
    "df.drop(\"New_Price\", axis=1, inplace=True)"
   ]
  },
  {
   "cell_type": "code",
   "execution_count": 9,
   "id": "7b792d4c",
   "metadata": {
    "ExecuteTime": {
     "end_time": "2022-11-30T14:27:24.371297Z",
     "start_time": "2022-11-30T14:27:24.059092Z"
    }
   },
   "outputs": [],
   "source": [
    "#imputing null values\n",
    "\n",
    "from sklearn.impute import SimpleImputer\n",
    "\n",
    "null_col = ['Mileage', 'Engine' , 'Power','Seats']\n",
    "\n",
    "imputer = SimpleImputer(strategy='most_frequent')\n",
    "df[null_col] = imputer.fit_transform(df[null_col])"
   ]
  },
  {
   "cell_type": "code",
   "execution_count": 10,
   "id": "b84db329",
   "metadata": {
    "ExecuteTime": {
     "end_time": "2022-11-30T14:27:24.417446Z",
     "start_time": "2022-11-30T14:27:24.380468Z"
    }
   },
   "outputs": [],
   "source": [
    "df = df.convert_dtypes()"
   ]
  },
  {
   "cell_type": "code",
   "execution_count": 11,
   "id": "35ecc503",
   "metadata": {
    "ExecuteTime": {
     "end_time": "2022-11-30T14:27:24.433299Z",
     "start_time": "2022-11-30T14:27:24.420786Z"
    }
   },
   "outputs": [],
   "source": [
    "# imputing zeros in seat columns\n",
    "df['Seats'].replace(to_replace=0 ,value= df['Seats'].mode()[0],inplace=True)"
   ]
  },
  {
   "cell_type": "code",
   "execution_count": 12,
   "id": "2632841b",
   "metadata": {
    "ExecuteTime": {
     "end_time": "2022-11-30T14:27:24.465410Z",
     "start_time": "2022-11-30T14:27:24.435303Z"
    }
   },
   "outputs": [
    {
     "data": {
      "text/html": [
       "<div>\n",
       "<style scoped>\n",
       "    .dataframe tbody tr th:only-of-type {\n",
       "        vertical-align: middle;\n",
       "    }\n",
       "\n",
       "    .dataframe tbody tr th {\n",
       "        vertical-align: top;\n",
       "    }\n",
       "\n",
       "    .dataframe thead th {\n",
       "        text-align: right;\n",
       "    }\n",
       "</style>\n",
       "<table border=\"1\" class=\"dataframe\">\n",
       "  <thead>\n",
       "    <tr style=\"text-align: right;\">\n",
       "      <th></th>\n",
       "      <th>Name</th>\n",
       "      <th>Location</th>\n",
       "      <th>Year</th>\n",
       "      <th>Kilometers_Driven</th>\n",
       "      <th>Fuel_Type</th>\n",
       "      <th>Transmission</th>\n",
       "      <th>Owner_Type</th>\n",
       "      <th>Mileage</th>\n",
       "      <th>Engine</th>\n",
       "      <th>Power</th>\n",
       "      <th>Seats</th>\n",
       "      <th>Price</th>\n",
       "    </tr>\n",
       "  </thead>\n",
       "  <tbody>\n",
       "    <tr>\n",
       "      <th>76</th>\n",
       "      <td>Ford Fiesta 1.4 SXi TDCi</td>\n",
       "      <td>Jaipur</td>\n",
       "      <td>2008</td>\n",
       "      <td>111111</td>\n",
       "      <td>Diesel</td>\n",
       "      <td>Manual</td>\n",
       "      <td>First</td>\n",
       "      <td>17.8 kmpl</td>\n",
       "      <td>1399 CC</td>\n",
       "      <td>null bhp</td>\n",
       "      <td>5</td>\n",
       "      <td>2.0</td>\n",
       "    </tr>\n",
       "    <tr>\n",
       "      <th>79</th>\n",
       "      <td>Hyundai Santro Xing XL</td>\n",
       "      <td>Hyderabad</td>\n",
       "      <td>2005</td>\n",
       "      <td>87591</td>\n",
       "      <td>Petrol</td>\n",
       "      <td>Manual</td>\n",
       "      <td>First</td>\n",
       "      <td>0.0 kmpl</td>\n",
       "      <td>1086 CC</td>\n",
       "      <td>null bhp</td>\n",
       "      <td>5</td>\n",
       "      <td>1.3</td>\n",
       "    </tr>\n",
       "    <tr>\n",
       "      <th>89</th>\n",
       "      <td>Hyundai Santro Xing XO</td>\n",
       "      <td>Hyderabad</td>\n",
       "      <td>2007</td>\n",
       "      <td>73745</td>\n",
       "      <td>Petrol</td>\n",
       "      <td>Manual</td>\n",
       "      <td>First</td>\n",
       "      <td>17.0 kmpl</td>\n",
       "      <td>1086 CC</td>\n",
       "      <td>null bhp</td>\n",
       "      <td>5</td>\n",
       "      <td>2.1</td>\n",
       "    </tr>\n",
       "    <tr>\n",
       "      <th>120</th>\n",
       "      <td>Hyundai Santro Xing XL eRLX Euro III</td>\n",
       "      <td>Mumbai</td>\n",
       "      <td>2005</td>\n",
       "      <td>102000</td>\n",
       "      <td>Petrol</td>\n",
       "      <td>Manual</td>\n",
       "      <td>Second</td>\n",
       "      <td>17.0 kmpl</td>\n",
       "      <td>1086 CC</td>\n",
       "      <td>null bhp</td>\n",
       "      <td>5</td>\n",
       "      <td>0.85</td>\n",
       "    </tr>\n",
       "    <tr>\n",
       "      <th>143</th>\n",
       "      <td>Hyundai Santro Xing XO eRLX Euro II</td>\n",
       "      <td>Kochi</td>\n",
       "      <td>2008</td>\n",
       "      <td>80759</td>\n",
       "      <td>Petrol</td>\n",
       "      <td>Manual</td>\n",
       "      <td>Third</td>\n",
       "      <td>17.0 kmpl</td>\n",
       "      <td>1086 CC</td>\n",
       "      <td>null bhp</td>\n",
       "      <td>5</td>\n",
       "      <td>1.67</td>\n",
       "    </tr>\n",
       "    <tr>\n",
       "      <th>...</th>\n",
       "      <td>...</td>\n",
       "      <td>...</td>\n",
       "      <td>...</td>\n",
       "      <td>...</td>\n",
       "      <td>...</td>\n",
       "      <td>...</td>\n",
       "      <td>...</td>\n",
       "      <td>...</td>\n",
       "      <td>...</td>\n",
       "      <td>...</td>\n",
       "      <td>...</td>\n",
       "      <td>...</td>\n",
       "    </tr>\n",
       "    <tr>\n",
       "      <th>5873</th>\n",
       "      <td>Hyundai Santro Xing XO eRLX Euro II</td>\n",
       "      <td>Pune</td>\n",
       "      <td>2006</td>\n",
       "      <td>47200</td>\n",
       "      <td>Petrol</td>\n",
       "      <td>Manual</td>\n",
       "      <td>Second</td>\n",
       "      <td>17.0 kmpl</td>\n",
       "      <td>1086 CC</td>\n",
       "      <td>null bhp</td>\n",
       "      <td>5</td>\n",
       "      <td>1.2</td>\n",
       "    </tr>\n",
       "    <tr>\n",
       "      <th>5893</th>\n",
       "      <td>Maruti Estilo LXI</td>\n",
       "      <td>Chennai</td>\n",
       "      <td>2008</td>\n",
       "      <td>51000</td>\n",
       "      <td>Petrol</td>\n",
       "      <td>Manual</td>\n",
       "      <td>Second</td>\n",
       "      <td>19.5 kmpl</td>\n",
       "      <td>1061 CC</td>\n",
       "      <td>null bhp</td>\n",
       "      <td>5</td>\n",
       "      <td>1.75</td>\n",
       "    </tr>\n",
       "    <tr>\n",
       "      <th>5925</th>\n",
       "      <td>Skoda Laura Classic 1.8 TSI</td>\n",
       "      <td>Pune</td>\n",
       "      <td>2010</td>\n",
       "      <td>85000</td>\n",
       "      <td>Petrol</td>\n",
       "      <td>Manual</td>\n",
       "      <td>First</td>\n",
       "      <td>17.5 kmpl</td>\n",
       "      <td>1798 CC</td>\n",
       "      <td>null bhp</td>\n",
       "      <td>5</td>\n",
       "      <td>2.85</td>\n",
       "    </tr>\n",
       "    <tr>\n",
       "      <th>5943</th>\n",
       "      <td>Mahindra Jeep MM 540 DP</td>\n",
       "      <td>Chennai</td>\n",
       "      <td>2002</td>\n",
       "      <td>75000</td>\n",
       "      <td>Diesel</td>\n",
       "      <td>Manual</td>\n",
       "      <td>First</td>\n",
       "      <td>0.0 kmpl</td>\n",
       "      <td>2112 CC</td>\n",
       "      <td>null bhp</td>\n",
       "      <td>6</td>\n",
       "      <td>1.7</td>\n",
       "    </tr>\n",
       "    <tr>\n",
       "      <th>5985</th>\n",
       "      <td>Toyota Etios GD</td>\n",
       "      <td>Delhi</td>\n",
       "      <td>2013</td>\n",
       "      <td>70000</td>\n",
       "      <td>Diesel</td>\n",
       "      <td>Manual</td>\n",
       "      <td>First</td>\n",
       "      <td>23.59 kmpl</td>\n",
       "      <td>1364 CC</td>\n",
       "      <td>null bhp</td>\n",
       "      <td>5</td>\n",
       "      <td>3.88</td>\n",
       "    </tr>\n",
       "  </tbody>\n",
       "</table>\n",
       "<p>107 rows × 12 columns</p>\n",
       "</div>"
      ],
      "text/plain": [
       "                                      Name   Location  Year  \\\n",
       "76                Ford Fiesta 1.4 SXi TDCi     Jaipur  2008   \n",
       "79                  Hyundai Santro Xing XL  Hyderabad  2005   \n",
       "89                  Hyundai Santro Xing XO  Hyderabad  2007   \n",
       "120   Hyundai Santro Xing XL eRLX Euro III     Mumbai  2005   \n",
       "143    Hyundai Santro Xing XO eRLX Euro II      Kochi  2008   \n",
       "...                                    ...        ...   ...   \n",
       "5873   Hyundai Santro Xing XO eRLX Euro II       Pune  2006   \n",
       "5893                     Maruti Estilo LXI    Chennai  2008   \n",
       "5925           Skoda Laura Classic 1.8 TSI       Pune  2010   \n",
       "5943               Mahindra Jeep MM 540 DP    Chennai  2002   \n",
       "5985                       Toyota Etios GD      Delhi  2013   \n",
       "\n",
       "      Kilometers_Driven Fuel_Type Transmission Owner_Type     Mileage  \\\n",
       "76               111111    Diesel       Manual      First   17.8 kmpl   \n",
       "79                87591    Petrol       Manual      First    0.0 kmpl   \n",
       "89                73745    Petrol       Manual      First   17.0 kmpl   \n",
       "120              102000    Petrol       Manual     Second   17.0 kmpl   \n",
       "143               80759    Petrol       Manual      Third   17.0 kmpl   \n",
       "...                 ...       ...          ...        ...         ...   \n",
       "5873              47200    Petrol       Manual     Second   17.0 kmpl   \n",
       "5893              51000    Petrol       Manual     Second   19.5 kmpl   \n",
       "5925              85000    Petrol       Manual      First   17.5 kmpl   \n",
       "5943              75000    Diesel       Manual      First    0.0 kmpl   \n",
       "5985              70000    Diesel       Manual      First  23.59 kmpl   \n",
       "\n",
       "       Engine     Power  Seats  Price  \n",
       "76    1399 CC  null bhp      5    2.0  \n",
       "79    1086 CC  null bhp      5    1.3  \n",
       "89    1086 CC  null bhp      5    2.1  \n",
       "120   1086 CC  null bhp      5   0.85  \n",
       "143   1086 CC  null bhp      5   1.67  \n",
       "...       ...       ...    ...    ...  \n",
       "5873  1086 CC  null bhp      5    1.2  \n",
       "5893  1061 CC  null bhp      5   1.75  \n",
       "5925  1798 CC  null bhp      5   2.85  \n",
       "5943  2112 CC  null bhp      6    1.7  \n",
       "5985  1364 CC  null bhp      5   3.88  \n",
       "\n",
       "[107 rows x 12 columns]"
      ]
     },
     "execution_count": 12,
     "metadata": {},
     "output_type": "execute_result"
    }
   ],
   "source": [
    "df[df['Power'] == 'null bhp']"
   ]
  },
  {
   "cell_type": "code",
   "execution_count": 13,
   "id": "d55578ff",
   "metadata": {
    "ExecuteTime": {
     "end_time": "2022-11-30T14:27:24.481538Z",
     "start_time": "2022-11-30T14:27:24.468447Z"
    }
   },
   "outputs": [],
   "source": [
    "indx = df[df['Power'] == 'null bhp'].index"
   ]
  },
  {
   "cell_type": "code",
   "execution_count": 14,
   "id": "e7220342",
   "metadata": {
    "ExecuteTime": {
     "end_time": "2022-11-30T14:27:24.497198Z",
     "start_time": "2022-11-30T14:27:24.484541Z"
    }
   },
   "outputs": [],
   "source": [
    "df.drop(indx,axis=0,inplace=True)"
   ]
  },
  {
   "cell_type": "code",
   "execution_count": 15,
   "id": "696b9521",
   "metadata": {
    "ExecuteTime": {
     "end_time": "2022-11-30T14:27:24.528442Z",
     "start_time": "2022-11-30T14:27:24.499151Z"
    }
   },
   "outputs": [
    {
     "data": {
      "text/html": [
       "<div>\n",
       "<style scoped>\n",
       "    .dataframe tbody tr th:only-of-type {\n",
       "        vertical-align: middle;\n",
       "    }\n",
       "\n",
       "    .dataframe tbody tr th {\n",
       "        vertical-align: top;\n",
       "    }\n",
       "\n",
       "    .dataframe thead th {\n",
       "        text-align: right;\n",
       "    }\n",
       "</style>\n",
       "<table border=\"1\" class=\"dataframe\">\n",
       "  <thead>\n",
       "    <tr style=\"text-align: right;\">\n",
       "      <th></th>\n",
       "      <th>Name</th>\n",
       "      <th>Location</th>\n",
       "      <th>Year</th>\n",
       "      <th>Kilometers_Driven</th>\n",
       "      <th>Fuel_Type</th>\n",
       "      <th>Transmission</th>\n",
       "      <th>Owner_Type</th>\n",
       "      <th>Mileage</th>\n",
       "      <th>Engine</th>\n",
       "      <th>Power</th>\n",
       "      <th>Seats</th>\n",
       "      <th>Price</th>\n",
       "    </tr>\n",
       "  </thead>\n",
       "  <tbody>\n",
       "    <tr>\n",
       "      <th>0</th>\n",
       "      <td>Maruti Wagon R LXI CNG</td>\n",
       "      <td>Mumbai</td>\n",
       "      <td>2010</td>\n",
       "      <td>72000</td>\n",
       "      <td>CNG</td>\n",
       "      <td>Manual</td>\n",
       "      <td>First</td>\n",
       "      <td>26.6 km/kg</td>\n",
       "      <td>998 CC</td>\n",
       "      <td>58.16 bhp</td>\n",
       "      <td>5</td>\n",
       "      <td>1.75</td>\n",
       "    </tr>\n",
       "    <tr>\n",
       "      <th>1</th>\n",
       "      <td>Hyundai Creta 1.6 CRDi SX Option</td>\n",
       "      <td>Pune</td>\n",
       "      <td>2015</td>\n",
       "      <td>41000</td>\n",
       "      <td>Diesel</td>\n",
       "      <td>Manual</td>\n",
       "      <td>First</td>\n",
       "      <td>19.67 kmpl</td>\n",
       "      <td>1582 CC</td>\n",
       "      <td>126.2 bhp</td>\n",
       "      <td>5</td>\n",
       "      <td>12.5</td>\n",
       "    </tr>\n",
       "    <tr>\n",
       "      <th>2</th>\n",
       "      <td>Honda Jazz V</td>\n",
       "      <td>Chennai</td>\n",
       "      <td>2011</td>\n",
       "      <td>46000</td>\n",
       "      <td>Petrol</td>\n",
       "      <td>Manual</td>\n",
       "      <td>First</td>\n",
       "      <td>18.2 kmpl</td>\n",
       "      <td>1199 CC</td>\n",
       "      <td>88.7 bhp</td>\n",
       "      <td>5</td>\n",
       "      <td>4.5</td>\n",
       "    </tr>\n",
       "    <tr>\n",
       "      <th>3</th>\n",
       "      <td>Maruti Ertiga VDI</td>\n",
       "      <td>Chennai</td>\n",
       "      <td>2012</td>\n",
       "      <td>87000</td>\n",
       "      <td>Diesel</td>\n",
       "      <td>Manual</td>\n",
       "      <td>First</td>\n",
       "      <td>20.77 kmpl</td>\n",
       "      <td>1248 CC</td>\n",
       "      <td>88.76 bhp</td>\n",
       "      <td>7</td>\n",
       "      <td>6.0</td>\n",
       "    </tr>\n",
       "    <tr>\n",
       "      <th>4</th>\n",
       "      <td>Audi A4 New 2.0 TDI Multitronic</td>\n",
       "      <td>Coimbatore</td>\n",
       "      <td>2013</td>\n",
       "      <td>40670</td>\n",
       "      <td>Diesel</td>\n",
       "      <td>Automatic</td>\n",
       "      <td>Second</td>\n",
       "      <td>15.2 kmpl</td>\n",
       "      <td>1968 CC</td>\n",
       "      <td>140.8 bhp</td>\n",
       "      <td>5</td>\n",
       "      <td>17.74</td>\n",
       "    </tr>\n",
       "    <tr>\n",
       "      <th>...</th>\n",
       "      <td>...</td>\n",
       "      <td>...</td>\n",
       "      <td>...</td>\n",
       "      <td>...</td>\n",
       "      <td>...</td>\n",
       "      <td>...</td>\n",
       "      <td>...</td>\n",
       "      <td>...</td>\n",
       "      <td>...</td>\n",
       "      <td>...</td>\n",
       "      <td>...</td>\n",
       "      <td>...</td>\n",
       "    </tr>\n",
       "    <tr>\n",
       "      <th>6014</th>\n",
       "      <td>Maruti Swift VDI</td>\n",
       "      <td>Delhi</td>\n",
       "      <td>2014</td>\n",
       "      <td>27365</td>\n",
       "      <td>Diesel</td>\n",
       "      <td>Manual</td>\n",
       "      <td>First</td>\n",
       "      <td>28.4 kmpl</td>\n",
       "      <td>1248 CC</td>\n",
       "      <td>74 bhp</td>\n",
       "      <td>5</td>\n",
       "      <td>4.75</td>\n",
       "    </tr>\n",
       "    <tr>\n",
       "      <th>6015</th>\n",
       "      <td>Hyundai Xcent 1.1 CRDi S</td>\n",
       "      <td>Jaipur</td>\n",
       "      <td>2015</td>\n",
       "      <td>100000</td>\n",
       "      <td>Diesel</td>\n",
       "      <td>Manual</td>\n",
       "      <td>First</td>\n",
       "      <td>24.4 kmpl</td>\n",
       "      <td>1120 CC</td>\n",
       "      <td>71 bhp</td>\n",
       "      <td>5</td>\n",
       "      <td>4.0</td>\n",
       "    </tr>\n",
       "    <tr>\n",
       "      <th>6016</th>\n",
       "      <td>Mahindra Xylo D4 BSIV</td>\n",
       "      <td>Jaipur</td>\n",
       "      <td>2012</td>\n",
       "      <td>55000</td>\n",
       "      <td>Diesel</td>\n",
       "      <td>Manual</td>\n",
       "      <td>Second</td>\n",
       "      <td>14.0 kmpl</td>\n",
       "      <td>2498 CC</td>\n",
       "      <td>112 bhp</td>\n",
       "      <td>8</td>\n",
       "      <td>2.9</td>\n",
       "    </tr>\n",
       "    <tr>\n",
       "      <th>6017</th>\n",
       "      <td>Maruti Wagon R VXI</td>\n",
       "      <td>Kolkata</td>\n",
       "      <td>2013</td>\n",
       "      <td>46000</td>\n",
       "      <td>Petrol</td>\n",
       "      <td>Manual</td>\n",
       "      <td>First</td>\n",
       "      <td>18.9 kmpl</td>\n",
       "      <td>998 CC</td>\n",
       "      <td>67.1 bhp</td>\n",
       "      <td>5</td>\n",
       "      <td>2.65</td>\n",
       "    </tr>\n",
       "    <tr>\n",
       "      <th>6018</th>\n",
       "      <td>Chevrolet Beat Diesel</td>\n",
       "      <td>Hyderabad</td>\n",
       "      <td>2011</td>\n",
       "      <td>47000</td>\n",
       "      <td>Diesel</td>\n",
       "      <td>Manual</td>\n",
       "      <td>First</td>\n",
       "      <td>25.44 kmpl</td>\n",
       "      <td>936 CC</td>\n",
       "      <td>57.6 bhp</td>\n",
       "      <td>5</td>\n",
       "      <td>2.5</td>\n",
       "    </tr>\n",
       "  </tbody>\n",
       "</table>\n",
       "<p>5912 rows × 12 columns</p>\n",
       "</div>"
      ],
      "text/plain": [
       "                                  Name    Location  Year  Kilometers_Driven  \\\n",
       "0               Maruti Wagon R LXI CNG      Mumbai  2010              72000   \n",
       "1     Hyundai Creta 1.6 CRDi SX Option        Pune  2015              41000   \n",
       "2                         Honda Jazz V     Chennai  2011              46000   \n",
       "3                    Maruti Ertiga VDI     Chennai  2012              87000   \n",
       "4      Audi A4 New 2.0 TDI Multitronic  Coimbatore  2013              40670   \n",
       "...                                ...         ...   ...                ...   \n",
       "6014                  Maruti Swift VDI       Delhi  2014              27365   \n",
       "6015          Hyundai Xcent 1.1 CRDi S      Jaipur  2015             100000   \n",
       "6016             Mahindra Xylo D4 BSIV      Jaipur  2012              55000   \n",
       "6017                Maruti Wagon R VXI     Kolkata  2013              46000   \n",
       "6018             Chevrolet Beat Diesel   Hyderabad  2011              47000   \n",
       "\n",
       "     Fuel_Type Transmission Owner_Type     Mileage   Engine      Power  Seats  \\\n",
       "0          CNG       Manual      First  26.6 km/kg   998 CC  58.16 bhp      5   \n",
       "1       Diesel       Manual      First  19.67 kmpl  1582 CC  126.2 bhp      5   \n",
       "2       Petrol       Manual      First   18.2 kmpl  1199 CC   88.7 bhp      5   \n",
       "3       Diesel       Manual      First  20.77 kmpl  1248 CC  88.76 bhp      7   \n",
       "4       Diesel    Automatic     Second   15.2 kmpl  1968 CC  140.8 bhp      5   \n",
       "...        ...          ...        ...         ...      ...        ...    ...   \n",
       "6014    Diesel       Manual      First   28.4 kmpl  1248 CC     74 bhp      5   \n",
       "6015    Diesel       Manual      First   24.4 kmpl  1120 CC     71 bhp      5   \n",
       "6016    Diesel       Manual     Second   14.0 kmpl  2498 CC    112 bhp      8   \n",
       "6017    Petrol       Manual      First   18.9 kmpl   998 CC   67.1 bhp      5   \n",
       "6018    Diesel       Manual      First  25.44 kmpl   936 CC   57.6 bhp      5   \n",
       "\n",
       "      Price  \n",
       "0      1.75  \n",
       "1      12.5  \n",
       "2       4.5  \n",
       "3       6.0  \n",
       "4     17.74  \n",
       "...     ...  \n",
       "6014   4.75  \n",
       "6015    4.0  \n",
       "6016    2.9  \n",
       "6017   2.65  \n",
       "6018    2.5  \n",
       "\n",
       "[5912 rows x 12 columns]"
      ]
     },
     "execution_count": 15,
     "metadata": {},
     "output_type": "execute_result"
    }
   ],
   "source": [
    "df"
   ]
  },
  {
   "cell_type": "code",
   "execution_count": 16,
   "id": "3f1109d8",
   "metadata": {
    "ExecuteTime": {
     "end_time": "2022-11-30T14:27:24.544026Z",
     "start_time": "2022-11-30T14:27:24.531451Z"
    }
   },
   "outputs": [],
   "source": [
    "dirty_cols = ['Mileage', 'Engine', 'Power']"
   ]
  },
  {
   "cell_type": "code",
   "execution_count": 17,
   "id": "c46852ca",
   "metadata": {
    "ExecuteTime": {
     "end_time": "2022-11-30T14:27:24.574706Z",
     "start_time": "2022-11-30T14:27:24.546002Z"
    }
   },
   "outputs": [],
   "source": [
    "for col in dirty_cols:\n",
    "    df[col] = df[col].apply(lambda x : float(x.split()[0]))"
   ]
  },
  {
   "cell_type": "code",
   "execution_count": 18,
   "id": "18236411",
   "metadata": {
    "ExecuteTime": {
     "end_time": "2022-11-30T14:27:24.604832Z",
     "start_time": "2022-11-30T14:27:24.577206Z"
    }
   },
   "outputs": [
    {
     "data": {
      "text/html": [
       "<div>\n",
       "<style scoped>\n",
       "    .dataframe tbody tr th:only-of-type {\n",
       "        vertical-align: middle;\n",
       "    }\n",
       "\n",
       "    .dataframe tbody tr th {\n",
       "        vertical-align: top;\n",
       "    }\n",
       "\n",
       "    .dataframe thead th {\n",
       "        text-align: right;\n",
       "    }\n",
       "</style>\n",
       "<table border=\"1\" class=\"dataframe\">\n",
       "  <thead>\n",
       "    <tr style=\"text-align: right;\">\n",
       "      <th></th>\n",
       "      <th>Name</th>\n",
       "      <th>Location</th>\n",
       "      <th>Year</th>\n",
       "      <th>Kilometers_Driven</th>\n",
       "      <th>Fuel_Type</th>\n",
       "      <th>Transmission</th>\n",
       "      <th>Owner_Type</th>\n",
       "      <th>Mileage</th>\n",
       "      <th>Engine</th>\n",
       "      <th>Power</th>\n",
       "      <th>Seats</th>\n",
       "      <th>Price</th>\n",
       "    </tr>\n",
       "  </thead>\n",
       "  <tbody>\n",
       "    <tr>\n",
       "      <th>0</th>\n",
       "      <td>Maruti Wagon R LXI CNG</td>\n",
       "      <td>Mumbai</td>\n",
       "      <td>2010</td>\n",
       "      <td>72000</td>\n",
       "      <td>CNG</td>\n",
       "      <td>Manual</td>\n",
       "      <td>First</td>\n",
       "      <td>26.60</td>\n",
       "      <td>998.0</td>\n",
       "      <td>58.16</td>\n",
       "      <td>5</td>\n",
       "      <td>1.75</td>\n",
       "    </tr>\n",
       "    <tr>\n",
       "      <th>1</th>\n",
       "      <td>Hyundai Creta 1.6 CRDi SX Option</td>\n",
       "      <td>Pune</td>\n",
       "      <td>2015</td>\n",
       "      <td>41000</td>\n",
       "      <td>Diesel</td>\n",
       "      <td>Manual</td>\n",
       "      <td>First</td>\n",
       "      <td>19.67</td>\n",
       "      <td>1582.0</td>\n",
       "      <td>126.20</td>\n",
       "      <td>5</td>\n",
       "      <td>12.5</td>\n",
       "    </tr>\n",
       "    <tr>\n",
       "      <th>2</th>\n",
       "      <td>Honda Jazz V</td>\n",
       "      <td>Chennai</td>\n",
       "      <td>2011</td>\n",
       "      <td>46000</td>\n",
       "      <td>Petrol</td>\n",
       "      <td>Manual</td>\n",
       "      <td>First</td>\n",
       "      <td>18.20</td>\n",
       "      <td>1199.0</td>\n",
       "      <td>88.70</td>\n",
       "      <td>5</td>\n",
       "      <td>4.5</td>\n",
       "    </tr>\n",
       "    <tr>\n",
       "      <th>3</th>\n",
       "      <td>Maruti Ertiga VDI</td>\n",
       "      <td>Chennai</td>\n",
       "      <td>2012</td>\n",
       "      <td>87000</td>\n",
       "      <td>Diesel</td>\n",
       "      <td>Manual</td>\n",
       "      <td>First</td>\n",
       "      <td>20.77</td>\n",
       "      <td>1248.0</td>\n",
       "      <td>88.76</td>\n",
       "      <td>7</td>\n",
       "      <td>6.0</td>\n",
       "    </tr>\n",
       "    <tr>\n",
       "      <th>4</th>\n",
       "      <td>Audi A4 New 2.0 TDI Multitronic</td>\n",
       "      <td>Coimbatore</td>\n",
       "      <td>2013</td>\n",
       "      <td>40670</td>\n",
       "      <td>Diesel</td>\n",
       "      <td>Automatic</td>\n",
       "      <td>Second</td>\n",
       "      <td>15.20</td>\n",
       "      <td>1968.0</td>\n",
       "      <td>140.80</td>\n",
       "      <td>5</td>\n",
       "      <td>17.74</td>\n",
       "    </tr>\n",
       "  </tbody>\n",
       "</table>\n",
       "</div>"
      ],
      "text/plain": [
       "                               Name    Location  Year  Kilometers_Driven  \\\n",
       "0            Maruti Wagon R LXI CNG      Mumbai  2010              72000   \n",
       "1  Hyundai Creta 1.6 CRDi SX Option        Pune  2015              41000   \n",
       "2                      Honda Jazz V     Chennai  2011              46000   \n",
       "3                 Maruti Ertiga VDI     Chennai  2012              87000   \n",
       "4   Audi A4 New 2.0 TDI Multitronic  Coimbatore  2013              40670   \n",
       "\n",
       "  Fuel_Type Transmission Owner_Type  Mileage  Engine   Power  Seats  Price  \n",
       "0       CNG       Manual      First    26.60   998.0   58.16      5   1.75  \n",
       "1    Diesel       Manual      First    19.67  1582.0  126.20      5   12.5  \n",
       "2    Petrol       Manual      First    18.20  1199.0   88.70      5    4.5  \n",
       "3    Diesel       Manual      First    20.77  1248.0   88.76      7    6.0  \n",
       "4    Diesel    Automatic     Second    15.20  1968.0  140.80      5  17.74  "
      ]
     },
     "execution_count": 18,
     "metadata": {},
     "output_type": "execute_result"
    }
   ],
   "source": [
    "df.head()"
   ]
  },
  {
   "cell_type": "code",
   "execution_count": 19,
   "id": "ea8f2bc0",
   "metadata": {
    "ExecuteTime": {
     "end_time": "2022-11-30T14:27:24.619947Z",
     "start_time": "2022-11-30T14:27:24.605717Z"
    }
   },
   "outputs": [
    {
     "data": {
      "text/plain": [
       "1830"
      ]
     },
     "execution_count": 19,
     "metadata": {},
     "output_type": "execute_result"
    }
   ],
   "source": [
    "df[\"Name\"].nunique()"
   ]
  },
  {
   "cell_type": "code",
   "execution_count": 20,
   "id": "14f206df",
   "metadata": {
    "ExecuteTime": {
     "end_time": "2022-11-30T14:27:24.635286Z",
     "start_time": "2022-11-30T14:27:24.621950Z"
    }
   },
   "outputs": [
    {
     "data": {
      "text/plain": [
       "1830"
      ]
     },
     "execution_count": 20,
     "metadata": {},
     "output_type": "execute_result"
    }
   ],
   "source": [
    "# checking the unique values\n",
    "df[\"Name\"].nunique()"
   ]
  },
  {
   "cell_type": "code",
   "execution_count": 21,
   "id": "ec5b2632",
   "metadata": {
    "ExecuteTime": {
     "end_time": "2022-11-30T14:27:24.650395Z",
     "start_time": "2022-11-30T14:27:24.638805Z"
    }
   },
   "outputs": [
    {
     "name": "stdout",
     "output_type": "stream",
     "text": [
      "Percentage of uniques 31 %\n"
     ]
    }
   ],
   "source": [
    "print(\"Percentage of uniques\",round(df[\"Name\"].nunique()/df.shape[0]*100),\"%\")\n"
   ]
  },
  {
   "cell_type": "code",
   "execution_count": 22,
   "id": "ab43b264",
   "metadata": {
    "ExecuteTime": {
     "end_time": "2022-11-30T14:27:24.665698Z",
     "start_time": "2022-11-30T14:27:24.653392Z"
    }
   },
   "outputs": [
    {
     "data": {
      "text/plain": [
       "0                 Maruti Wagon R LXI CNG\n",
       "1       Hyundai Creta 1.6 CRDi SX Option\n",
       "2                           Honda Jazz V\n",
       "3                      Maruti Ertiga VDI\n",
       "4        Audi A4 New 2.0 TDI Multitronic\n",
       "                      ...               \n",
       "6014                    Maruti Swift VDI\n",
       "6015            Hyundai Xcent 1.1 CRDi S\n",
       "6016               Mahindra Xylo D4 BSIV\n",
       "6017                  Maruti Wagon R VXI\n",
       "6018               Chevrolet Beat Diesel\n",
       "Name: Name, Length: 5912, dtype: string"
      ]
     },
     "execution_count": 22,
     "metadata": {},
     "output_type": "execute_result"
    }
   ],
   "source": [
    "df[\"Name\"]"
   ]
  },
  {
   "cell_type": "markdown",
   "id": "4cdda5fd",
   "metadata": {},
   "source": [
    "Above we can observe that first name is the car's brand name \n",
    "\n",
    "so lets extract the first name as brand name"
   ]
  },
  {
   "cell_type": "code",
   "execution_count": 23,
   "id": "95e71e4d",
   "metadata": {
    "ExecuteTime": {
     "end_time": "2022-11-30T14:27:24.681769Z",
     "start_time": "2022-11-30T14:27:24.669219Z"
    }
   },
   "outputs": [],
   "source": [
    "df[\"Brand\"] = df[\"Name\"].apply(lambda x : x.split()[0])"
   ]
  },
  {
   "cell_type": "code",
   "execution_count": 24,
   "id": "b0c729fa",
   "metadata": {
    "ExecuteTime": {
     "end_time": "2022-11-30T14:27:24.697307Z",
     "start_time": "2022-11-30T14:27:24.685769Z"
    }
   },
   "outputs": [
    {
     "data": {
      "text/plain": [
       "30"
      ]
     },
     "execution_count": 24,
     "metadata": {},
     "output_type": "execute_result"
    }
   ],
   "source": [
    "df[\"Brand\"].nunique()\n"
   ]
  },
  {
   "cell_type": "markdown",
   "id": "914e1426",
   "metadata": {},
   "source": [
    "Another observation that first two word can express which car we want.\n",
    "\n",
    "So, let's change name column with just first 2 words."
   ]
  },
  {
   "cell_type": "code",
   "execution_count": 25,
   "id": "dbbcc079",
   "metadata": {
    "ExecuteTime": {
     "end_time": "2022-11-30T14:27:24.712134Z",
     "start_time": "2022-11-30T14:27:24.700080Z"
    }
   },
   "outputs": [],
   "source": [
    "df[\"Name\"] = df[\"Name\"].apply(lambda x : \" \".join(x.split()[:2]))\n"
   ]
  },
  {
   "cell_type": "code",
   "execution_count": 26,
   "id": "a1d78dd3",
   "metadata": {
    "ExecuteTime": {
     "end_time": "2022-11-30T14:27:24.727431Z",
     "start_time": "2022-11-30T14:27:24.714137Z"
    }
   },
   "outputs": [
    {
     "data": {
      "text/plain": [
       "209"
      ]
     },
     "execution_count": 26,
     "metadata": {},
     "output_type": "execute_result"
    }
   ],
   "source": [
    "df[\"Name\"].nunique()"
   ]
  },
  {
   "cell_type": "markdown",
   "id": "6ba07c8d",
   "metadata": {},
   "source": [
    "Now we can make use of name column."
   ]
  },
  {
   "cell_type": "code",
   "execution_count": 27,
   "id": "97cebfb3",
   "metadata": {
    "ExecuteTime": {
     "end_time": "2022-11-30T14:27:24.743089Z",
     "start_time": "2022-11-30T14:27:24.729379Z"
    }
   },
   "outputs": [],
   "source": [
    "df = df.convert_dtypes()"
   ]
  },
  {
   "cell_type": "code",
   "execution_count": 28,
   "id": "393f9fc6",
   "metadata": {
    "ExecuteTime": {
     "end_time": "2022-11-30T14:27:24.773711Z",
     "start_time": "2022-11-30T14:27:24.753019Z"
    }
   },
   "outputs": [
    {
     "data": {
      "text/html": [
       "<div>\n",
       "<style scoped>\n",
       "    .dataframe tbody tr th:only-of-type {\n",
       "        vertical-align: middle;\n",
       "    }\n",
       "\n",
       "    .dataframe tbody tr th {\n",
       "        vertical-align: top;\n",
       "    }\n",
       "\n",
       "    .dataframe thead th {\n",
       "        text-align: right;\n",
       "    }\n",
       "</style>\n",
       "<table border=\"1\" class=\"dataframe\">\n",
       "  <thead>\n",
       "    <tr style=\"text-align: right;\">\n",
       "      <th></th>\n",
       "      <th>Name</th>\n",
       "      <th>Location</th>\n",
       "      <th>Year</th>\n",
       "      <th>Kilometers_Driven</th>\n",
       "      <th>Fuel_Type</th>\n",
       "      <th>Transmission</th>\n",
       "      <th>Owner_Type</th>\n",
       "      <th>Mileage</th>\n",
       "      <th>Engine</th>\n",
       "      <th>Power</th>\n",
       "      <th>Seats</th>\n",
       "      <th>Price</th>\n",
       "      <th>Brand</th>\n",
       "    </tr>\n",
       "  </thead>\n",
       "  <tbody>\n",
       "    <tr>\n",
       "      <th>299</th>\n",
       "      <td>Audi A6</td>\n",
       "      <td>Kochi</td>\n",
       "      <td>2015</td>\n",
       "      <td>31652</td>\n",
       "      <td>Diesel</td>\n",
       "      <td>Automatic</td>\n",
       "      <td>First</td>\n",
       "      <td>17.68</td>\n",
       "      <td>1968</td>\n",
       "      <td>174.33</td>\n",
       "      <td>5</td>\n",
       "      <td>26.78</td>\n",
       "      <td>Audi</td>\n",
       "    </tr>\n",
       "    <tr>\n",
       "      <th>2965</th>\n",
       "      <td>Mahindra Ssangyong</td>\n",
       "      <td>Kochi</td>\n",
       "      <td>2014</td>\n",
       "      <td>58995</td>\n",
       "      <td>Diesel</td>\n",
       "      <td>Manual</td>\n",
       "      <td>First</td>\n",
       "      <td>12.83</td>\n",
       "      <td>2696</td>\n",
       "      <td>162.0</td>\n",
       "      <td>7</td>\n",
       "      <td>9.25</td>\n",
       "      <td>Mahindra</td>\n",
       "    </tr>\n",
       "    <tr>\n",
       "      <th>3609</th>\n",
       "      <td>Volkswagen Polo</td>\n",
       "      <td>Pune</td>\n",
       "      <td>2011</td>\n",
       "      <td>36431</td>\n",
       "      <td>Petrol</td>\n",
       "      <td>Manual</td>\n",
       "      <td>First</td>\n",
       "      <td>16.2</td>\n",
       "      <td>1199</td>\n",
       "      <td>74.0</td>\n",
       "      <td>5</td>\n",
       "      <td>2.7</td>\n",
       "      <td>Volkswagen</td>\n",
       "    </tr>\n",
       "    <tr>\n",
       "      <th>4461</th>\n",
       "      <td>Hyundai Elite</td>\n",
       "      <td>Kochi</td>\n",
       "      <td>2016</td>\n",
       "      <td>37540</td>\n",
       "      <td>Petrol</td>\n",
       "      <td>Manual</td>\n",
       "      <td>First</td>\n",
       "      <td>18.6</td>\n",
       "      <td>1197</td>\n",
       "      <td>81.86</td>\n",
       "      <td>5</td>\n",
       "      <td>6.22</td>\n",
       "      <td>Hyundai</td>\n",
       "    </tr>\n",
       "    <tr>\n",
       "      <th>1313</th>\n",
       "      <td>Hyundai Verna</td>\n",
       "      <td>Chennai</td>\n",
       "      <td>2008</td>\n",
       "      <td>121097</td>\n",
       "      <td>Diesel</td>\n",
       "      <td>Manual</td>\n",
       "      <td>Second</td>\n",
       "      <td>24.0</td>\n",
       "      <td>1396</td>\n",
       "      <td>88.76</td>\n",
       "      <td>5</td>\n",
       "      <td>1.9</td>\n",
       "      <td>Hyundai</td>\n",
       "    </tr>\n",
       "  </tbody>\n",
       "</table>\n",
       "</div>"
      ],
      "text/plain": [
       "                    Name Location  Year  Kilometers_Driven Fuel_Type  \\\n",
       "299              Audi A6    Kochi  2015              31652    Diesel   \n",
       "2965  Mahindra Ssangyong    Kochi  2014              58995    Diesel   \n",
       "3609     Volkswagen Polo     Pune  2011              36431    Petrol   \n",
       "4461       Hyundai Elite    Kochi  2016              37540    Petrol   \n",
       "1313       Hyundai Verna  Chennai  2008             121097    Diesel   \n",
       "\n",
       "     Transmission Owner_Type  Mileage  Engine   Power  Seats  Price  \\\n",
       "299     Automatic      First    17.68    1968  174.33      5  26.78   \n",
       "2965       Manual      First    12.83    2696   162.0      7   9.25   \n",
       "3609       Manual      First     16.2    1199    74.0      5    2.7   \n",
       "4461       Manual      First     18.6    1197   81.86      5   6.22   \n",
       "1313       Manual     Second     24.0    1396   88.76      5    1.9   \n",
       "\n",
       "           Brand  \n",
       "299         Audi  \n",
       "2965    Mahindra  \n",
       "3609  Volkswagen  \n",
       "4461     Hyundai  \n",
       "1313     Hyundai  "
      ]
     },
     "execution_count": 28,
     "metadata": {},
     "output_type": "execute_result"
    }
   ],
   "source": [
    "df.sample(5)"
   ]
  },
  {
   "cell_type": "code",
   "execution_count": 29,
   "id": "65edfa42",
   "metadata": {
    "ExecuteTime": {
     "end_time": "2022-11-30T14:27:24.804437Z",
     "start_time": "2022-11-30T14:27:24.777220Z"
    }
   },
   "outputs": [
    {
     "name": "stdout",
     "output_type": "stream",
     "text": [
      "<class 'pandas.core.frame.DataFrame'>\n",
      "Int64Index: 5912 entries, 0 to 6018\n",
      "Data columns (total 13 columns):\n",
      " #   Column             Non-Null Count  Dtype  \n",
      "---  ------             --------------  -----  \n",
      " 0   Name               5912 non-null   string \n",
      " 1   Location           5912 non-null   string \n",
      " 2   Year               5912 non-null   Int64  \n",
      " 3   Kilometers_Driven  5912 non-null   Int64  \n",
      " 4   Fuel_Type          5912 non-null   string \n",
      " 5   Transmission       5912 non-null   string \n",
      " 6   Owner_Type         5912 non-null   string \n",
      " 7   Mileage            5912 non-null   Float64\n",
      " 8   Engine             5912 non-null   Int64  \n",
      " 9   Power              5912 non-null   Float64\n",
      " 10  Seats              5912 non-null   Int64  \n",
      " 11  Price              5912 non-null   Float64\n",
      " 12  Brand              5912 non-null   string \n",
      "dtypes: Float64(3), Int64(4), string(6)\n",
      "memory usage: 687.0 KB\n"
     ]
    }
   ],
   "source": [
    "df.info()\n"
   ]
  },
  {
   "cell_type": "code",
   "execution_count": 30,
   "id": "0e8a0fe4",
   "metadata": {
    "ExecuteTime": {
     "end_time": "2022-11-30T14:27:24.866226Z",
     "start_time": "2022-11-30T14:27:24.807782Z"
    }
   },
   "outputs": [
    {
     "data": {
      "text/html": [
       "<div>\n",
       "<style scoped>\n",
       "    .dataframe tbody tr th:only-of-type {\n",
       "        vertical-align: middle;\n",
       "    }\n",
       "\n",
       "    .dataframe tbody tr th {\n",
       "        vertical-align: top;\n",
       "    }\n",
       "\n",
       "    .dataframe thead th {\n",
       "        text-align: right;\n",
       "    }\n",
       "</style>\n",
       "<table border=\"1\" class=\"dataframe\">\n",
       "  <thead>\n",
       "    <tr style=\"text-align: right;\">\n",
       "      <th></th>\n",
       "      <th>Year</th>\n",
       "      <th>Kilometers_Driven</th>\n",
       "      <th>Mileage</th>\n",
       "      <th>Engine</th>\n",
       "      <th>Power</th>\n",
       "      <th>Seats</th>\n",
       "      <th>Price</th>\n",
       "    </tr>\n",
       "  </thead>\n",
       "  <tbody>\n",
       "    <tr>\n",
       "      <th>count</th>\n",
       "      <td>5912.000000</td>\n",
       "      <td>5.912000e+03</td>\n",
       "      <td>5912.000000</td>\n",
       "      <td>5912.000000</td>\n",
       "      <td>5912.000000</td>\n",
       "      <td>5912.00000</td>\n",
       "      <td>5912.000000</td>\n",
       "    </tr>\n",
       "    <tr>\n",
       "      <th>mean</th>\n",
       "      <td>2013.450609</td>\n",
       "      <td>5.837766e+04</td>\n",
       "      <td>18.231778</td>\n",
       "      <td>1622.857070</td>\n",
       "      <td>113.014026</td>\n",
       "      <td>5.28180</td>\n",
       "      <td>9.584919</td>\n",
       "    </tr>\n",
       "    <tr>\n",
       "      <th>std</th>\n",
       "      <td>3.188638</td>\n",
       "      <td>9.189848e+04</td>\n",
       "      <td>4.431628</td>\n",
       "      <td>600.877459</td>\n",
       "      <td>53.797403</td>\n",
       "      <td>0.80269</td>\n",
       "      <td>11.233694</td>\n",
       "    </tr>\n",
       "    <tr>\n",
       "      <th>min</th>\n",
       "      <td>1998.000000</td>\n",
       "      <td>1.710000e+02</td>\n",
       "      <td>0.000000</td>\n",
       "      <td>72.000000</td>\n",
       "      <td>34.200000</td>\n",
       "      <td>2.00000</td>\n",
       "      <td>0.440000</td>\n",
       "    </tr>\n",
       "    <tr>\n",
       "      <th>25%</th>\n",
       "      <td>2012.000000</td>\n",
       "      <td>3.351275e+04</td>\n",
       "      <td>15.260000</td>\n",
       "      <td>1198.000000</td>\n",
       "      <td>75.000000</td>\n",
       "      <td>5.00000</td>\n",
       "      <td>3.500000</td>\n",
       "    </tr>\n",
       "    <tr>\n",
       "      <th>50%</th>\n",
       "      <td>2014.000000</td>\n",
       "      <td>5.286250e+04</td>\n",
       "      <td>18.200000</td>\n",
       "      <td>1493.000000</td>\n",
       "      <td>94.000000</td>\n",
       "      <td>5.00000</td>\n",
       "      <td>5.700000</td>\n",
       "    </tr>\n",
       "    <tr>\n",
       "      <th>75%</th>\n",
       "      <td>2016.000000</td>\n",
       "      <td>7.245375e+04</td>\n",
       "      <td>21.100000</td>\n",
       "      <td>1984.000000</td>\n",
       "      <td>138.100000</td>\n",
       "      <td>5.00000</td>\n",
       "      <td>10.012500</td>\n",
       "    </tr>\n",
       "    <tr>\n",
       "      <th>max</th>\n",
       "      <td>2019.000000</td>\n",
       "      <td>6.500000e+06</td>\n",
       "      <td>33.540000</td>\n",
       "      <td>5998.000000</td>\n",
       "      <td>560.000000</td>\n",
       "      <td>10.00000</td>\n",
       "      <td>160.000000</td>\n",
       "    </tr>\n",
       "  </tbody>\n",
       "</table>\n",
       "</div>"
      ],
      "text/plain": [
       "              Year  Kilometers_Driven      Mileage       Engine        Power  \\\n",
       "count  5912.000000       5.912000e+03  5912.000000  5912.000000  5912.000000   \n",
       "mean   2013.450609       5.837766e+04    18.231778  1622.857070   113.014026   \n",
       "std       3.188638       9.189848e+04     4.431628   600.877459    53.797403   \n",
       "min    1998.000000       1.710000e+02     0.000000    72.000000    34.200000   \n",
       "25%    2012.000000       3.351275e+04    15.260000  1198.000000    75.000000   \n",
       "50%    2014.000000       5.286250e+04    18.200000  1493.000000    94.000000   \n",
       "75%    2016.000000       7.245375e+04    21.100000  1984.000000   138.100000   \n",
       "max    2019.000000       6.500000e+06    33.540000  5998.000000   560.000000   \n",
       "\n",
       "            Seats        Price  \n",
       "count  5912.00000  5912.000000  \n",
       "mean      5.28180     9.584919  \n",
       "std       0.80269    11.233694  \n",
       "min       2.00000     0.440000  \n",
       "25%       5.00000     3.500000  \n",
       "50%       5.00000     5.700000  \n",
       "75%       5.00000    10.012500  \n",
       "max      10.00000   160.000000  "
      ]
     },
     "execution_count": 30,
     "metadata": {},
     "output_type": "execute_result"
    }
   ],
   "source": [
    "df.describe()\n"
   ]
  },
  {
   "cell_type": "markdown",
   "id": "a9c8f0fb",
   "metadata": {},
   "source": [
    "# Understanding the data by plots"
   ]
  },
  {
   "cell_type": "code",
   "execution_count": 31,
   "id": "533a42e7",
   "metadata": {
    "ExecuteTime": {
     "end_time": "2022-11-30T14:27:27.061422Z",
     "start_time": "2022-11-30T14:27:24.869385Z"
    }
   },
   "outputs": [
    {
     "data": {
      "image/png": "[encoded data removed]",
      "text/plain": [
       "<Figure size 432x288 with 1 Axes>"
      ]
     },
     "metadata": {
      "needs_background": "light"
     },
     "output_type": "display_data"
    }
   ],
   "source": [
    "sns.histplot(data = df , x = 'Kilometers_Driven');"
   ]
  },
  {
   "cell_type": "code",
   "execution_count": 32,
   "id": "d008f631",
   "metadata": {
    "ExecuteTime": {
     "end_time": "2022-11-30T14:27:27.231922Z",
     "start_time": "2022-11-30T14:27:27.063665Z"
    }
   },
   "outputs": [
    {
     "data": {
      "image/png": "[encoded data removed]",
      "text/plain": [
       "<Figure size 432x288 with 1 Axes>"
      ]
     },
     "metadata": {
      "needs_background": "light"
     },
     "output_type": "display_data"
    }
   ],
   "source": [
    "sns.histplot(data = df , x = 'Mileage');\n"
   ]
  },
  {
   "cell_type": "code",
   "execution_count": 33,
   "id": "cc6fe414",
   "metadata": {
    "ExecuteTime": {
     "end_time": "2022-11-30T14:27:27.465693Z",
     "start_time": "2022-11-30T14:27:27.233836Z"
    }
   },
   "outputs": [
    {
     "data": {
      "image/png": "[encoded data removed]",
      "text/plain": [
       "<Figure size 432x288 with 1 Axes>"
      ]
     },
     "metadata": {
      "needs_background": "light"
     },
     "output_type": "display_data"
    }
   ],
   "source": [
    "sns.histplot(data = df , x = 'Engine');"
   ]
  },
  {
   "cell_type": "code",
   "execution_count": 34,
   "id": "ed420362",
   "metadata": {
    "ExecuteTime": {
     "end_time": "2022-11-30T14:27:27.681926Z",
     "start_time": "2022-11-30T14:27:27.468311Z"
    }
   },
   "outputs": [
    {
     "data": {
      "image/png": "[encoded data removed]",
      "text/plain": [
       "<Figure size 432x288 with 1 Axes>"
      ]
     },
     "metadata": {
      "needs_background": "light"
     },
     "output_type": "display_data"
    }
   ],
   "source": [
    "sns.histplot(data = df , x = 'Power');\n"
   ]
  },
  {
   "cell_type": "code",
   "execution_count": 35,
   "id": "69b55ca2",
   "metadata": {
    "ExecuteTime": {
     "end_time": "2022-11-30T14:27:28.257792Z",
     "start_time": "2022-11-30T14:27:27.683922Z"
    }
   },
   "outputs": [
    {
     "data": {
      "image/png": "[encoded data removed]",
      "text/plain": [
       "<Figure size 432x288 with 1 Axes>"
      ]
     },
     "metadata": {
      "needs_background": "light"
     },
     "output_type": "display_data"
    }
   ],
   "source": [
    "sns.histplot(data = df , x = 'Price');"
   ]
  },
  {
   "cell_type": "code",
   "execution_count": 36,
   "id": "ae3a8956",
   "metadata": {
    "ExecuteTime": {
     "end_time": "2022-11-30T14:27:28.273251Z",
     "start_time": "2022-11-30T14:27:28.259714Z"
    }
   },
   "outputs": [],
   "source": [
    "#extracting nummerical columns\n",
    "\n",
    "numerical_cols = ['Kilometers_Driven' , 'Mileage' , 'Engine' , 'Power','Price']\n"
   ]
  },
  {
   "cell_type": "code",
   "execution_count": 37,
   "id": "62fc1eeb",
   "metadata": {
    "ExecuteTime": {
     "end_time": "2022-11-30T14:27:28.304924Z",
     "start_time": "2022-11-30T14:27:28.276200Z"
    }
   },
   "outputs": [
    {
     "data": {
      "text/html": [
       "<div>\n",
       "<style scoped>\n",
       "    .dataframe tbody tr th:only-of-type {\n",
       "        vertical-align: middle;\n",
       "    }\n",
       "\n",
       "    .dataframe tbody tr th {\n",
       "        vertical-align: top;\n",
       "    }\n",
       "\n",
       "    .dataframe thead th {\n",
       "        text-align: right;\n",
       "    }\n",
       "</style>\n",
       "<table border=\"1\" class=\"dataframe\">\n",
       "  <thead>\n",
       "    <tr style=\"text-align: right;\">\n",
       "      <th></th>\n",
       "      <th>Name</th>\n",
       "      <th>Location</th>\n",
       "      <th>Year</th>\n",
       "      <th>Kilometers_Driven</th>\n",
       "      <th>Fuel_Type</th>\n",
       "      <th>Transmission</th>\n",
       "      <th>Owner_Type</th>\n",
       "      <th>Mileage</th>\n",
       "      <th>Engine</th>\n",
       "      <th>Power</th>\n",
       "      <th>Seats</th>\n",
       "      <th>Price</th>\n",
       "      <th>Brand</th>\n",
       "    </tr>\n",
       "  </thead>\n",
       "  <tbody>\n",
       "    <tr>\n",
       "      <th>0</th>\n",
       "      <td>Maruti Wagon</td>\n",
       "      <td>Mumbai</td>\n",
       "      <td>2010</td>\n",
       "      <td>72000</td>\n",
       "      <td>CNG</td>\n",
       "      <td>Manual</td>\n",
       "      <td>First</td>\n",
       "      <td>26.6</td>\n",
       "      <td>998</td>\n",
       "      <td>58.16</td>\n",
       "      <td>5</td>\n",
       "      <td>1.75</td>\n",
       "      <td>Maruti</td>\n",
       "    </tr>\n",
       "    <tr>\n",
       "      <th>1</th>\n",
       "      <td>Hyundai Creta</td>\n",
       "      <td>Pune</td>\n",
       "      <td>2015</td>\n",
       "      <td>41000</td>\n",
       "      <td>Diesel</td>\n",
       "      <td>Manual</td>\n",
       "      <td>First</td>\n",
       "      <td>19.67</td>\n",
       "      <td>1582</td>\n",
       "      <td>126.2</td>\n",
       "      <td>5</td>\n",
       "      <td>12.5</td>\n",
       "      <td>Hyundai</td>\n",
       "    </tr>\n",
       "    <tr>\n",
       "      <th>2</th>\n",
       "      <td>Honda Jazz</td>\n",
       "      <td>Chennai</td>\n",
       "      <td>2011</td>\n",
       "      <td>46000</td>\n",
       "      <td>Petrol</td>\n",
       "      <td>Manual</td>\n",
       "      <td>First</td>\n",
       "      <td>18.2</td>\n",
       "      <td>1199</td>\n",
       "      <td>88.7</td>\n",
       "      <td>5</td>\n",
       "      <td>4.5</td>\n",
       "      <td>Honda</td>\n",
       "    </tr>\n",
       "    <tr>\n",
       "      <th>3</th>\n",
       "      <td>Maruti Ertiga</td>\n",
       "      <td>Chennai</td>\n",
       "      <td>2012</td>\n",
       "      <td>87000</td>\n",
       "      <td>Diesel</td>\n",
       "      <td>Manual</td>\n",
       "      <td>First</td>\n",
       "      <td>20.77</td>\n",
       "      <td>1248</td>\n",
       "      <td>88.76</td>\n",
       "      <td>7</td>\n",
       "      <td>6.0</td>\n",
       "      <td>Maruti</td>\n",
       "    </tr>\n",
       "    <tr>\n",
       "      <th>4</th>\n",
       "      <td>Audi A4</td>\n",
       "      <td>Coimbatore</td>\n",
       "      <td>2013</td>\n",
       "      <td>40670</td>\n",
       "      <td>Diesel</td>\n",
       "      <td>Automatic</td>\n",
       "      <td>Second</td>\n",
       "      <td>15.2</td>\n",
       "      <td>1968</td>\n",
       "      <td>140.8</td>\n",
       "      <td>5</td>\n",
       "      <td>17.74</td>\n",
       "      <td>Audi</td>\n",
       "    </tr>\n",
       "    <tr>\n",
       "      <th>...</th>\n",
       "      <td>...</td>\n",
       "      <td>...</td>\n",
       "      <td>...</td>\n",
       "      <td>...</td>\n",
       "      <td>...</td>\n",
       "      <td>...</td>\n",
       "      <td>...</td>\n",
       "      <td>...</td>\n",
       "      <td>...</td>\n",
       "      <td>...</td>\n",
       "      <td>...</td>\n",
       "      <td>...</td>\n",
       "      <td>...</td>\n",
       "    </tr>\n",
       "    <tr>\n",
       "      <th>6014</th>\n",
       "      <td>Maruti Swift</td>\n",
       "      <td>Delhi</td>\n",
       "      <td>2014</td>\n",
       "      <td>27365</td>\n",
       "      <td>Diesel</td>\n",
       "      <td>Manual</td>\n",
       "      <td>First</td>\n",
       "      <td>28.4</td>\n",
       "      <td>1248</td>\n",
       "      <td>74.0</td>\n",
       "      <td>5</td>\n",
       "      <td>4.75</td>\n",
       "      <td>Maruti</td>\n",
       "    </tr>\n",
       "    <tr>\n",
       "      <th>6015</th>\n",
       "      <td>Hyundai Xcent</td>\n",
       "      <td>Jaipur</td>\n",
       "      <td>2015</td>\n",
       "      <td>100000</td>\n",
       "      <td>Diesel</td>\n",
       "      <td>Manual</td>\n",
       "      <td>First</td>\n",
       "      <td>24.4</td>\n",
       "      <td>1120</td>\n",
       "      <td>71.0</td>\n",
       "      <td>5</td>\n",
       "      <td>4.0</td>\n",
       "      <td>Hyundai</td>\n",
       "    </tr>\n",
       "    <tr>\n",
       "      <th>6016</th>\n",
       "      <td>Mahindra Xylo</td>\n",
       "      <td>Jaipur</td>\n",
       "      <td>2012</td>\n",
       "      <td>55000</td>\n",
       "      <td>Diesel</td>\n",
       "      <td>Manual</td>\n",
       "      <td>Second</td>\n",
       "      <td>14.0</td>\n",
       "      <td>2498</td>\n",
       "      <td>112.0</td>\n",
       "      <td>8</td>\n",
       "      <td>2.9</td>\n",
       "      <td>Mahindra</td>\n",
       "    </tr>\n",
       "    <tr>\n",
       "      <th>6017</th>\n",
       "      <td>Maruti Wagon</td>\n",
       "      <td>Kolkata</td>\n",
       "      <td>2013</td>\n",
       "      <td>46000</td>\n",
       "      <td>Petrol</td>\n",
       "      <td>Manual</td>\n",
       "      <td>First</td>\n",
       "      <td>18.9</td>\n",
       "      <td>998</td>\n",
       "      <td>67.1</td>\n",
       "      <td>5</td>\n",
       "      <td>2.65</td>\n",
       "      <td>Maruti</td>\n",
       "    </tr>\n",
       "    <tr>\n",
       "      <th>6018</th>\n",
       "      <td>Chevrolet Beat</td>\n",
       "      <td>Hyderabad</td>\n",
       "      <td>2011</td>\n",
       "      <td>47000</td>\n",
       "      <td>Diesel</td>\n",
       "      <td>Manual</td>\n",
       "      <td>First</td>\n",
       "      <td>25.44</td>\n",
       "      <td>936</td>\n",
       "      <td>57.6</td>\n",
       "      <td>5</td>\n",
       "      <td>2.5</td>\n",
       "      <td>Chevrolet</td>\n",
       "    </tr>\n",
       "  </tbody>\n",
       "</table>\n",
       "<p>5912 rows × 13 columns</p>\n",
       "</div>"
      ],
      "text/plain": [
       "                Name    Location  Year  Kilometers_Driven Fuel_Type  \\\n",
       "0       Maruti Wagon      Mumbai  2010              72000       CNG   \n",
       "1      Hyundai Creta        Pune  2015              41000    Diesel   \n",
       "2         Honda Jazz     Chennai  2011              46000    Petrol   \n",
       "3      Maruti Ertiga     Chennai  2012              87000    Diesel   \n",
       "4            Audi A4  Coimbatore  2013              40670    Diesel   \n",
       "...              ...         ...   ...                ...       ...   \n",
       "6014    Maruti Swift       Delhi  2014              27365    Diesel   \n",
       "6015   Hyundai Xcent      Jaipur  2015             100000    Diesel   \n",
       "6016   Mahindra Xylo      Jaipur  2012              55000    Diesel   \n",
       "6017    Maruti Wagon     Kolkata  2013              46000    Petrol   \n",
       "6018  Chevrolet Beat   Hyderabad  2011              47000    Diesel   \n",
       "\n",
       "     Transmission Owner_Type  Mileage  Engine  Power  Seats  Price      Brand  \n",
       "0          Manual      First     26.6     998  58.16      5   1.75     Maruti  \n",
       "1          Manual      First    19.67    1582  126.2      5   12.5    Hyundai  \n",
       "2          Manual      First     18.2    1199   88.7      5    4.5      Honda  \n",
       "3          Manual      First    20.77    1248  88.76      7    6.0     Maruti  \n",
       "4       Automatic     Second     15.2    1968  140.8      5  17.74       Audi  \n",
       "...           ...        ...      ...     ...    ...    ...    ...        ...  \n",
       "6014       Manual      First     28.4    1248   74.0      5   4.75     Maruti  \n",
       "6015       Manual      First     24.4    1120   71.0      5    4.0    Hyundai  \n",
       "6016       Manual     Second     14.0    2498  112.0      8    2.9   Mahindra  \n",
       "6017       Manual      First     18.9     998   67.1      5   2.65     Maruti  \n",
       "6018       Manual      First    25.44     936   57.6      5    2.5  Chevrolet  \n",
       "\n",
       "[5912 rows x 13 columns]"
      ]
     },
     "execution_count": 37,
     "metadata": {},
     "output_type": "execute_result"
    }
   ],
   "source": [
    "df"
   ]
  },
  {
   "cell_type": "markdown",
   "id": "146e4c9b",
   "metadata": {},
   "source": [
    "# Data Pre-processing "
   ]
  },
  {
   "cell_type": "markdown",
   "id": "cbf11ae4",
   "metadata": {},
   "source": [
    "## converting categorical to numerical "
   ]
  },
  {
   "cell_type": "code",
   "execution_count": 38,
   "id": "bb0c4f16",
   "metadata": {
    "ExecuteTime": {
     "end_time": "2022-11-30T14:27:28.320278Z",
     "start_time": "2022-11-30T14:27:28.308701Z"
    }
   },
   "outputs": [],
   "source": [
    "transformation = {\n",
    "    \"First\":3,\n",
    "    \"Second\":2,\n",
    "    \"Third\":1,\n",
    "    \"Fourth & Above\":0\n",
    "}"
   ]
  },
  {
   "cell_type": "code",
   "execution_count": 39,
   "id": "0f375013",
   "metadata": {
    "ExecuteTime": {
     "end_time": "2022-11-30T14:27:28.335605Z",
     "start_time": "2022-11-30T14:27:28.322277Z"
    }
   },
   "outputs": [],
   "source": [
    "df['Owner_Type'] = df['Owner_Type'].map(transformation)"
   ]
  },
  {
   "cell_type": "code",
   "execution_count": 40,
   "id": "eab6910f",
   "metadata": {
    "ExecuteTime": {
     "end_time": "2022-11-30T14:27:28.489864Z",
     "start_time": "2022-11-30T14:27:28.337609Z"
    }
   },
   "outputs": [],
   "source": [
    "import category_encoders as ce"
   ]
  },
  {
   "cell_type": "code",
   "execution_count": 41,
   "id": "08fe23a2",
   "metadata": {
    "ExecuteTime": {
     "end_time": "2022-11-30T14:27:28.707865Z",
     "start_time": "2022-11-30T14:27:28.493153Z"
    }
   },
   "outputs": [],
   "source": [
    "Nominal_data = ['Name','Location','Fuel_Type','Transmission','Brand']\n",
    "binaryencoder = ce.BinaryEncoder(cols=Nominal_data)\n",
    "df = binaryencoder.fit_transform(df)"
   ]
  },
  {
   "cell_type": "code",
   "execution_count": 42,
   "id": "c1ce98b1",
   "metadata": {
    "ExecuteTime": {
     "end_time": "2022-11-30T14:27:28.723833Z",
     "start_time": "2022-11-30T14:27:28.710887Z"
    }
   },
   "outputs": [],
   "source": [
    "Numerical_data = ['Year','Kilometers_Driven','Mileage','Engine','Power','Seats','Price']"
   ]
  },
  {
   "cell_type": "code",
   "execution_count": 43,
   "id": "50c84eee",
   "metadata": {
    "ExecuteTime": {
     "end_time": "2022-11-30T14:27:28.738515Z",
     "start_time": "2022-11-30T14:27:28.725721Z"
    }
   },
   "outputs": [],
   "source": [
    "from sklearn.preprocessing import PowerTransformer"
   ]
  },
  {
   "cell_type": "code",
   "execution_count": 44,
   "id": "5a17a576",
   "metadata": {
    "ExecuteTime": {
     "end_time": "2022-11-30T14:27:29.109787Z",
     "start_time": "2022-11-30T14:27:28.740551Z"
    }
   },
   "outputs": [
    {
     "name": "stderr",
     "output_type": "stream",
     "text": [
      "C:\\Users\\SNEHIT REDDY\\AppData\\Local\\Programs\\Python\\Python310\\lib\\site-packages\\sklearn\\preprocessing\\_data.py:3211: RuntimeWarning: overflow encountered in power\n",
      "  out[pos] = (np.power(x[pos] + 1, lmbda) - 1) / lmbda\n",
      "C:\\Users\\SNEHIT REDDY\\AppData\\Local\\Programs\\Python\\Python310\\lib\\site-packages\\numpy\\core\\_methods.py:236: RuntimeWarning: overflow encountered in multiply\n",
      "  x = um.multiply(x, x, out=x)\n",
      "C:\\Users\\SNEHIT REDDY\\AppData\\Local\\Programs\\Python\\Python310\\lib\\site-packages\\numpy\\core\\_methods.py:247: RuntimeWarning: overflow encountered in reduce\n",
      "  ret = umr_sum(x, axis, dtype, out, keepdims=keepdims, where=where)\n"
     ]
    }
   ],
   "source": [
    "new_df = pd.DataFrame(PowerTransformer().fit_transform(df), columns=df.columns, index=df.index)"
   ]
  },
  {
   "cell_type": "code",
   "execution_count": 45,
   "id": "3608442a",
   "metadata": {
    "ExecuteTime": {
     "end_time": "2022-11-30T14:27:29.125409Z",
     "start_time": "2022-11-30T14:27:29.111707Z"
    }
   },
   "outputs": [
    {
     "data": {
      "text/plain": [
       "(5912, 30)"
      ]
     },
     "execution_count": 45,
     "metadata": {},
     "output_type": "execute_result"
    }
   ],
   "source": [
    "new_df.shape"
   ]
  },
  {
   "cell_type": "markdown",
   "id": "b401e634",
   "metadata": {},
   "source": [
    "# splitting the data"
   ]
  },
  {
   "cell_type": "code",
   "execution_count": 46,
   "id": "de945511",
   "metadata": {
    "ExecuteTime": {
     "end_time": "2022-11-30T14:27:29.141335Z",
     "start_time": "2022-11-30T14:27:29.128755Z"
    }
   },
   "outputs": [],
   "source": [
    "from sklearn.model_selection import train_test_split"
   ]
  },
  {
   "cell_type": "code",
   "execution_count": 47,
   "id": "09e5d2d2",
   "metadata": {
    "ExecuteTime": {
     "end_time": "2022-11-30T14:27:29.157620Z",
     "start_time": "2022-11-30T14:27:29.145319Z"
    }
   },
   "outputs": [],
   "source": [
    "X, y = new_df.drop(\"Price\",axis=1) , new_df[\"Price\"]"
   ]
  },
  {
   "cell_type": "code",
   "execution_count": 48,
   "id": "a3bccb26",
   "metadata": {
    "ExecuteTime": {
     "end_time": "2022-11-30T14:27:29.173129Z",
     "start_time": "2022-11-30T14:27:29.161563Z"
    }
   },
   "outputs": [],
   "source": [
    "X_train, X_test, y_train, y_test = train_test_split(X, y, test_size=0.1, random_state=2)"
   ]
  },
  {
   "cell_type": "code",
   "execution_count": 49,
   "id": "f24ad8e7",
   "metadata": {
    "ExecuteTime": {
     "end_time": "2022-11-30T14:27:29.189180Z",
     "start_time": "2022-11-30T14:27:29.175079Z"
    }
   },
   "outputs": [
    {
     "data": {
      "text/plain": [
       "(5320, 29)"
      ]
     },
     "execution_count": 49,
     "metadata": {},
     "output_type": "execute_result"
    }
   ],
   "source": [
    "X_train.shape"
   ]
  },
  {
   "cell_type": "code",
   "execution_count": 50,
   "id": "ba7a78a0",
   "metadata": {
    "ExecuteTime": {
     "end_time": "2022-11-30T14:27:29.205208Z",
     "start_time": "2022-11-30T14:27:29.192155Z"
    }
   },
   "outputs": [
    {
     "data": {
      "text/plain": [
       "(592, 29)"
      ]
     },
     "execution_count": 50,
     "metadata": {},
     "output_type": "execute_result"
    }
   ],
   "source": [
    "X_test.shape"
   ]
  },
  {
   "cell_type": "code",
   "execution_count": 51,
   "id": "29e612e6",
   "metadata": {
    "ExecuteTime": {
     "end_time": "2022-11-30T14:27:29.220278Z",
     "start_time": "2022-11-30T14:27:29.208722Z"
    }
   },
   "outputs": [
    {
     "data": {
      "text/plain": [
       "(592,)"
      ]
     },
     "execution_count": 51,
     "metadata": {},
     "output_type": "execute_result"
    }
   ],
   "source": [
    "y_test.shape"
   ]
  },
  {
   "cell_type": "code",
   "execution_count": 52,
   "id": "2397ac84",
   "metadata": {
    "ExecuteTime": {
     "end_time": "2022-11-30T14:27:29.236168Z",
     "start_time": "2022-11-30T14:27:29.222625Z"
    }
   },
   "outputs": [
    {
     "data": {
      "text/plain": [
       "(5320,)"
      ]
     },
     "execution_count": 52,
     "metadata": {},
     "output_type": "execute_result"
    }
   ],
   "source": [
    "y_train.shape"
   ]
  },
  {
   "cell_type": "markdown",
   "id": "c85c72b4",
   "metadata": {},
   "source": [
    "# Applying Standard Scalar"
   ]
  },
  {
   "cell_type": "code",
   "execution_count": 53,
   "id": "00b6d4ba",
   "metadata": {
    "ExecuteTime": {
     "end_time": "2022-11-30T14:27:29.267578Z",
     "start_time": "2022-11-30T14:27:29.239708Z"
    }
   },
   "outputs": [],
   "source": [
    "from sklearn.preprocessing import StandardScaler\n",
    "\n",
    "scaler = StandardScaler()\n",
    "\n",
    "# fit the scaler to the train set, it will learn the parameters\n",
    "scaler.fit(X_train)\n",
    "\n",
    "# transform train and test sets\n",
    "X_train_scaled = scaler.transform(X_train)\n",
    "X_test_scaled = scaler.transform(X_test)"
   ]
  },
  {
   "cell_type": "code",
   "execution_count": 54,
   "id": "7f5e05ba",
   "metadata": {
    "ExecuteTime": {
     "end_time": "2022-11-30T14:27:29.283323Z",
     "start_time": "2022-11-30T14:27:29.271279Z"
    }
   },
   "outputs": [
    {
     "data": {
      "text/plain": [
       "array([-0.00949434,  0.00208955,  0.00905834, -0.00184291, -0.00328928,\n",
       "       -0.00736779, -0.00284878, -0.00111997,  0.00042886, -0.00626659,\n",
       "       -0.00186139,  0.00344421,  0.00348911, -0.00479766, -0.00333437,\n",
       "        0.00584403, -0.00057637,  0.00266544, -0.00266544, -0.0009842 ,\n",
       "        0.00158574, -0.00083258,  0.00323177, -0.00366751, -0.0043158 ,\n",
       "        0.00076986,  0.0027894 ,  0.00261987, -0.00100608])"
      ]
     },
     "execution_count": 54,
     "metadata": {},
     "output_type": "execute_result"
    }
   ],
   "source": [
    "#checking the mean value after scaling\n",
    "scaler.mean_"
   ]
  },
  {
   "cell_type": "code",
   "execution_count": 55,
   "id": "a6ab1e65",
   "metadata": {
    "ExecuteTime": {
     "end_time": "2022-11-30T14:27:29.330972Z",
     "start_time": "2022-11-30T14:27:29.287333Z"
    }
   },
   "outputs": [
    {
     "data": {
      "text/html": [
       "<div>\n",
       "<style scoped>\n",
       "    .dataframe tbody tr th:only-of-type {\n",
       "        vertical-align: middle;\n",
       "    }\n",
       "\n",
       "    .dataframe tbody tr th {\n",
       "        vertical-align: top;\n",
       "    }\n",
       "\n",
       "    .dataframe thead th {\n",
       "        text-align: right;\n",
       "    }\n",
       "</style>\n",
       "<table border=\"1\" class=\"dataframe\">\n",
       "  <thead>\n",
       "    <tr style=\"text-align: right;\">\n",
       "      <th></th>\n",
       "      <th>Name_0</th>\n",
       "      <th>Name_1</th>\n",
       "      <th>Name_2</th>\n",
       "      <th>Name_3</th>\n",
       "      <th>Name_4</th>\n",
       "      <th>Name_5</th>\n",
       "      <th>Name_6</th>\n",
       "      <th>Name_7</th>\n",
       "      <th>Location_0</th>\n",
       "      <th>Location_1</th>\n",
       "      <th>...</th>\n",
       "      <th>Owner_Type</th>\n",
       "      <th>Mileage</th>\n",
       "      <th>Engine</th>\n",
       "      <th>Power</th>\n",
       "      <th>Seats</th>\n",
       "      <th>Brand_0</th>\n",
       "      <th>Brand_1</th>\n",
       "      <th>Brand_2</th>\n",
       "      <th>Brand_3</th>\n",
       "      <th>Brand_4</th>\n",
       "    </tr>\n",
       "  </thead>\n",
       "  <tbody>\n",
       "    <tr>\n",
       "      <th>5469</th>\n",
       "      <td>-0.285649</td>\n",
       "      <td>-0.502800</td>\n",
       "      <td>-0.733199</td>\n",
       "      <td>1.149022</td>\n",
       "      <td>-0.932262</td>\n",
       "      <td>0.995275</td>\n",
       "      <td>1.105315</td>\n",
       "      <td>-1.073755</td>\n",
       "      <td>-0.621684</td>\n",
       "      <td>-0.827533</td>\n",
       "      <td>...</td>\n",
       "      <td>-2.151627</td>\n",
       "      <td>0.032941</td>\n",
       "      <td>-0.707831</td>\n",
       "      <td>-0.572966</td>\n",
       "      <td>-0.293644</td>\n",
       "      <td>-0.289785</td>\n",
       "      <td>-0.605492</td>\n",
       "      <td>-0.864915</td>\n",
       "      <td>0.909677</td>\n",
       "      <td>-1.085881</td>\n",
       "    </tr>\n",
       "    <tr>\n",
       "      <th>1090</th>\n",
       "      <td>-0.285649</td>\n",
       "      <td>1.988863</td>\n",
       "      <td>-0.733199</td>\n",
       "      <td>1.149022</td>\n",
       "      <td>-0.932262</td>\n",
       "      <td>-1.004747</td>\n",
       "      <td>-0.904720</td>\n",
       "      <td>0.931311</td>\n",
       "      <td>1.608533</td>\n",
       "      <td>-0.827533</td>\n",
       "      <td>...</td>\n",
       "      <td>-2.151627</td>\n",
       "      <td>-0.592089</td>\n",
       "      <td>0.761287</td>\n",
       "      <td>1.245652</td>\n",
       "      <td>-0.293644</td>\n",
       "      <td>-0.289785</td>\n",
       "      <td>-0.605492</td>\n",
       "      <td>1.156183</td>\n",
       "      <td>-1.099292</td>\n",
       "      <td>-1.085881</td>\n",
       "    </tr>\n",
       "    <tr>\n",
       "      <th>4223</th>\n",
       "      <td>3.500801</td>\n",
       "      <td>-0.502800</td>\n",
       "      <td>1.363886</td>\n",
       "      <td>-0.870305</td>\n",
       "      <td>1.072660</td>\n",
       "      <td>0.995275</td>\n",
       "      <td>-0.904720</td>\n",
       "      <td>0.931311</td>\n",
       "      <td>-0.621684</td>\n",
       "      <td>1.208411</td>\n",
       "      <td>...</td>\n",
       "      <td>0.464175</td>\n",
       "      <td>-1.561889</td>\n",
       "      <td>1.900284</td>\n",
       "      <td>1.855968</td>\n",
       "      <td>-2.121572</td>\n",
       "      <td>-0.289785</td>\n",
       "      <td>1.651550</td>\n",
       "      <td>1.156183</td>\n",
       "      <td>-1.099292</td>\n",
       "      <td>0.920911</td>\n",
       "    </tr>\n",
       "    <tr>\n",
       "      <th>2714</th>\n",
       "      <td>-0.285649</td>\n",
       "      <td>-0.502800</td>\n",
       "      <td>-0.733199</td>\n",
       "      <td>1.149022</td>\n",
       "      <td>-0.932262</td>\n",
       "      <td>0.995275</td>\n",
       "      <td>1.105315</td>\n",
       "      <td>-1.073755</td>\n",
       "      <td>-0.621684</td>\n",
       "      <td>-0.827533</td>\n",
       "      <td>...</td>\n",
       "      <td>0.464175</td>\n",
       "      <td>-0.265404</td>\n",
       "      <td>-0.707831</td>\n",
       "      <td>-0.511262</td>\n",
       "      <td>-0.293644</td>\n",
       "      <td>-0.289785</td>\n",
       "      <td>-0.605492</td>\n",
       "      <td>-0.864915</td>\n",
       "      <td>0.909677</td>\n",
       "      <td>-1.085881</td>\n",
       "    </tr>\n",
       "    <tr>\n",
       "      <th>4193</th>\n",
       "      <td>-0.285649</td>\n",
       "      <td>1.988863</td>\n",
       "      <td>1.363886</td>\n",
       "      <td>-0.870305</td>\n",
       "      <td>-0.932262</td>\n",
       "      <td>-1.004747</td>\n",
       "      <td>-0.904720</td>\n",
       "      <td>-1.073755</td>\n",
       "      <td>-0.621684</td>\n",
       "      <td>1.208411</td>\n",
       "      <td>...</td>\n",
       "      <td>0.464175</td>\n",
       "      <td>-0.317284</td>\n",
       "      <td>0.761287</td>\n",
       "      <td>0.755996</td>\n",
       "      <td>-0.293644</td>\n",
       "      <td>-0.289785</td>\n",
       "      <td>-0.605492</td>\n",
       "      <td>1.156183</td>\n",
       "      <td>0.909677</td>\n",
       "      <td>0.920911</td>\n",
       "    </tr>\n",
       "    <tr>\n",
       "      <th>...</th>\n",
       "      <td>...</td>\n",
       "      <td>...</td>\n",
       "      <td>...</td>\n",
       "      <td>...</td>\n",
       "      <td>...</td>\n",
       "      <td>...</td>\n",
       "      <td>...</td>\n",
       "      <td>...</td>\n",
       "      <td>...</td>\n",
       "      <td>...</td>\n",
       "      <td>...</td>\n",
       "      <td>...</td>\n",
       "      <td>...</td>\n",
       "      <td>...</td>\n",
       "      <td>...</td>\n",
       "      <td>...</td>\n",
       "      <td>...</td>\n",
       "      <td>...</td>\n",
       "      <td>...</td>\n",
       "      <td>...</td>\n",
       "      <td>...</td>\n",
       "    </tr>\n",
       "    <tr>\n",
       "      <th>1125</th>\n",
       "      <td>-0.285649</td>\n",
       "      <td>-0.502800</td>\n",
       "      <td>-0.733199</td>\n",
       "      <td>-0.870305</td>\n",
       "      <td>1.072660</td>\n",
       "      <td>0.995275</td>\n",
       "      <td>-0.904720</td>\n",
       "      <td>0.931311</td>\n",
       "      <td>1.608533</td>\n",
       "      <td>-0.827533</td>\n",
       "      <td>...</td>\n",
       "      <td>0.464175</td>\n",
       "      <td>1.971095</td>\n",
       "      <td>-0.579346</td>\n",
       "      <td>-0.786274</td>\n",
       "      <td>-0.293644</td>\n",
       "      <td>-0.289785</td>\n",
       "      <td>-0.605492</td>\n",
       "      <td>-0.864915</td>\n",
       "      <td>-1.099292</td>\n",
       "      <td>0.920911</td>\n",
       "    </tr>\n",
       "    <tr>\n",
       "      <th>2567</th>\n",
       "      <td>-0.285649</td>\n",
       "      <td>-0.502800</td>\n",
       "      <td>1.363886</td>\n",
       "      <td>-0.870305</td>\n",
       "      <td>-0.932262</td>\n",
       "      <td>0.995275</td>\n",
       "      <td>-0.904720</td>\n",
       "      <td>0.931311</td>\n",
       "      <td>-0.621684</td>\n",
       "      <td>1.208411</td>\n",
       "      <td>...</td>\n",
       "      <td>0.464175</td>\n",
       "      <td>0.335960</td>\n",
       "      <td>-1.011347</td>\n",
       "      <td>-1.022662</td>\n",
       "      <td>-0.293644</td>\n",
       "      <td>-0.289785</td>\n",
       "      <td>-0.605492</td>\n",
       "      <td>-0.864915</td>\n",
       "      <td>0.909677</td>\n",
       "      <td>-1.085881</td>\n",
       "    </tr>\n",
       "    <tr>\n",
       "      <th>3678</th>\n",
       "      <td>-0.285649</td>\n",
       "      <td>-0.502800</td>\n",
       "      <td>1.363886</td>\n",
       "      <td>-0.870305</td>\n",
       "      <td>-0.932262</td>\n",
       "      <td>-1.004747</td>\n",
       "      <td>-0.904720</td>\n",
       "      <td>0.931311</td>\n",
       "      <td>-0.621684</td>\n",
       "      <td>-0.827533</td>\n",
       "      <td>...</td>\n",
       "      <td>0.464175</td>\n",
       "      <td>0.171162</td>\n",
       "      <td>-0.707831</td>\n",
       "      <td>-0.506695</td>\n",
       "      <td>-0.293644</td>\n",
       "      <td>-0.289785</td>\n",
       "      <td>-0.605492</td>\n",
       "      <td>-0.864915</td>\n",
       "      <td>0.909677</td>\n",
       "      <td>-1.085881</td>\n",
       "    </tr>\n",
       "    <tr>\n",
       "      <th>5805</th>\n",
       "      <td>-0.285649</td>\n",
       "      <td>1.988863</td>\n",
       "      <td>-0.733199</td>\n",
       "      <td>-0.870305</td>\n",
       "      <td>-0.932262</td>\n",
       "      <td>-1.004747</td>\n",
       "      <td>-0.904720</td>\n",
       "      <td>0.931311</td>\n",
       "      <td>-0.621684</td>\n",
       "      <td>1.208411</td>\n",
       "      <td>...</td>\n",
       "      <td>0.464175</td>\n",
       "      <td>-0.662833</td>\n",
       "      <td>0.162133</td>\n",
       "      <td>0.089299</td>\n",
       "      <td>-0.293644</td>\n",
       "      <td>3.450840</td>\n",
       "      <td>-0.605492</td>\n",
       "      <td>1.156183</td>\n",
       "      <td>-1.099292</td>\n",
       "      <td>0.920911</td>\n",
       "    </tr>\n",
       "    <tr>\n",
       "      <th>2630</th>\n",
       "      <td>-0.285649</td>\n",
       "      <td>1.988863</td>\n",
       "      <td>-0.733199</td>\n",
       "      <td>-0.870305</td>\n",
       "      <td>1.072660</td>\n",
       "      <td>-1.004747</td>\n",
       "      <td>-0.904720</td>\n",
       "      <td>0.931311</td>\n",
       "      <td>-0.621684</td>\n",
       "      <td>1.208411</td>\n",
       "      <td>...</td>\n",
       "      <td>0.464175</td>\n",
       "      <td>-1.206291</td>\n",
       "      <td>0.162133</td>\n",
       "      <td>0.065029</td>\n",
       "      <td>-0.293644</td>\n",
       "      <td>3.450840</td>\n",
       "      <td>-0.605492</td>\n",
       "      <td>1.156183</td>\n",
       "      <td>-1.099292</td>\n",
       "      <td>-1.085881</td>\n",
       "    </tr>\n",
       "  </tbody>\n",
       "</table>\n",
       "<p>5320 rows × 29 columns</p>\n",
       "</div>"
      ],
      "text/plain": [
       "        Name_0    Name_1    Name_2    Name_3    Name_4    Name_5    Name_6  \\\n",
       "5469 -0.285649 -0.502800 -0.733199  1.149022 -0.932262  0.995275  1.105315   \n",
       "1090 -0.285649  1.988863 -0.733199  1.149022 -0.932262 -1.004747 -0.904720   \n",
       "4223  3.500801 -0.502800  1.363886 -0.870305  1.072660  0.995275 -0.904720   \n",
       "2714 -0.285649 -0.502800 -0.733199  1.149022 -0.932262  0.995275  1.105315   \n",
       "4193 -0.285649  1.988863  1.363886 -0.870305 -0.932262 -1.004747 -0.904720   \n",
       "...        ...       ...       ...       ...       ...       ...       ...   \n",
       "1125 -0.285649 -0.502800 -0.733199 -0.870305  1.072660  0.995275 -0.904720   \n",
       "2567 -0.285649 -0.502800  1.363886 -0.870305 -0.932262  0.995275 -0.904720   \n",
       "3678 -0.285649 -0.502800  1.363886 -0.870305 -0.932262 -1.004747 -0.904720   \n",
       "5805 -0.285649  1.988863 -0.733199 -0.870305 -0.932262 -1.004747 -0.904720   \n",
       "2630 -0.285649  1.988863 -0.733199 -0.870305  1.072660 -1.004747 -0.904720   \n",
       "\n",
       "        Name_7  Location_0  Location_1  ...  Owner_Type   Mileage    Engine  \\\n",
       "5469 -1.073755   -0.621684   -0.827533  ...   -2.151627  0.032941 -0.707831   \n",
       "1090  0.931311    1.608533   -0.827533  ...   -2.151627 -0.592089  0.761287   \n",
       "4223  0.931311   -0.621684    1.208411  ...    0.464175 -1.561889  1.900284   \n",
       "2714 -1.073755   -0.621684   -0.827533  ...    0.464175 -0.265404 -0.707831   \n",
       "4193 -1.073755   -0.621684    1.208411  ...    0.464175 -0.317284  0.761287   \n",
       "...        ...         ...         ...  ...         ...       ...       ...   \n",
       "1125  0.931311    1.608533   -0.827533  ...    0.464175  1.971095 -0.579346   \n",
       "2567  0.931311   -0.621684    1.208411  ...    0.464175  0.335960 -1.011347   \n",
       "3678  0.931311   -0.621684   -0.827533  ...    0.464175  0.171162 -0.707831   \n",
       "5805  0.931311   -0.621684    1.208411  ...    0.464175 -0.662833  0.162133   \n",
       "2630  0.931311   -0.621684    1.208411  ...    0.464175 -1.206291  0.162133   \n",
       "\n",
       "         Power     Seats   Brand_0   Brand_1   Brand_2   Brand_3   Brand_4  \n",
       "5469 -0.572966 -0.293644 -0.289785 -0.605492 -0.864915  0.909677 -1.085881  \n",
       "1090  1.245652 -0.293644 -0.289785 -0.605492  1.156183 -1.099292 -1.085881  \n",
       "4223  1.855968 -2.121572 -0.289785  1.651550  1.156183 -1.099292  0.920911  \n",
       "2714 -0.511262 -0.293644 -0.289785 -0.605492 -0.864915  0.909677 -1.085881  \n",
       "4193  0.755996 -0.293644 -0.289785 -0.605492  1.156183  0.909677  0.920911  \n",
       "...        ...       ...       ...       ...       ...       ...       ...  \n",
       "1125 -0.786274 -0.293644 -0.289785 -0.605492 -0.864915 -1.099292  0.920911  \n",
       "2567 -1.022662 -0.293644 -0.289785 -0.605492 -0.864915  0.909677 -1.085881  \n",
       "3678 -0.506695 -0.293644 -0.289785 -0.605492 -0.864915  0.909677 -1.085881  \n",
       "5805  0.089299 -0.293644  3.450840 -0.605492  1.156183 -1.099292  0.920911  \n",
       "2630  0.065029 -0.293644  3.450840 -0.605492  1.156183 -1.099292 -1.085881  \n",
       "\n",
       "[5320 rows x 29 columns]"
      ]
     },
     "execution_count": 55,
     "metadata": {},
     "output_type": "execute_result"
    }
   ],
   "source": [
    "X_train"
   ]
  },
  {
   "cell_type": "code",
   "execution_count": 56,
   "id": "53c64d06",
   "metadata": {
    "ExecuteTime": {
     "end_time": "2022-11-30T14:27:29.346473Z",
     "start_time": "2022-11-30T14:27:29.332955Z"
    }
   },
   "outputs": [
    {
     "data": {
      "text/plain": [
       "array([[-0.28048157, -0.50410853, -0.74017667, ..., -0.86735556,\n",
       "         0.90728527, -1.08478542],\n",
       "       [-0.28048157,  1.98369981, -0.74017667, ...,  1.15292972,\n",
       "        -1.10218918, -1.08478542],\n",
       "       [ 3.56529665, -0.50410853,  1.3510288 , ...,  1.15292972,\n",
       "        -1.10218918,  0.9218413 ],\n",
       "       ...,\n",
       "       [-0.28048157, -0.50410853,  1.3510288 , ..., -0.86735556,\n",
       "         0.90728527, -1.08478542],\n",
       "       [-0.28048157,  1.98369981, -0.74017667, ...,  1.15292972,\n",
       "        -1.10218918,  0.9218413 ],\n",
       "       [-0.28048157,  1.98369981, -0.74017667, ...,  1.15292972,\n",
       "        -1.10218918, -1.08478542]])"
      ]
     },
     "execution_count": 56,
     "metadata": {},
     "output_type": "execute_result"
    }
   ],
   "source": [
    "X_train_scaled"
   ]
  },
  {
   "cell_type": "code",
   "execution_count": 57,
   "id": "01d5421f",
   "metadata": {
    "ExecuteTime": {
     "end_time": "2022-11-30T14:27:29.440054Z",
     "start_time": "2022-11-30T14:27:29.348919Z"
    }
   },
   "outputs": [
    {
     "data": {
      "text/html": [
       "<div>\n",
       "<style scoped>\n",
       "    .dataframe tbody tr th:only-of-type {\n",
       "        vertical-align: middle;\n",
       "    }\n",
       "\n",
       "    .dataframe tbody tr th {\n",
       "        vertical-align: top;\n",
       "    }\n",
       "\n",
       "    .dataframe thead th {\n",
       "        text-align: right;\n",
       "    }\n",
       "</style>\n",
       "<table border=\"1\" class=\"dataframe\">\n",
       "  <thead>\n",
       "    <tr style=\"text-align: right;\">\n",
       "      <th></th>\n",
       "      <th>Name_0</th>\n",
       "      <th>Name_1</th>\n",
       "      <th>Name_2</th>\n",
       "      <th>Name_3</th>\n",
       "      <th>Name_4</th>\n",
       "      <th>Name_5</th>\n",
       "      <th>Name_6</th>\n",
       "      <th>Name_7</th>\n",
       "      <th>Location_0</th>\n",
       "      <th>Location_1</th>\n",
       "      <th>...</th>\n",
       "      <th>Owner_Type</th>\n",
       "      <th>Mileage</th>\n",
       "      <th>Engine</th>\n",
       "      <th>Power</th>\n",
       "      <th>Seats</th>\n",
       "      <th>Brand_0</th>\n",
       "      <th>Brand_1</th>\n",
       "      <th>Brand_2</th>\n",
       "      <th>Brand_3</th>\n",
       "      <th>Brand_4</th>\n",
       "    </tr>\n",
       "  </thead>\n",
       "  <tbody>\n",
       "    <tr>\n",
       "      <th>count</th>\n",
       "      <td>5320.000000</td>\n",
       "      <td>5320.000000</td>\n",
       "      <td>5320.000000</td>\n",
       "      <td>5320.000000</td>\n",
       "      <td>5320.000000</td>\n",
       "      <td>5320.000000</td>\n",
       "      <td>5320.000000</td>\n",
       "      <td>5320.000000</td>\n",
       "      <td>5320.000000</td>\n",
       "      <td>5320.000000</td>\n",
       "      <td>...</td>\n",
       "      <td>5320.000000</td>\n",
       "      <td>5320.000000</td>\n",
       "      <td>5320.000000</td>\n",
       "      <td>5320.000000</td>\n",
       "      <td>5320.000000</td>\n",
       "      <td>5320.000000</td>\n",
       "      <td>5320.000000</td>\n",
       "      <td>5320.000000</td>\n",
       "      <td>5320.000000</td>\n",
       "      <td>5320.000000</td>\n",
       "    </tr>\n",
       "    <tr>\n",
       "      <th>mean</th>\n",
       "      <td>-0.009494</td>\n",
       "      <td>0.002090</td>\n",
       "      <td>0.009058</td>\n",
       "      <td>-0.001843</td>\n",
       "      <td>-0.003289</td>\n",
       "      <td>-0.007368</td>\n",
       "      <td>-0.002849</td>\n",
       "      <td>-0.001120</td>\n",
       "      <td>0.000429</td>\n",
       "      <td>-0.006267</td>\n",
       "      <td>...</td>\n",
       "      <td>-0.000984</td>\n",
       "      <td>0.001586</td>\n",
       "      <td>-0.000833</td>\n",
       "      <td>0.003232</td>\n",
       "      <td>-0.003668</td>\n",
       "      <td>-0.004316</td>\n",
       "      <td>0.000770</td>\n",
       "      <td>0.002789</td>\n",
       "      <td>0.002620</td>\n",
       "      <td>-0.001006</td>\n",
       "    </tr>\n",
       "    <tr>\n",
       "      <th>std</th>\n",
       "      <td>0.984666</td>\n",
       "      <td>1.001643</td>\n",
       "      <td>1.002906</td>\n",
       "      <td>0.999835</td>\n",
       "      <td>0.999858</td>\n",
       "      <td>1.000102</td>\n",
       "      <td>0.999804</td>\n",
       "      <td>1.000173</td>\n",
       "      <td>1.000306</td>\n",
       "      <td>0.998880</td>\n",
       "      <td>...</td>\n",
       "      <td>1.000962</td>\n",
       "      <td>0.996682</td>\n",
       "      <td>1.001523</td>\n",
       "      <td>1.000423</td>\n",
       "      <td>0.999665</td>\n",
       "      <td>0.993239</td>\n",
       "      <td>1.000496</td>\n",
       "      <td>1.000496</td>\n",
       "      <td>0.999842</td>\n",
       "      <td>1.000176</td>\n",
       "    </tr>\n",
       "    <tr>\n",
       "      <th>min</th>\n",
       "      <td>-0.285649</td>\n",
       "      <td>-0.502800</td>\n",
       "      <td>-0.733199</td>\n",
       "      <td>-0.870305</td>\n",
       "      <td>-0.932262</td>\n",
       "      <td>-1.004747</td>\n",
       "      <td>-0.904720</td>\n",
       "      <td>-1.073755</td>\n",
       "      <td>-0.621684</td>\n",
       "      <td>-0.827533</td>\n",
       "      <td>...</td>\n",
       "      <td>-2.177255</td>\n",
       "      <td>-3.508993</td>\n",
       "      <td>-12.025037</td>\n",
       "      <td>-3.264415</td>\n",
       "      <td>-9.283368</td>\n",
       "      <td>-0.289785</td>\n",
       "      <td>-0.605492</td>\n",
       "      <td>-0.864915</td>\n",
       "      <td>-1.099292</td>\n",
       "      <td>-1.085881</td>\n",
       "    </tr>\n",
       "    <tr>\n",
       "      <th>25%</th>\n",
       "      <td>-0.285649</td>\n",
       "      <td>-0.502800</td>\n",
       "      <td>-0.733199</td>\n",
       "      <td>-0.870305</td>\n",
       "      <td>-0.932262</td>\n",
       "      <td>-1.004747</td>\n",
       "      <td>-0.904720</td>\n",
       "      <td>-1.073755</td>\n",
       "      <td>-0.621684</td>\n",
       "      <td>-0.827533</td>\n",
       "      <td>...</td>\n",
       "      <td>0.464175</td>\n",
       "      <td>-0.689281</td>\n",
       "      <td>-0.705250</td>\n",
       "      <td>-0.749103</td>\n",
       "      <td>-0.293644</td>\n",
       "      <td>-0.289785</td>\n",
       "      <td>-0.605492</td>\n",
       "      <td>-0.864915</td>\n",
       "      <td>-1.099292</td>\n",
       "      <td>-1.085881</td>\n",
       "    </tr>\n",
       "    <tr>\n",
       "      <th>50%</th>\n",
       "      <td>-0.285649</td>\n",
       "      <td>-0.502800</td>\n",
       "      <td>-0.733199</td>\n",
       "      <td>-0.870305</td>\n",
       "      <td>-0.932262</td>\n",
       "      <td>-1.004747</td>\n",
       "      <td>-0.904720</td>\n",
       "      <td>0.931311</td>\n",
       "      <td>-0.621684</td>\n",
       "      <td>-0.827533</td>\n",
       "      <td>...</td>\n",
       "      <td>0.464175</td>\n",
       "      <td>-0.035804</td>\n",
       "      <td>-0.038390</td>\n",
       "      <td>-0.151070</td>\n",
       "      <td>-0.293644</td>\n",
       "      <td>-0.289785</td>\n",
       "      <td>-0.605492</td>\n",
       "      <td>-0.864915</td>\n",
       "      <td>0.909677</td>\n",
       "      <td>0.920911</td>\n",
       "    </tr>\n",
       "    <tr>\n",
       "      <th>75%</th>\n",
       "      <td>-0.285649</td>\n",
       "      <td>-0.502800</td>\n",
       "      <td>1.363886</td>\n",
       "      <td>1.149022</td>\n",
       "      <td>1.072660</td>\n",
       "      <td>0.995275</td>\n",
       "      <td>1.105315</td>\n",
       "      <td>0.931311</td>\n",
       "      <td>1.608533</td>\n",
       "      <td>1.208411</td>\n",
       "      <td>...</td>\n",
       "      <td>0.464175</td>\n",
       "      <td>0.638697</td>\n",
       "      <td>0.762721</td>\n",
       "      <td>0.757107</td>\n",
       "      <td>-0.293644</td>\n",
       "      <td>-0.289785</td>\n",
       "      <td>1.651550</td>\n",
       "      <td>1.156183</td>\n",
       "      <td>0.909677</td>\n",
       "      <td>0.920911</td>\n",
       "    </tr>\n",
       "    <tr>\n",
       "      <th>max</th>\n",
       "      <td>3.500801</td>\n",
       "      <td>1.988863</td>\n",
       "      <td>1.363886</td>\n",
       "      <td>1.149022</td>\n",
       "      <td>1.072660</td>\n",
       "      <td>0.995275</td>\n",
       "      <td>1.105315</td>\n",
       "      <td>0.931311</td>\n",
       "      <td>1.608533</td>\n",
       "      <td>1.208411</td>\n",
       "      <td>...</td>\n",
       "      <td>0.464175</td>\n",
       "      <td>3.747239</td>\n",
       "      <td>3.606094</td>\n",
       "      <td>3.128203</td>\n",
       "      <td>3.948278</td>\n",
       "      <td>3.450840</td>\n",
       "      <td>1.651550</td>\n",
       "      <td>1.156183</td>\n",
       "      <td>0.909677</td>\n",
       "      <td>0.920911</td>\n",
       "    </tr>\n",
       "  </tbody>\n",
       "</table>\n",
       "<p>8 rows × 29 columns</p>\n",
       "</div>"
      ],
      "text/plain": [
       "            Name_0       Name_1       Name_2       Name_3       Name_4  \\\n",
       "count  5320.000000  5320.000000  5320.000000  5320.000000  5320.000000   \n",
       "mean     -0.009494     0.002090     0.009058    -0.001843    -0.003289   \n",
       "std       0.984666     1.001643     1.002906     0.999835     0.999858   \n",
       "min      -0.285649    -0.502800    -0.733199    -0.870305    -0.932262   \n",
       "25%      -0.285649    -0.502800    -0.733199    -0.870305    -0.932262   \n",
       "50%      -0.285649    -0.502800    -0.733199    -0.870305    -0.932262   \n",
       "75%      -0.285649    -0.502800     1.363886     1.149022     1.072660   \n",
       "max       3.500801     1.988863     1.363886     1.149022     1.072660   \n",
       "\n",
       "            Name_5       Name_6       Name_7   Location_0   Location_1  ...  \\\n",
       "count  5320.000000  5320.000000  5320.000000  5320.000000  5320.000000  ...   \n",
       "mean     -0.007368    -0.002849    -0.001120     0.000429    -0.006267  ...   \n",
       "std       1.000102     0.999804     1.000173     1.000306     0.998880  ...   \n",
       "min      -1.004747    -0.904720    -1.073755    -0.621684    -0.827533  ...   \n",
       "25%      -1.004747    -0.904720    -1.073755    -0.621684    -0.827533  ...   \n",
       "50%      -1.004747    -0.904720     0.931311    -0.621684    -0.827533  ...   \n",
       "75%       0.995275     1.105315     0.931311     1.608533     1.208411  ...   \n",
       "max       0.995275     1.105315     0.931311     1.608533     1.208411  ...   \n",
       "\n",
       "        Owner_Type      Mileage       Engine        Power        Seats  \\\n",
       "count  5320.000000  5320.000000  5320.000000  5320.000000  5320.000000   \n",
       "mean     -0.000984     0.001586    -0.000833     0.003232    -0.003668   \n",
       "std       1.000962     0.996682     1.001523     1.000423     0.999665   \n",
       "min      -2.177255    -3.508993   -12.025037    -3.264415    -9.283368   \n",
       "25%       0.464175    -0.689281    -0.705250    -0.749103    -0.293644   \n",
       "50%       0.464175    -0.035804    -0.038390    -0.151070    -0.293644   \n",
       "75%       0.464175     0.638697     0.762721     0.757107    -0.293644   \n",
       "max       0.464175     3.747239     3.606094     3.128203     3.948278   \n",
       "\n",
       "           Brand_0      Brand_1      Brand_2      Brand_3      Brand_4  \n",
       "count  5320.000000  5320.000000  5320.000000  5320.000000  5320.000000  \n",
       "mean     -0.004316     0.000770     0.002789     0.002620    -0.001006  \n",
       "std       0.993239     1.000496     1.000496     0.999842     1.000176  \n",
       "min      -0.289785    -0.605492    -0.864915    -1.099292    -1.085881  \n",
       "25%      -0.289785    -0.605492    -0.864915    -1.099292    -1.085881  \n",
       "50%      -0.289785    -0.605492    -0.864915     0.909677     0.920911  \n",
       "75%      -0.289785     1.651550     1.156183     0.909677     0.920911  \n",
       "max       3.450840     1.651550     1.156183     0.909677     0.920911  \n",
       "\n",
       "[8 rows x 29 columns]"
      ]
     },
     "execution_count": 57,
     "metadata": {},
     "output_type": "execute_result"
    }
   ],
   "source": [
    "X_train.describe()"
   ]
  },
  {
   "cell_type": "code",
   "execution_count": 58,
   "id": "8c937a4a",
   "metadata": {
    "ExecuteTime": {
     "end_time": "2022-11-30T14:27:29.455564Z",
     "start_time": "2022-11-30T14:27:29.444020Z"
    }
   },
   "outputs": [],
   "source": [
    "# converting the Scaled data to dataframe because it will give np arrays as output\n",
    "X_train_scaled = pd.DataFrame(X_train_scaled, columns=X_train.columns)\n",
    "X_test_scaled = pd.DataFrame(X_test_scaled, columns=X_test.columns)"
   ]
  },
  {
   "cell_type": "code",
   "execution_count": 59,
   "id": "bdd45df0",
   "metadata": {
    "ExecuteTime": {
     "end_time": "2022-11-30T14:27:29.565145Z",
     "start_time": "2022-11-30T14:27:29.458609Z"
    }
   },
   "outputs": [
    {
     "data": {
      "text/html": [
       "<div>\n",
       "<style scoped>\n",
       "    .dataframe tbody tr th:only-of-type {\n",
       "        vertical-align: middle;\n",
       "    }\n",
       "\n",
       "    .dataframe tbody tr th {\n",
       "        vertical-align: top;\n",
       "    }\n",
       "\n",
       "    .dataframe thead th {\n",
       "        text-align: right;\n",
       "    }\n",
       "</style>\n",
       "<table border=\"1\" class=\"dataframe\">\n",
       "  <thead>\n",
       "    <tr style=\"text-align: right;\">\n",
       "      <th></th>\n",
       "      <th>Name_0</th>\n",
       "      <th>Name_1</th>\n",
       "      <th>Name_2</th>\n",
       "      <th>Name_3</th>\n",
       "      <th>Name_4</th>\n",
       "      <th>Name_5</th>\n",
       "      <th>Name_6</th>\n",
       "      <th>Name_7</th>\n",
       "      <th>Location_0</th>\n",
       "      <th>Location_1</th>\n",
       "      <th>...</th>\n",
       "      <th>Owner_Type</th>\n",
       "      <th>Mileage</th>\n",
       "      <th>Engine</th>\n",
       "      <th>Power</th>\n",
       "      <th>Seats</th>\n",
       "      <th>Brand_0</th>\n",
       "      <th>Brand_1</th>\n",
       "      <th>Brand_2</th>\n",
       "      <th>Brand_3</th>\n",
       "      <th>Brand_4</th>\n",
       "    </tr>\n",
       "  </thead>\n",
       "  <tbody>\n",
       "    <tr>\n",
       "      <th>count</th>\n",
       "      <td>5.320000e+03</td>\n",
       "      <td>5.320000e+03</td>\n",
       "      <td>5.320000e+03</td>\n",
       "      <td>5.320000e+03</td>\n",
       "      <td>5.320000e+03</td>\n",
       "      <td>5.320000e+03</td>\n",
       "      <td>5.320000e+03</td>\n",
       "      <td>5.320000e+03</td>\n",
       "      <td>5.320000e+03</td>\n",
       "      <td>5.320000e+03</td>\n",
       "      <td>...</td>\n",
       "      <td>5.320000e+03</td>\n",
       "      <td>5.320000e+03</td>\n",
       "      <td>5.320000e+03</td>\n",
       "      <td>5.320000e+03</td>\n",
       "      <td>5.320000e+03</td>\n",
       "      <td>5.320000e+03</td>\n",
       "      <td>5.320000e+03</td>\n",
       "      <td>5.320000e+03</td>\n",
       "      <td>5.320000e+03</td>\n",
       "      <td>5.320000e+03</td>\n",
       "    </tr>\n",
       "    <tr>\n",
       "      <th>mean</th>\n",
       "      <td>3.672918e-17</td>\n",
       "      <td>1.335607e-18</td>\n",
       "      <td>-3.372407e-17</td>\n",
       "      <td>5.475987e-17</td>\n",
       "      <td>-2.070190e-17</td>\n",
       "      <td>-5.876669e-17</td>\n",
       "      <td>9.215686e-17</td>\n",
       "      <td>4.674623e-17</td>\n",
       "      <td>1.669508e-17</td>\n",
       "      <td>6.544473e-17</td>\n",
       "      <td>...</td>\n",
       "      <td>1.202046e-17</td>\n",
       "      <td>2.337312e-18</td>\n",
       "      <td>6.678033e-19</td>\n",
       "      <td>-2.938335e-17</td>\n",
       "      <td>-3.873259e-17</td>\n",
       "      <td>-3.940040e-17</td>\n",
       "      <td>1.068485e-17</td>\n",
       "      <td>7.212276e-17</td>\n",
       "      <td>-8.147201e-17</td>\n",
       "      <td>8.681443e-18</td>\n",
       "    </tr>\n",
       "    <tr>\n",
       "      <th>std</th>\n",
       "      <td>1.000094e+00</td>\n",
       "      <td>1.000094e+00</td>\n",
       "      <td>1.000094e+00</td>\n",
       "      <td>1.000094e+00</td>\n",
       "      <td>1.000094e+00</td>\n",
       "      <td>1.000094e+00</td>\n",
       "      <td>1.000094e+00</td>\n",
       "      <td>1.000094e+00</td>\n",
       "      <td>1.000094e+00</td>\n",
       "      <td>1.000094e+00</td>\n",
       "      <td>...</td>\n",
       "      <td>1.000094e+00</td>\n",
       "      <td>1.000094e+00</td>\n",
       "      <td>1.000094e+00</td>\n",
       "      <td>1.000094e+00</td>\n",
       "      <td>1.000094e+00</td>\n",
       "      <td>1.000094e+00</td>\n",
       "      <td>1.000094e+00</td>\n",
       "      <td>1.000094e+00</td>\n",
       "      <td>1.000094e+00</td>\n",
       "      <td>1.000094e+00</td>\n",
       "    </tr>\n",
       "    <tr>\n",
       "      <th>min</th>\n",
       "      <td>-2.804816e-01</td>\n",
       "      <td>-5.041085e-01</td>\n",
       "      <td>-7.401767e-01</td>\n",
       "      <td>-8.686872e-01</td>\n",
       "      <td>-9.291919e-01</td>\n",
       "      <td>-9.973719e-01</td>\n",
       "      <td>-9.021322e-01</td>\n",
       "      <td>-1.072550e+00</td>\n",
       "      <td>-6.219818e-01</td>\n",
       "      <td>-8.222642e-01</td>\n",
       "      <td>...</td>\n",
       "      <td>-2.174383e+00</td>\n",
       "      <td>-3.522596e+00</td>\n",
       "      <td>-1.200705e+01</td>\n",
       "      <td>-3.266572e+00</td>\n",
       "      <td>-9.283684e+00</td>\n",
       "      <td>-2.874388e-01</td>\n",
       "      <td>-6.060180e-01</td>\n",
       "      <td>-8.673556e-01</td>\n",
       "      <td>-1.102189e+00</td>\n",
       "      <td>-1.084785e+00</td>\n",
       "    </tr>\n",
       "    <tr>\n",
       "      <th>25%</th>\n",
       "      <td>-2.804816e-01</td>\n",
       "      <td>-5.041085e-01</td>\n",
       "      <td>-7.401767e-01</td>\n",
       "      <td>-8.686872e-01</td>\n",
       "      <td>-9.291919e-01</td>\n",
       "      <td>-9.973719e-01</td>\n",
       "      <td>-9.021322e-01</td>\n",
       "      <td>-1.072550e+00</td>\n",
       "      <td>-6.219818e-01</td>\n",
       "      <td>-8.222642e-01</td>\n",
       "      <td>...</td>\n",
       "      <td>4.647553e-01</td>\n",
       "      <td>-6.932313e-01</td>\n",
       "      <td>-7.034126e-01</td>\n",
       "      <td>-7.520870e-01</td>\n",
       "      <td>-2.901014e-01</td>\n",
       "      <td>-2.874388e-01</td>\n",
       "      <td>-6.060180e-01</td>\n",
       "      <td>-8.673556e-01</td>\n",
       "      <td>-1.102189e+00</td>\n",
       "      <td>-1.084785e+00</td>\n",
       "    </tr>\n",
       "    <tr>\n",
       "      <th>50%</th>\n",
       "      <td>-2.804816e-01</td>\n",
       "      <td>-5.041085e-01</td>\n",
       "      <td>-7.401767e-01</td>\n",
       "      <td>-8.686872e-01</td>\n",
       "      <td>-9.291919e-01</td>\n",
       "      <td>-9.973719e-01</td>\n",
       "      <td>-9.021322e-01</td>\n",
       "      <td>9.323574e-01</td>\n",
       "      <td>-6.219818e-01</td>\n",
       "      <td>-8.222642e-01</td>\n",
       "      <td>...</td>\n",
       "      <td>4.647553e-01</td>\n",
       "      <td>-3.751760e-02</td>\n",
       "      <td>-3.750402e-02</td>\n",
       "      <td>-1.542508e-01</td>\n",
       "      <td>-2.901014e-01</td>\n",
       "      <td>-2.874388e-01</td>\n",
       "      <td>-6.060180e-01</td>\n",
       "      <td>-8.673556e-01</td>\n",
       "      <td>9.072853e-01</td>\n",
       "      <td>9.218413e-01</td>\n",
       "    </tr>\n",
       "    <tr>\n",
       "      <th>75%</th>\n",
       "      <td>-2.804816e-01</td>\n",
       "      <td>-5.041085e-01</td>\n",
       "      <td>1.351029e+00</td>\n",
       "      <td>1.151162e+00</td>\n",
       "      <td>1.076204e+00</td>\n",
       "      <td>1.002635e+00</td>\n",
       "      <td>1.108485e+00</td>\n",
       "      <td>9.323574e-01</td>\n",
       "      <td>1.607764e+00</td>\n",
       "      <td>1.216154e+00</td>\n",
       "      <td>...</td>\n",
       "      <td>4.647553e-01</td>\n",
       "      <td>6.392923e-01</td>\n",
       "      <td>7.624639e-01</td>\n",
       "      <td>7.536276e-01</td>\n",
       "      <td>-2.901014e-01</td>\n",
       "      <td>-2.874388e-01</td>\n",
       "      <td>1.650116e+00</td>\n",
       "      <td>1.152930e+00</td>\n",
       "      <td>9.072853e-01</td>\n",
       "      <td>9.218413e-01</td>\n",
       "    </tr>\n",
       "    <tr>\n",
       "      <th>max</th>\n",
       "      <td>3.565297e+00</td>\n",
       "      <td>1.983700e+00</td>\n",
       "      <td>1.351029e+00</td>\n",
       "      <td>1.151162e+00</td>\n",
       "      <td>1.076204e+00</td>\n",
       "      <td>1.002635e+00</td>\n",
       "      <td>1.108485e+00</td>\n",
       "      <td>9.323574e-01</td>\n",
       "      <td>1.607764e+00</td>\n",
       "      <td>1.216154e+00</td>\n",
       "      <td>...</td>\n",
       "      <td>4.647553e-01</td>\n",
       "      <td>3.758475e+00</td>\n",
       "      <td>3.601781e+00</td>\n",
       "      <td>3.123945e+00</td>\n",
       "      <td>3.953642e+00</td>\n",
       "      <td>3.479001e+00</td>\n",
       "      <td>1.650116e+00</td>\n",
       "      <td>1.152930e+00</td>\n",
       "      <td>9.072853e-01</td>\n",
       "      <td>9.218413e-01</td>\n",
       "    </tr>\n",
       "  </tbody>\n",
       "</table>\n",
       "<p>8 rows × 29 columns</p>\n",
       "</div>"
      ],
      "text/plain": [
       "             Name_0        Name_1        Name_2        Name_3        Name_4  \\\n",
       "count  5.320000e+03  5.320000e+03  5.320000e+03  5.320000e+03  5.320000e+03   \n",
       "mean   3.672918e-17  1.335607e-18 -3.372407e-17  5.475987e-17 -2.070190e-17   \n",
       "std    1.000094e+00  1.000094e+00  1.000094e+00  1.000094e+00  1.000094e+00   \n",
       "min   -2.804816e-01 -5.041085e-01 -7.401767e-01 -8.686872e-01 -9.291919e-01   \n",
       "25%   -2.804816e-01 -5.041085e-01 -7.401767e-01 -8.686872e-01 -9.291919e-01   \n",
       "50%   -2.804816e-01 -5.041085e-01 -7.401767e-01 -8.686872e-01 -9.291919e-01   \n",
       "75%   -2.804816e-01 -5.041085e-01  1.351029e+00  1.151162e+00  1.076204e+00   \n",
       "max    3.565297e+00  1.983700e+00  1.351029e+00  1.151162e+00  1.076204e+00   \n",
       "\n",
       "             Name_5        Name_6        Name_7    Location_0    Location_1  \\\n",
       "count  5.320000e+03  5.320000e+03  5.320000e+03  5.320000e+03  5.320000e+03   \n",
       "mean  -5.876669e-17  9.215686e-17  4.674623e-17  1.669508e-17  6.544473e-17   \n",
       "std    1.000094e+00  1.000094e+00  1.000094e+00  1.000094e+00  1.000094e+00   \n",
       "min   -9.973719e-01 -9.021322e-01 -1.072550e+00 -6.219818e-01 -8.222642e-01   \n",
       "25%   -9.973719e-01 -9.021322e-01 -1.072550e+00 -6.219818e-01 -8.222642e-01   \n",
       "50%   -9.973719e-01 -9.021322e-01  9.323574e-01 -6.219818e-01 -8.222642e-01   \n",
       "75%    1.002635e+00  1.108485e+00  9.323574e-01  1.607764e+00  1.216154e+00   \n",
       "max    1.002635e+00  1.108485e+00  9.323574e-01  1.607764e+00  1.216154e+00   \n",
       "\n",
       "       ...    Owner_Type       Mileage        Engine         Power  \\\n",
       "count  ...  5.320000e+03  5.320000e+03  5.320000e+03  5.320000e+03   \n",
       "mean   ...  1.202046e-17  2.337312e-18  6.678033e-19 -2.938335e-17   \n",
       "std    ...  1.000094e+00  1.000094e+00  1.000094e+00  1.000094e+00   \n",
       "min    ... -2.174383e+00 -3.522596e+00 -1.200705e+01 -3.266572e+00   \n",
       "25%    ...  4.647553e-01 -6.932313e-01 -7.034126e-01 -7.520870e-01   \n",
       "50%    ...  4.647553e-01 -3.751760e-02 -3.750402e-02 -1.542508e-01   \n",
       "75%    ...  4.647553e-01  6.392923e-01  7.624639e-01  7.536276e-01   \n",
       "max    ...  4.647553e-01  3.758475e+00  3.601781e+00  3.123945e+00   \n",
       "\n",
       "              Seats       Brand_0       Brand_1       Brand_2       Brand_3  \\\n",
       "count  5.320000e+03  5.320000e+03  5.320000e+03  5.320000e+03  5.320000e+03   \n",
       "mean  -3.873259e-17 -3.940040e-17  1.068485e-17  7.212276e-17 -8.147201e-17   \n",
       "std    1.000094e+00  1.000094e+00  1.000094e+00  1.000094e+00  1.000094e+00   \n",
       "min   -9.283684e+00 -2.874388e-01 -6.060180e-01 -8.673556e-01 -1.102189e+00   \n",
       "25%   -2.901014e-01 -2.874388e-01 -6.060180e-01 -8.673556e-01 -1.102189e+00   \n",
       "50%   -2.901014e-01 -2.874388e-01 -6.060180e-01 -8.673556e-01  9.072853e-01   \n",
       "75%   -2.901014e-01 -2.874388e-01  1.650116e+00  1.152930e+00  9.072853e-01   \n",
       "max    3.953642e+00  3.479001e+00  1.650116e+00  1.152930e+00  9.072853e-01   \n",
       "\n",
       "            Brand_4  \n",
       "count  5.320000e+03  \n",
       "mean   8.681443e-18  \n",
       "std    1.000094e+00  \n",
       "min   -1.084785e+00  \n",
       "25%   -1.084785e+00  \n",
       "50%    9.218413e-01  \n",
       "75%    9.218413e-01  \n",
       "max    9.218413e-01  \n",
       "\n",
       "[8 rows x 29 columns]"
      ]
     },
     "execution_count": 59,
     "metadata": {},
     "output_type": "execute_result"
    }
   ],
   "source": [
    "X_train_scaled.describe()"
   ]
  },
  {
   "cell_type": "markdown",
   "id": "8e5f494d",
   "metadata": {},
   "source": [
    "## Effect of Scaling"
   ]
  },
  {
   "cell_type": "code",
   "execution_count": 60,
   "id": "1e968fe6",
   "metadata": {
    "ExecuteTime": {
     "end_time": "2022-11-30T14:27:30.280903Z",
     "start_time": "2022-11-30T14:27:29.567718Z"
    }
   },
   "outputs": [
    {
     "data": {
      "image/png": "[encoded data removed]",
      "text/plain": [
       "<Figure size 864x360 with 2 Axes>"
      ]
     },
     "metadata": {
      "needs_background": "light"
     },
     "output_type": "display_data"
    }
   ],
   "source": [
    "fig, (ax1, ax2) = plt.subplots(ncols=2, figsize=(12, 5))\n",
    "\n",
    "ax1.scatter(X_train, X_train)\n",
    "ax1.set_title(\"Before Scaling\")\n",
    "ax2.scatter(X_train_scaled, X_train_scaled,color='red')\n",
    "ax2.set_title(\"After Scaling\")\n",
    "plt.show()\n",
    "\n",
    "\n",
    "# below we can observe that the origin has changed after scaling "
   ]
  },
  {
   "cell_type": "markdown",
   "id": "4d51fecb",
   "metadata": {},
   "source": [
    "# Model implementation\n",
    "\n",
    "## Linear regression"
   ]
  },
  {
   "cell_type": "code",
   "execution_count": 61,
   "id": "8969f593",
   "metadata": {
    "ExecuteTime": {
     "end_time": "2022-11-30T14:27:30.296309Z",
     "start_time": "2022-11-30T14:27:30.283786Z"
    }
   },
   "outputs": [],
   "source": [
    "from sklearn.linear_model import LinearRegression"
   ]
  },
  {
   "cell_type": "code",
   "execution_count": 62,
   "id": "b9d7ce93",
   "metadata": {
    "ExecuteTime": {
     "end_time": "2022-11-30T14:27:30.311979Z",
     "start_time": "2022-11-30T14:27:30.298435Z"
    }
   },
   "outputs": [],
   "source": [
    "lr = LinearRegression()\n",
    "lr_scaled = LinearRegression()"
   ]
  },
  {
   "cell_type": "code",
   "execution_count": 63,
   "id": "e324c048",
   "metadata": {
    "ExecuteTime": {
     "end_time": "2022-11-30T14:27:30.359862Z",
     "start_time": "2022-11-30T14:27:30.314956Z"
    }
   },
   "outputs": [
    {
     "data": {
      "text/html": [
       "<style>#sk-container-id-1 {color: black;background-color: white;}#sk-container-id-1 pre{padding: 0;}#sk-container-id-1 div.sk-toggleable {background-color: white;}#sk-container-id-1 label.sk-toggleable__label {cursor: pointer;display: block;width: 100%;margin-bottom: 0;padding: 0.3em;box-sizing: border-box;text-align: center;}#sk-container-id-1 label.sk-toggleable__label-arrow:before {content: \"▸\";float: left;margin-right: 0.25em;color: #696969;}#sk-container-id-1 label.sk-toggleable__label-arrow:hover:before {color: black;}#sk-container-id-1 div.sk-estimator:hover label.sk-toggleable__label-arrow:before {color: black;}#sk-container-id-1 div.sk-toggleable__content {max-height: 0;max-width: 0;overflow: hidden;text-align: left;background-color: #f0f8ff;}#sk-container-id-1 div.sk-toggleable__content pre {margin: 0.2em;color: black;border-radius: 0.25em;background-color: #f0f8ff;}#sk-container-id-1 input.sk-toggleable__control:checked~div.sk-toggleable__content {max-height: 200px;max-width: 100%;overflow: auto;}#sk-container-id-1 input.sk-toggleable__control:checked~label.sk-toggleable__label-arrow:before {content: \"▾\";}#sk-container-id-1 div.sk-estimator input.sk-toggleable__control:checked~label.sk-toggleable__label {background-color: #d4ebff;}#sk-container-id-1 div.sk-label input.sk-toggleable__control:checked~label.sk-toggleable__label {background-color: #d4ebff;}#sk-container-id-1 input.sk-hidden--visually {border: 0;clip: rect(1px 1px 1px 1px);clip: rect(1px, 1px, 1px, 1px);height: 1px;margin: -1px;overflow: hidden;padding: 0;position: absolute;width: 1px;}#sk-container-id-1 div.sk-estimator {font-family: monospace;background-color: #f0f8ff;border: 1px dotted black;border-radius: 0.25em;box-sizing: border-box;margin-bottom: 0.5em;}#sk-container-id-1 div.sk-estimator:hover {background-color: #d4ebff;}#sk-container-id-1 div.sk-parallel-item::after {content: \"\";width: 100%;border-bottom: 1px solid gray;flex-grow: 1;}#sk-container-id-1 div.sk-label:hover label.sk-toggleable__label {background-color: #d4ebff;}#sk-container-id-1 div.sk-serial::before {content: \"\";position: absolute;border-left: 1px solid gray;box-sizing: border-box;top: 0;bottom: 0;left: 50%;z-index: 0;}#sk-container-id-1 div.sk-serial {display: flex;flex-direction: column;align-items: center;background-color: white;padding-right: 0.2em;padding-left: 0.2em;position: relative;}#sk-container-id-1 div.sk-item {position: relative;z-index: 1;}#sk-container-id-1 div.sk-parallel {display: flex;align-items: stretch;justify-content: center;background-color: white;position: relative;}#sk-container-id-1 div.sk-item::before, #sk-container-id-1 div.sk-parallel-item::before {content: \"\";position: absolute;border-left: 1px solid gray;box-sizing: border-box;top: 0;bottom: 0;left: 50%;z-index: -1;}#sk-container-id-1 div.sk-parallel-item {display: flex;flex-direction: column;z-index: 1;position: relative;background-color: white;}#sk-container-id-1 div.sk-parallel-item:first-child::after {align-self: flex-end;width: 50%;}#sk-container-id-1 div.sk-parallel-item:last-child::after {align-self: flex-start;width: 50%;}#sk-container-id-1 div.sk-parallel-item:only-child::after {width: 0;}#sk-container-id-1 div.sk-dashed-wrapped {border: 1px dashed gray;margin: 0 0.4em 0.5em 0.4em;box-sizing: border-box;padding-bottom: 0.4em;background-color: white;}#sk-container-id-1 div.sk-label label {font-family: monospace;font-weight: bold;display: inline-block;line-height: 1.2em;}#sk-container-id-1 div.sk-label-container {text-align: center;}#sk-container-id-1 div.sk-container {/* jupyter's `normalize.less` sets `[hidden] { display: none; }` but bootstrap.min.css set `[hidden] { display: none !important; }` so we also need the `!important` here to be able to override the default hidden behavior on the sphinx rendered scikit-learn.org. See: https://github.com/scikit-learn/scikit-learn/issues/21755 */display: inline-block !important;position: relative;}#sk-container-id-1 div.sk-text-repr-fallback {display: none;}</style><div id=\"sk-container-id-1\" class=\"sk-top-container\"><div class=\"sk-text-repr-fallback\"><pre>LinearRegression()</pre><b>In a Jupyter environment, please rerun this cell to show the HTML representation or trust the notebook. <br />On GitHub, the HTML representation is unable to render, please try loading this page with nbviewer.org.</b></div><div class=\"sk-container\" hidden><div class=\"sk-item\"><div class=\"sk-estimator sk-toggleable\"><input class=\"sk-toggleable__control sk-hidden--visually\" id=\"sk-estimator-id-1\" type=\"checkbox\" checked><label for=\"sk-estimator-id-1\" class=\"sk-toggleable__label sk-toggleable__label-arrow\">LinearRegression</label><div class=\"sk-toggleable__content\"><pre>LinearRegression()</pre></div></div></div></div></div>"
      ],
      "text/plain": [
       "LinearRegression()"
      ]
     },
     "execution_count": 63,
     "metadata": {},
     "output_type": "execute_result"
    }
   ],
   "source": [
    "lr.fit(X_train,y_train)\n",
    "lr_scaled.fit(X_train_scaled,y_train)"
   ]
  },
  {
   "cell_type": "code",
   "execution_count": 64,
   "id": "c86891d1",
   "metadata": {
    "ExecuteTime": {
     "end_time": "2022-11-30T14:27:30.375504Z",
     "start_time": "2022-11-30T14:27:30.361862Z"
    }
   },
   "outputs": [],
   "source": [
    "y_pred_lr = lr.predict(X_test)\n",
    "y_pred_scaled_lr = lr_scaled.predict(X_test_scaled)"
   ]
  },
  {
   "cell_type": "code",
   "execution_count": 65,
   "id": "100fc73f",
   "metadata": {
    "ExecuteTime": {
     "end_time": "2022-11-30T14:27:30.391549Z",
     "start_time": "2022-11-30T14:27:30.378477Z"
    }
   },
   "outputs": [
    {
     "name": "stdout",
     "output_type": "stream",
     "text": [
      "Model Score for train data 88.16119652012527\n"
     ]
    }
   ],
   "source": [
    "Train_data_score = lr.score(X_train_scaled,y_train)*100\n",
    "print(\"Model Score for train data\",Train_data_score)"
   ]
  },
  {
   "cell_type": "code",
   "execution_count": 66,
   "id": "818f1fe8",
   "metadata": {
    "ExecuteTime": {
     "end_time": "2022-11-30T14:27:30.407705Z",
     "start_time": "2022-11-30T14:27:30.394589Z"
    }
   },
   "outputs": [
    {
     "name": "stdout",
     "output_type": "stream",
     "text": [
      "Actual 0.8664563056932694\n",
      "Scaled 0.866451043916974\n"
     ]
    }
   ],
   "source": [
    "from sklearn.metrics import r2_score\n",
    "print(\"Actual\",r2_score(y_test,y_pred_lr))\n",
    "print(\"Scaled\",r2_score(y_test,y_pred_scaled_lr))"
   ]
  },
  {
   "cell_type": "code",
   "execution_count": 67,
   "id": "3afae3f6",
   "metadata": {
    "ExecuteTime": {
     "end_time": "2022-11-30T14:27:30.423777Z",
     "start_time": "2022-11-30T14:27:30.409637Z"
    }
   },
   "outputs": [
    {
     "name": "stdout",
     "output_type": "stream",
     "text": [
      "Mean Absolute Error (MAE): 0.2655402289540377\n",
      "Mean Square Error (MSE): 0.13454544188848502\n",
      "Root Mean Square Error (RMSE): 0.3668043645984669\n"
     ]
    }
   ],
   "source": [
    "from sklearn import metrics\n",
    "MAE=metrics.mean_absolute_error(y_test,y_pred_lr)\n",
    "print(\"Mean Absolute Error (MAE):\",MAE)\n",
    "MSE=metrics.mean_squared_error(y_test,y_pred_lr)\n",
    "print(\"Mean Square Error (MSE):\",MSE)\n",
    "RMSE=np.sqrt(metrics.mean_squared_error(y_test,y_pred_lr))\n",
    "print(\"Root Mean Square Error (RMSE):\",RMSE)"
   ]
  },
  {
   "cell_type": "markdown",
   "id": "f1267691",
   "metadata": {},
   "source": [
    " "
   ]
  },
  {
   "cell_type": "markdown",
   "id": "f1a70aa4",
   "metadata": {},
   "source": [
    " "
   ]
  },
  {
   "cell_type": "markdown",
   "id": "31af666f",
   "metadata": {},
   "source": [
    " "
   ]
  },
  {
   "cell_type": "markdown",
   "id": "0291837d",
   "metadata": {},
   "source": [
    "## Ridge Regression"
   ]
  },
  {
   "cell_type": "code",
   "execution_count": 68,
   "id": "dfbf6ad3",
   "metadata": {
    "ExecuteTime": {
     "end_time": "2022-11-30T14:27:30.438948Z",
     "start_time": "2022-11-30T14:27:30.427685Z"
    }
   },
   "outputs": [],
   "source": [
    "from sklearn.linear_model import Ridge"
   ]
  },
  {
   "cell_type": "code",
   "execution_count": 69,
   "id": "24a45847",
   "metadata": {
    "ExecuteTime": {
     "end_time": "2022-11-30T14:27:30.454648Z",
     "start_time": "2022-11-30T14:27:30.441956Z"
    }
   },
   "outputs": [],
   "source": [
    "RR = Ridge(alpha=0.0001)\n",
    "RR_scaled = Ridge(alpha=0.0001)"
   ]
  },
  {
   "cell_type": "code",
   "execution_count": 70,
   "id": "afc23a43",
   "metadata": {
    "ExecuteTime": {
     "end_time": "2022-11-30T14:27:30.485448Z",
     "start_time": "2022-11-30T14:27:30.458158Z"
    }
   },
   "outputs": [
    {
     "data": {
      "text/html": [
       "<style>#sk-container-id-2 {color: black;background-color: white;}#sk-container-id-2 pre{padding: 0;}#sk-container-id-2 div.sk-toggleable {background-color: white;}#sk-container-id-2 label.sk-toggleable__label {cursor: pointer;display: block;width: 100%;margin-bottom: 0;padding: 0.3em;box-sizing: border-box;text-align: center;}#sk-container-id-2 label.sk-toggleable__label-arrow:before {content: \"▸\";float: left;margin-right: 0.25em;color: #696969;}#sk-container-id-2 label.sk-toggleable__label-arrow:hover:before {color: black;}#sk-container-id-2 div.sk-estimator:hover label.sk-toggleable__label-arrow:before {color: black;}#sk-container-id-2 div.sk-toggleable__content {max-height: 0;max-width: 0;overflow: hidden;text-align: left;background-color: #f0f8ff;}#sk-container-id-2 div.sk-toggleable__content pre {margin: 0.2em;color: black;border-radius: 0.25em;background-color: #f0f8ff;}#sk-container-id-2 input.sk-toggleable__control:checked~div.sk-toggleable__content {max-height: 200px;max-width: 100%;overflow: auto;}#sk-container-id-2 input.sk-toggleable__control:checked~label.sk-toggleable__label-arrow:before {content: \"▾\";}#sk-container-id-2 div.sk-estimator input.sk-toggleable__control:checked~label.sk-toggleable__label {background-color: #d4ebff;}#sk-container-id-2 div.sk-label input.sk-toggleable__control:checked~label.sk-toggleable__label {background-color: #d4ebff;}#sk-container-id-2 input.sk-hidden--visually {border: 0;clip: rect(1px 1px 1px 1px);clip: rect(1px, 1px, 1px, 1px);height: 1px;margin: -1px;overflow: hidden;padding: 0;position: absolute;width: 1px;}#sk-container-id-2 div.sk-estimator {font-family: monospace;background-color: #f0f8ff;border: 1px dotted black;border-radius: 0.25em;box-sizing: border-box;margin-bottom: 0.5em;}#sk-container-id-2 div.sk-estimator:hover {background-color: #d4ebff;}#sk-container-id-2 div.sk-parallel-item::after {content: \"\";width: 100%;border-bottom: 1px solid gray;flex-grow: 1;}#sk-container-id-2 div.sk-label:hover label.sk-toggleable__label {background-color: #d4ebff;}#sk-container-id-2 div.sk-serial::before {content: \"\";position: absolute;border-left: 1px solid gray;box-sizing: border-box;top: 0;bottom: 0;left: 50%;z-index: 0;}#sk-container-id-2 div.sk-serial {display: flex;flex-direction: column;align-items: center;background-color: white;padding-right: 0.2em;padding-left: 0.2em;position: relative;}#sk-container-id-2 div.sk-item {position: relative;z-index: 1;}#sk-container-id-2 div.sk-parallel {display: flex;align-items: stretch;justify-content: center;background-color: white;position: relative;}#sk-container-id-2 div.sk-item::before, #sk-container-id-2 div.sk-parallel-item::before {content: \"\";position: absolute;border-left: 1px solid gray;box-sizing: border-box;top: 0;bottom: 0;left: 50%;z-index: -1;}#sk-container-id-2 div.sk-parallel-item {display: flex;flex-direction: column;z-index: 1;position: relative;background-color: white;}#sk-container-id-2 div.sk-parallel-item:first-child::after {align-self: flex-end;width: 50%;}#sk-container-id-2 div.sk-parallel-item:last-child::after {align-self: flex-start;width: 50%;}#sk-container-id-2 div.sk-parallel-item:only-child::after {width: 0;}#sk-container-id-2 div.sk-dashed-wrapped {border: 1px dashed gray;margin: 0 0.4em 0.5em 0.4em;box-sizing: border-box;padding-bottom: 0.4em;background-color: white;}#sk-container-id-2 div.sk-label label {font-family: monospace;font-weight: bold;display: inline-block;line-height: 1.2em;}#sk-container-id-2 div.sk-label-container {text-align: center;}#sk-container-id-2 div.sk-container {/* jupyter's `normalize.less` sets `[hidden] { display: none; }` but bootstrap.min.css set `[hidden] { display: none !important; }` so we also need the `!important` here to be able to override the default hidden behavior on the sphinx rendered scikit-learn.org. See: https://github.com/scikit-learn/scikit-learn/issues/21755 */display: inline-block !important;position: relative;}#sk-container-id-2 div.sk-text-repr-fallback {display: none;}</style><div id=\"sk-container-id-2\" class=\"sk-top-container\"><div class=\"sk-text-repr-fallback\"><pre>Ridge(alpha=0.0001)</pre><b>In a Jupyter environment, please rerun this cell to show the HTML representation or trust the notebook. <br />On GitHub, the HTML representation is unable to render, please try loading this page with nbviewer.org.</b></div><div class=\"sk-container\" hidden><div class=\"sk-item\"><div class=\"sk-estimator sk-toggleable\"><input class=\"sk-toggleable__control sk-hidden--visually\" id=\"sk-estimator-id-2\" type=\"checkbox\" checked><label for=\"sk-estimator-id-2\" class=\"sk-toggleable__label sk-toggleable__label-arrow\">Ridge</label><div class=\"sk-toggleable__content\"><pre>Ridge(alpha=0.0001)</pre></div></div></div></div></div>"
      ],
      "text/plain": [
       "Ridge(alpha=0.0001)"
      ]
     },
     "execution_count": 70,
     "metadata": {},
     "output_type": "execute_result"
    }
   ],
   "source": [
    "RR.fit(X_train,y_train)\n",
    "RR_scaled.fit(X_train_scaled,y_train)"
   ]
  },
  {
   "cell_type": "code",
   "execution_count": 71,
   "id": "0279672f",
   "metadata": {
    "ExecuteTime": {
     "end_time": "2022-11-30T14:27:30.516250Z",
     "start_time": "2022-11-30T14:27:30.488492Z"
    }
   },
   "outputs": [],
   "source": [
    "y_pred_RR = RR.predict(X_test)\n",
    "y_pred_scaled_RR = RR_scaled.predict(X_test_scaled)"
   ]
  },
  {
   "cell_type": "code",
   "execution_count": 72,
   "id": "8fed990f",
   "metadata": {
    "ExecuteTime": {
     "end_time": "2022-11-30T14:27:30.531954Z",
     "start_time": "2022-11-30T14:27:30.518393Z"
    }
   },
   "outputs": [
    {
     "name": "stdout",
     "output_type": "stream",
     "text": [
      "Actual 0.8664551679245062\n",
      "Scaled 0.866455167925532\n"
     ]
    }
   ],
   "source": [
    "from sklearn.metrics import r2_score\n",
    "print(\"Actual\",r2_score(y_test,y_pred_RR))\n",
    "print(\"Scaled\",r2_score(y_test,y_pred_scaled_RR))"
   ]
  },
  {
   "cell_type": "code",
   "execution_count": 73,
   "id": "6e99c337",
   "metadata": {
    "ExecuteTime": {
     "end_time": "2022-11-30T14:27:30.547449Z",
     "start_time": "2022-11-30T14:27:30.535926Z"
    }
   },
   "outputs": [
    {
     "name": "stdout",
     "output_type": "stream",
     "text": [
      "Mean Absolute Error (MAE): 0.26553949817640965\n",
      "Mean Square Error (MSE): 0.13454658819196127\n",
      "Root Mean Square Error (RMSE): 0.3668059271494413\n"
     ]
    }
   ],
   "source": [
    "from sklearn import metrics\n",
    "MAE=metrics.mean_absolute_error(y_test,y_pred_RR)\n",
    "print(\"Mean Absolute Error (MAE):\",MAE)\n",
    "MSE=metrics.mean_squared_error(y_test,y_pred_RR)\n",
    "print(\"Mean Square Error (MSE):\",MSE)\n",
    "RMSE=np.sqrt(metrics.mean_squared_error(y_test,y_pred_RR))\n",
    "print(\"Root Mean Square Error (RMSE):\",RMSE)"
   ]
  },
  {
   "cell_type": "markdown",
   "id": "c21640df",
   "metadata": {},
   "source": [
    "### Before Scaling"
   ]
  },
  {
   "cell_type": "code",
   "execution_count": 74,
   "id": "bda10933",
   "metadata": {
    "ExecuteTime": {
     "end_time": "2022-11-30T14:27:30.734242Z",
     "start_time": "2022-11-30T14:27:30.550291Z"
    }
   },
   "outputs": [
    {
     "name": "stdout",
     "output_type": "stream",
     "text": [
      "Alpha:0.0001\n",
      ",train_score:88.160000,R2:86.650000,MAE:0.265539,MSE:0.134547,RMSE:0.366806\n",
      "Alpha:0.0010\n",
      ",train_score:88.160000,R2:86.650000,MAE:0.265539,MSE:0.134547,RMSE:0.366806\n",
      "Alpha:0.0100\n",
      ",train_score:88.160000,R2:86.650000,MAE:0.265539,MSE:0.134547,RMSE:0.366806\n",
      "Alpha:0.1000\n",
      ",train_score:88.160000,R2:86.650000,MAE:0.265539,MSE:0.134547,RMSE:0.366806\n",
      "Alpha:0.3000\n",
      ",train_score:88.160000,R2:86.650000,MAE:0.265539,MSE:0.134547,RMSE:0.366806\n",
      "Alpha:0.5000\n",
      ",train_score:88.160000,R2:86.650000,MAE:0.265539,MSE:0.134547,RMSE:0.366806\n",
      "Alpha:0.7000\n",
      ",train_score:88.160000,R2:86.650000,MAE:0.265539,MSE:0.134547,RMSE:0.366806\n",
      "Alpha:0.9000\n",
      ",train_score:88.160000,R2:86.650000,MAE:0.265539,MSE:0.134547,RMSE:0.366806\n",
      "Alpha:1.0000\n",
      ",train_score:88.160000,R2:86.650000,MAE:0.265539,MSE:0.134547,RMSE:0.366806\n",
      "Alpha:10.0000\n",
      ",train_score:88.160000,R2:86.660000,MAE:0.265539,MSE:0.134547,RMSE:0.366806\n",
      "Alpha:100.0000\n",
      ",train_score:88.130000,R2:86.740000,MAE:0.265539,MSE:0.134547,RMSE:0.366806\n"
     ]
    }
   ],
   "source": [
    "alphas = [0.0001,0.001,0.01,0.1,0.3,0.5,0.7,0.9,1,10,100]\n",
    "for a in alphas:\n",
    "    model = Ridge(alpha=a).fit(X_train,y_train)\n",
    "    train_score = round(model.score(X_train,y_train)*100,2)\n",
    "    score = round(model.score(X_test,y_test)*100,2)\n",
    "    Y_pred = model.predict(X_test)\n",
    "    mae=metrics.mean_absolute_error(y_test,y_pred_RR)\n",
    "    Mse=metrics.mean_squared_error(y_test,y_pred_RR)\n",
    "    print(\"Alpha:{0:.4f}\\n,train_score:{1:4f},R2:{2:4f},MAE:{3:4f},MSE:{4:4f},RMSE:{5:4f}\"\n",
    "         .format(a,train_score,score,mae,Mse,np.sqrt(Mse)))"
   ]
  },
  {
   "cell_type": "markdown",
   "id": "96471b38",
   "metadata": {},
   "source": [
    "### After Scaling"
   ]
  },
  {
   "cell_type": "code",
   "execution_count": 75,
   "id": "16973ed9",
   "metadata": {
    "ExecuteTime": {
     "end_time": "2022-11-30T14:27:30.951107Z",
     "start_time": "2022-11-30T14:27:30.738621Z"
    }
   },
   "outputs": [
    {
     "name": "stdout",
     "output_type": "stream",
     "text": [
      "Alpha:0.0000\n",
      ",train_score:88.130000,R2:86.740000,MAE:0.265539,MSE:0.134547,RMSE:0.366806\n",
      "Alpha:0.0001\n",
      ",train_score:88.130000,R2:86.740000,MAE:0.265539,MSE:0.134547,RMSE:0.366806\n",
      "Alpha:0.0010\n",
      ",train_score:88.130000,R2:86.740000,MAE:0.265539,MSE:0.134547,RMSE:0.366806\n",
      "Alpha:0.0100\n",
      ",train_score:88.130000,R2:86.740000,MAE:0.265539,MSE:0.134547,RMSE:0.366806\n",
      "Alpha:0.1000\n",
      ",train_score:88.130000,R2:86.740000,MAE:0.265539,MSE:0.134547,RMSE:0.366806\n",
      "Alpha:0.3000\n",
      ",train_score:88.130000,R2:86.740000,MAE:0.265539,MSE:0.134547,RMSE:0.366806\n",
      "Alpha:0.5000\n",
      ",train_score:88.130000,R2:86.740000,MAE:0.265539,MSE:0.134547,RMSE:0.366806\n",
      "Alpha:0.7000\n",
      ",train_score:88.130000,R2:86.740000,MAE:0.265539,MSE:0.134547,RMSE:0.366806\n",
      "Alpha:0.9000\n",
      ",train_score:88.130000,R2:86.740000,MAE:0.265539,MSE:0.134547,RMSE:0.366806\n",
      "Alpha:1.0000\n",
      ",train_score:88.130000,R2:86.740000,MAE:0.265539,MSE:0.134547,RMSE:0.366806\n",
      "Alpha:10.0000\n",
      ",train_score:88.130000,R2:86.740000,MAE:0.265539,MSE:0.134547,RMSE:0.366806\n",
      "Alpha:100.0000\n",
      ",train_score:88.130000,R2:86.740000,MAE:0.265539,MSE:0.134547,RMSE:0.366806\n"
     ]
    },
    {
     "name": "stderr",
     "output_type": "stream",
     "text": [
      "C:\\Users\\SNEHIT REDDY\\AppData\\Local\\Programs\\Python\\Python310\\lib\\site-packages\\sklearn\\linear_model\\_ridge.py:212: LinAlgWarning: Ill-conditioned matrix (rcond=1.20385e-17): result may not be accurate.\n",
      "  return linalg.solve(A, Xy, sym_pos=True, overwrite_a=True).T\n"
     ]
    }
   ],
   "source": [
    "alphas = [0,0.0001,0.001,0.01,0.1,0.3,0.5,0.7,0.9,1,10,100]\n",
    "for a in alphas:\n",
    "    model1 = Ridge(alpha=a).fit(X_train_scaled,y_train)\n",
    "    train_score1 = round(model.score(X_train_scaled,y_train)*100,2)\n",
    "    score1 = round(model.score(X_test_scaled,y_test)*100,2)\n",
    "    Y_pred1 = model.predict(X_test_scaled)\n",
    "    mae1=metrics.mean_absolute_error(y_test,y_pred_scaled_RR)\n",
    "    Mse1=metrics.mean_squared_error(y_test,y_pred_scaled_RR)\n",
    "    print(\"Alpha:{0:.4f}\\n,train_score:{1:4f},R2:{2:4f},MAE:{3:4f},MSE:{4:4f},RMSE:{5:4f}\"\n",
    "         .format(a,train_score,score,mae,Mse,np.sqrt(Mse)))"
   ]
  },
  {
   "cell_type": "markdown",
   "id": "545d775b",
   "metadata": {},
   "source": [
    " "
   ]
  },
  {
   "cell_type": "markdown",
   "id": "12f3159a",
   "metadata": {},
   "source": [
    " "
   ]
  },
  {
   "cell_type": "markdown",
   "id": "c8c02d1c",
   "metadata": {},
   "source": [
    " "
   ]
  },
  {
   "cell_type": "markdown",
   "id": "110e6259",
   "metadata": {},
   "source": [
    " "
   ]
  },
  {
   "cell_type": "markdown",
   "id": "f751c959",
   "metadata": {},
   "source": [
    "## Lasso Regression"
   ]
  },
  {
   "cell_type": "code",
   "execution_count": 76,
   "id": "1c4c8bbc",
   "metadata": {
    "ExecuteTime": {
     "end_time": "2022-11-30T14:27:30.966660Z",
     "start_time": "2022-11-30T14:27:30.956105Z"
    }
   },
   "outputs": [],
   "source": [
    "from sklearn.linear_model import Lasso"
   ]
  },
  {
   "cell_type": "code",
   "execution_count": 77,
   "id": "b5574b85",
   "metadata": {
    "ExecuteTime": {
     "end_time": "2022-11-30T14:27:30.982672Z",
     "start_time": "2022-11-30T14:27:30.970160Z"
    }
   },
   "outputs": [],
   "source": [
    "LR = Lasso(alpha=0.0001)\n",
    "LR_scaled = Lasso(alpha=0.0001)"
   ]
  },
  {
   "cell_type": "code",
   "execution_count": 78,
   "id": "142c22b9",
   "metadata": {
    "ExecuteTime": {
     "end_time": "2022-11-30T14:27:31.028627Z",
     "start_time": "2022-11-30T14:27:30.985675Z"
    }
   },
   "outputs": [
    {
     "data": {
      "text/html": [
       "<style>#sk-container-id-3 {color: black;background-color: white;}#sk-container-id-3 pre{padding: 0;}#sk-container-id-3 div.sk-toggleable {background-color: white;}#sk-container-id-3 label.sk-toggleable__label {cursor: pointer;display: block;width: 100%;margin-bottom: 0;padding: 0.3em;box-sizing: border-box;text-align: center;}#sk-container-id-3 label.sk-toggleable__label-arrow:before {content: \"▸\";float: left;margin-right: 0.25em;color: #696969;}#sk-container-id-3 label.sk-toggleable__label-arrow:hover:before {color: black;}#sk-container-id-3 div.sk-estimator:hover label.sk-toggleable__label-arrow:before {color: black;}#sk-container-id-3 div.sk-toggleable__content {max-height: 0;max-width: 0;overflow: hidden;text-align: left;background-color: #f0f8ff;}#sk-container-id-3 div.sk-toggleable__content pre {margin: 0.2em;color: black;border-radius: 0.25em;background-color: #f0f8ff;}#sk-container-id-3 input.sk-toggleable__control:checked~div.sk-toggleable__content {max-height: 200px;max-width: 100%;overflow: auto;}#sk-container-id-3 input.sk-toggleable__control:checked~label.sk-toggleable__label-arrow:before {content: \"▾\";}#sk-container-id-3 div.sk-estimator input.sk-toggleable__control:checked~label.sk-toggleable__label {background-color: #d4ebff;}#sk-container-id-3 div.sk-label input.sk-toggleable__control:checked~label.sk-toggleable__label {background-color: #d4ebff;}#sk-container-id-3 input.sk-hidden--visually {border: 0;clip: rect(1px 1px 1px 1px);clip: rect(1px, 1px, 1px, 1px);height: 1px;margin: -1px;overflow: hidden;padding: 0;position: absolute;width: 1px;}#sk-container-id-3 div.sk-estimator {font-family: monospace;background-color: #f0f8ff;border: 1px dotted black;border-radius: 0.25em;box-sizing: border-box;margin-bottom: 0.5em;}#sk-container-id-3 div.sk-estimator:hover {background-color: #d4ebff;}#sk-container-id-3 div.sk-parallel-item::after {content: \"\";width: 100%;border-bottom: 1px solid gray;flex-grow: 1;}#sk-container-id-3 div.sk-label:hover label.sk-toggleable__label {background-color: #d4ebff;}#sk-container-id-3 div.sk-serial::before {content: \"\";position: absolute;border-left: 1px solid gray;box-sizing: border-box;top: 0;bottom: 0;left: 50%;z-index: 0;}#sk-container-id-3 div.sk-serial {display: flex;flex-direction: column;align-items: center;background-color: white;padding-right: 0.2em;padding-left: 0.2em;position: relative;}#sk-container-id-3 div.sk-item {position: relative;z-index: 1;}#sk-container-id-3 div.sk-parallel {display: flex;align-items: stretch;justify-content: center;background-color: white;position: relative;}#sk-container-id-3 div.sk-item::before, #sk-container-id-3 div.sk-parallel-item::before {content: \"\";position: absolute;border-left: 1px solid gray;box-sizing: border-box;top: 0;bottom: 0;left: 50%;z-index: -1;}#sk-container-id-3 div.sk-parallel-item {display: flex;flex-direction: column;z-index: 1;position: relative;background-color: white;}#sk-container-id-3 div.sk-parallel-item:first-child::after {align-self: flex-end;width: 50%;}#sk-container-id-3 div.sk-parallel-item:last-child::after {align-self: flex-start;width: 50%;}#sk-container-id-3 div.sk-parallel-item:only-child::after {width: 0;}#sk-container-id-3 div.sk-dashed-wrapped {border: 1px dashed gray;margin: 0 0.4em 0.5em 0.4em;box-sizing: border-box;padding-bottom: 0.4em;background-color: white;}#sk-container-id-3 div.sk-label label {font-family: monospace;font-weight: bold;display: inline-block;line-height: 1.2em;}#sk-container-id-3 div.sk-label-container {text-align: center;}#sk-container-id-3 div.sk-container {/* jupyter's `normalize.less` sets `[hidden] { display: none; }` but bootstrap.min.css set `[hidden] { display: none !important; }` so we also need the `!important` here to be able to override the default hidden behavior on the sphinx rendered scikit-learn.org. See: https://github.com/scikit-learn/scikit-learn/issues/21755 */display: inline-block !important;position: relative;}#sk-container-id-3 div.sk-text-repr-fallback {display: none;}</style><div id=\"sk-container-id-3\" class=\"sk-top-container\"><div class=\"sk-text-repr-fallback\"><pre>Lasso(alpha=0.0001)</pre><b>In a Jupyter environment, please rerun this cell to show the HTML representation or trust the notebook. <br />On GitHub, the HTML representation is unable to render, please try loading this page with nbviewer.org.</b></div><div class=\"sk-container\" hidden><div class=\"sk-item\"><div class=\"sk-estimator sk-toggleable\"><input class=\"sk-toggleable__control sk-hidden--visually\" id=\"sk-estimator-id-3\" type=\"checkbox\" checked><label for=\"sk-estimator-id-3\" class=\"sk-toggleable__label sk-toggleable__label-arrow\">Lasso</label><div class=\"sk-toggleable__content\"><pre>Lasso(alpha=0.0001)</pre></div></div></div></div></div>"
      ],
      "text/plain": [
       "Lasso(alpha=0.0001)"
      ]
     },
     "execution_count": 78,
     "metadata": {},
     "output_type": "execute_result"
    }
   ],
   "source": [
    "LR.fit(X_train,y_train)\n",
    "LR_scaled.fit(X_train_scaled,y_train)"
   ]
  },
  {
   "cell_type": "code",
   "execution_count": 79,
   "id": "1cb1458a",
   "metadata": {
    "ExecuteTime": {
     "end_time": "2022-11-30T14:27:31.043888Z",
     "start_time": "2022-11-30T14:27:31.031622Z"
    }
   },
   "outputs": [],
   "source": [
    "y_pred_LR = LR.predict(X_test)\n",
    "y_pred_scaled_LR = LR_scaled.predict(X_test_scaled)"
   ]
  },
  {
   "cell_type": "code",
   "execution_count": 80,
   "id": "9ce5b338",
   "metadata": {
    "ExecuteTime": {
     "end_time": "2022-11-30T14:27:31.059752Z",
     "start_time": "2022-11-30T14:27:31.045889Z"
    }
   },
   "outputs": [
    {
     "name": "stdout",
     "output_type": "stream",
     "text": [
      "Actual 0.8664426003967095\n",
      "Scaled 0.8664422051363443\n"
     ]
    }
   ],
   "source": [
    "from sklearn.metrics import r2_score\n",
    "print(\"Actual\",r2_score(y_test,y_pred_LR))\n",
    "print(\"Scaled\",r2_score(y_test,y_pred_scaled_LR))"
   ]
  },
  {
   "cell_type": "markdown",
   "id": "8eae6a1b",
   "metadata": {},
   "source": [
    "### Before Scaling"
   ]
  },
  {
   "cell_type": "code",
   "execution_count": 81,
   "id": "2d323de0",
   "metadata": {
    "ExecuteTime": {
     "end_time": "2022-11-30T14:27:31.074758Z",
     "start_time": "2022-11-30T14:27:31.062711Z"
    }
   },
   "outputs": [
    {
     "name": "stdout",
     "output_type": "stream",
     "text": [
      "Mean Absolute Error (MAE): 0.2655825215884763\n",
      "Mean Square Error (MSE): 0.13455924999220295\n",
      "Root Mean Square Error (RMSE): 0.366823186279443\n"
     ]
    }
   ],
   "source": [
    "from sklearn import metrics\n",
    "MAE=metrics.mean_absolute_error(y_test,y_pred_LR)\n",
    "print(\"Mean Absolute Error (MAE):\",MAE)\n",
    "MSE=metrics.mean_squared_error(y_test,y_pred_LR)\n",
    "print(\"Mean Square Error (MSE):\",MSE)\n",
    "RMSE=np.sqrt(metrics.mean_squared_error(y_test,y_pred_LR))\n",
    "print(\"Root Mean Square Error (RMSE):\",RMSE)"
   ]
  },
  {
   "cell_type": "markdown",
   "id": "468de140",
   "metadata": {},
   "source": [
    "### After Scaling"
   ]
  },
  {
   "cell_type": "code",
   "execution_count": 82,
   "id": "31aeadc0",
   "metadata": {
    "ExecuteTime": {
     "end_time": "2022-11-30T14:27:31.468457Z",
     "start_time": "2022-11-30T14:27:31.100648Z"
    }
   },
   "outputs": [
    {
     "name": "stderr",
     "output_type": "stream",
     "text": [
      "C:\\Users\\SNEHIT REDDY\\AppData\\Local\\Temp\\ipykernel_19356\\1914672657.py:3: UserWarning: With alpha=0, this algorithm does not converge well. You are advised to use the LinearRegression estimator\n",
      "  model = Lasso(alpha=a).fit(X_train_scaled,y_train)\n",
      "C:\\Users\\SNEHIT REDDY\\AppData\\Local\\Programs\\Python\\Python310\\lib\\site-packages\\sklearn\\linear_model\\_coordinate_descent.py:648: UserWarning: Coordinate descent with no regularization may lead to unexpected results and is discouraged.\n",
      "  model = cd_fast.enet_coordinate_descent(\n",
      "C:\\Users\\SNEHIT REDDY\\AppData\\Local\\Programs\\Python\\Python310\\lib\\site-packages\\sklearn\\linear_model\\_coordinate_descent.py:648: ConvergenceWarning: Objective did not converge. You might want to increase the number of iterations, check the scale of the features or consider increasing regularisation. Duality gap: 3.146e+02, tolerance: 5.315e-01 Linear regression models with null weight for the l1 regularization term are more efficiently fitted using one of the solvers implemented in sklearn.linear_model.Ridge/RidgeCV instead.\n",
      "  model = cd_fast.enet_coordinate_descent(\n"
     ]
    },
    {
     "name": "stdout",
     "output_type": "stream",
     "text": [
      "Alpha:0.0000\n",
      ",train_score:88.160000,R2:86.650000,MAE:0.265582,MSE:0.134560,RMSE:0.366824\n",
      "Alpha:0.0001\n",
      ",train_score:88.160000,R2:86.640000,MAE:0.265582,MSE:0.134560,RMSE:0.366824\n",
      "Alpha:0.0010\n",
      ",train_score:88.160000,R2:86.620000,MAE:0.265582,MSE:0.134560,RMSE:0.366824\n",
      "Alpha:0.0100\n",
      ",train_score:87.900000,R2:86.100000,MAE:0.265582,MSE:0.134560,RMSE:0.366824\n",
      "Alpha:0.1000\n",
      ",train_score:83.490000,R2:81.400000,MAE:0.265582,MSE:0.134560,RMSE:0.366824\n",
      "Alpha:0.3000\n",
      ",train_score:64.710000,R2:63.360000,MAE:0.265582,MSE:0.134560,RMSE:0.366824\n",
      "Alpha:0.5000\n",
      ",train_score:34.250000,R2:33.520000,MAE:0.265582,MSE:0.134560,RMSE:0.366824\n",
      "Alpha:0.7000\n",
      ",train_score:10.230000,R2:9.990000,MAE:0.265582,MSE:0.134560,RMSE:0.366824\n",
      "Alpha:0.9000\n",
      ",train_score:0.000000,R2:-0.040000,MAE:0.265582,MSE:0.134560,RMSE:0.366824\n",
      "Alpha:1.0000\n",
      ",train_score:0.000000,R2:-0.040000,MAE:0.265582,MSE:0.134560,RMSE:0.366824\n",
      "Alpha:10.0000\n",
      ",train_score:0.000000,R2:-0.040000,MAE:0.265582,MSE:0.134560,RMSE:0.366824\n"
     ]
    }
   ],
   "source": [
    "alphas = [0,0.0001,0.001,0.01,0.1,0.3,0.5,0.7,0.9,1,10]\n",
    "for a in alphas:\n",
    "    model = Lasso(alpha=a).fit(X_train_scaled,y_train)\n",
    "    train_score = round(model.score(X_train_scaled,y_train)*100,2)\n",
    "    score = round(model.score(X_test_scaled,y_test)*100,2)\n",
    "    Y_pred = model.predict(X_test_scaled)\n",
    "    mae=metrics.mean_absolute_error(y_test,y_pred_scaled_LR)\n",
    "    Mse=metrics.mean_squared_error(y_test,y_pred_scaled_LR)\n",
    "    print(\"Alpha:{0:.4f}\\n,train_score:{1:4f},R2:{2:4f},MAE:{3:4f},MSE:{4:4f},RMSE:{5:4f}\"\n",
    "         .format(a,train_score,score,mae,Mse,np.sqrt(Mse)))"
   ]
  },
  {
   "cell_type": "markdown",
   "id": "cdf10bf3",
   "metadata": {},
   "source": [
    " "
   ]
  },
  {
   "cell_type": "markdown",
   "id": "89da3b27",
   "metadata": {},
   "source": [
    " "
   ]
  },
  {
   "cell_type": "markdown",
   "id": "c545b80e",
   "metadata": {},
   "source": [
    " "
   ]
  },
  {
   "cell_type": "markdown",
   "id": "f0602a6e",
   "metadata": {},
   "source": [
    " \n",
    " "
   ]
  },
  {
   "cell_type": "markdown",
   "id": "6b71ec24",
   "metadata": {},
   "source": [
    "## Elastic Net "
   ]
  },
  {
   "cell_type": "code",
   "execution_count": 83,
   "id": "9c1af363",
   "metadata": {
    "ExecuteTime": {
     "end_time": "2022-11-30T14:27:31.484566Z",
     "start_time": "2022-11-30T14:27:31.470903Z"
    }
   },
   "outputs": [],
   "source": [
    "from sklearn.linear_model import ElasticNet"
   ]
  },
  {
   "cell_type": "code",
   "execution_count": 84,
   "id": "873c15ab",
   "metadata": {
    "ExecuteTime": {
     "end_time": "2022-11-30T14:27:31.500167Z",
     "start_time": "2022-11-30T14:27:31.486618Z"
    }
   },
   "outputs": [],
   "source": [
    "EN = ElasticNet(alpha=0.0001)\n",
    "EN_scaled = ElasticNet(alpha=0.0001)"
   ]
  },
  {
   "cell_type": "code",
   "execution_count": 85,
   "id": "aee39ab4",
   "metadata": {
    "ExecuteTime": {
     "end_time": "2022-11-30T14:27:31.562366Z",
     "start_time": "2022-11-30T14:27:31.504198Z"
    }
   },
   "outputs": [
    {
     "data": {
      "text/html": [
       "<style>#sk-container-id-4 {color: black;background-color: white;}#sk-container-id-4 pre{padding: 0;}#sk-container-id-4 div.sk-toggleable {background-color: white;}#sk-container-id-4 label.sk-toggleable__label {cursor: pointer;display: block;width: 100%;margin-bottom: 0;padding: 0.3em;box-sizing: border-box;text-align: center;}#sk-container-id-4 label.sk-toggleable__label-arrow:before {content: \"▸\";float: left;margin-right: 0.25em;color: #696969;}#sk-container-id-4 label.sk-toggleable__label-arrow:hover:before {color: black;}#sk-container-id-4 div.sk-estimator:hover label.sk-toggleable__label-arrow:before {color: black;}#sk-container-id-4 div.sk-toggleable__content {max-height: 0;max-width: 0;overflow: hidden;text-align: left;background-color: #f0f8ff;}#sk-container-id-4 div.sk-toggleable__content pre {margin: 0.2em;color: black;border-radius: 0.25em;background-color: #f0f8ff;}#sk-container-id-4 input.sk-toggleable__control:checked~div.sk-toggleable__content {max-height: 200px;max-width: 100%;overflow: auto;}#sk-container-id-4 input.sk-toggleable__control:checked~label.sk-toggleable__label-arrow:before {content: \"▾\";}#sk-container-id-4 div.sk-estimator input.sk-toggleable__control:checked~label.sk-toggleable__label {background-color: #d4ebff;}#sk-container-id-4 div.sk-label input.sk-toggleable__control:checked~label.sk-toggleable__label {background-color: #d4ebff;}#sk-container-id-4 input.sk-hidden--visually {border: 0;clip: rect(1px 1px 1px 1px);clip: rect(1px, 1px, 1px, 1px);height: 1px;margin: -1px;overflow: hidden;padding: 0;position: absolute;width: 1px;}#sk-container-id-4 div.sk-estimator {font-family: monospace;background-color: #f0f8ff;border: 1px dotted black;border-radius: 0.25em;box-sizing: border-box;margin-bottom: 0.5em;}#sk-container-id-4 div.sk-estimator:hover {background-color: #d4ebff;}#sk-container-id-4 div.sk-parallel-item::after {content: \"\";width: 100%;border-bottom: 1px solid gray;flex-grow: 1;}#sk-container-id-4 div.sk-label:hover label.sk-toggleable__label {background-color: #d4ebff;}#sk-container-id-4 div.sk-serial::before {content: \"\";position: absolute;border-left: 1px solid gray;box-sizing: border-box;top: 0;bottom: 0;left: 50%;z-index: 0;}#sk-container-id-4 div.sk-serial {display: flex;flex-direction: column;align-items: center;background-color: white;padding-right: 0.2em;padding-left: 0.2em;position: relative;}#sk-container-id-4 div.sk-item {position: relative;z-index: 1;}#sk-container-id-4 div.sk-parallel {display: flex;align-items: stretch;justify-content: center;background-color: white;position: relative;}#sk-container-id-4 div.sk-item::before, #sk-container-id-4 div.sk-parallel-item::before {content: \"\";position: absolute;border-left: 1px solid gray;box-sizing: border-box;top: 0;bottom: 0;left: 50%;z-index: -1;}#sk-container-id-4 div.sk-parallel-item {display: flex;flex-direction: column;z-index: 1;position: relative;background-color: white;}#sk-container-id-4 div.sk-parallel-item:first-child::after {align-self: flex-end;width: 50%;}#sk-container-id-4 div.sk-parallel-item:last-child::after {align-self: flex-start;width: 50%;}#sk-container-id-4 div.sk-parallel-item:only-child::after {width: 0;}#sk-container-id-4 div.sk-dashed-wrapped {border: 1px dashed gray;margin: 0 0.4em 0.5em 0.4em;box-sizing: border-box;padding-bottom: 0.4em;background-color: white;}#sk-container-id-4 div.sk-label label {font-family: monospace;font-weight: bold;display: inline-block;line-height: 1.2em;}#sk-container-id-4 div.sk-label-container {text-align: center;}#sk-container-id-4 div.sk-container {/* jupyter's `normalize.less` sets `[hidden] { display: none; }` but bootstrap.min.css set `[hidden] { display: none !important; }` so we also need the `!important` here to be able to override the default hidden behavior on the sphinx rendered scikit-learn.org. See: https://github.com/scikit-learn/scikit-learn/issues/21755 */display: inline-block !important;position: relative;}#sk-container-id-4 div.sk-text-repr-fallback {display: none;}</style><div id=\"sk-container-id-4\" class=\"sk-top-container\"><div class=\"sk-text-repr-fallback\"><pre>ElasticNet(alpha=0.0001)</pre><b>In a Jupyter environment, please rerun this cell to show the HTML representation or trust the notebook. <br />On GitHub, the HTML representation is unable to render, please try loading this page with nbviewer.org.</b></div><div class=\"sk-container\" hidden><div class=\"sk-item\"><div class=\"sk-estimator sk-toggleable\"><input class=\"sk-toggleable__control sk-hidden--visually\" id=\"sk-estimator-id-4\" type=\"checkbox\" checked><label for=\"sk-estimator-id-4\" class=\"sk-toggleable__label sk-toggleable__label-arrow\">ElasticNet</label><div class=\"sk-toggleable__content\"><pre>ElasticNet(alpha=0.0001)</pre></div></div></div></div></div>"
      ],
      "text/plain": [
       "ElasticNet(alpha=0.0001)"
      ]
     },
     "execution_count": 85,
     "metadata": {},
     "output_type": "execute_result"
    }
   ],
   "source": [
    "EN.fit(X_train,y_train)\n",
    "EN_scaled.fit(X_train_scaled,y_train)"
   ]
  },
  {
   "cell_type": "code",
   "execution_count": 86,
   "id": "4d9aec05",
   "metadata": {
    "ExecuteTime": {
     "end_time": "2022-11-30T14:27:31.577752Z",
     "start_time": "2022-11-30T14:27:31.566427Z"
    }
   },
   "outputs": [],
   "source": [
    "y_pred_EN = EN.predict(X_test)\n",
    "y_pred_scaled_EN = EN_scaled.predict(X_test_scaled)"
   ]
  },
  {
   "cell_type": "code",
   "execution_count": 87,
   "id": "4cd86c79",
   "metadata": {
    "ExecuteTime": {
     "end_time": "2022-11-30T14:27:31.593042Z",
     "start_time": "2022-11-30T14:27:31.581511Z"
    }
   },
   "outputs": [
    {
     "name": "stdout",
     "output_type": "stream",
     "text": [
      "Actual 0.8664535683656182\n",
      "Scaled 0.8664533718705554\n"
     ]
    }
   ],
   "source": [
    "from sklearn.metrics import r2_score\n",
    "print(\"Actual\",r2_score(y_test,y_pred_EN))\n",
    "print(\"Scaled\",r2_score(y_test,y_pred_scaled_EN))"
   ]
  },
  {
   "cell_type": "code",
   "execution_count": 88,
   "id": "065ed58b",
   "metadata": {
    "ExecuteTime": {
     "end_time": "2022-11-30T14:27:31.608825Z",
     "start_time": "2022-11-30T14:27:31.596537Z"
    }
   },
   "outputs": [
    {
     "name": "stdout",
     "output_type": "stream",
     "text": [
      "Mean Absolute Error (MAE): 0.2655584171921803\n",
      "Mean Square Error (MSE): 0.13454819974957563\n",
      "Root Mean Square Error (RMSE): 0.3668081238871021\n"
     ]
    }
   ],
   "source": [
    "from sklearn import metrics\n",
    "MAE=metrics.mean_absolute_error(y_test,y_pred_EN)\n",
    "print(\"Mean Absolute Error (MAE):\",MAE)\n",
    "MSE=metrics.mean_squared_error(y_test,y_pred_EN)\n",
    "print(\"Mean Square Error (MSE):\",MSE)\n",
    "RMSE=np.sqrt(metrics.mean_squared_error(y_test,y_pred_EN))\n",
    "print(\"Root Mean Square Error (RMSE):\",RMSE)"
   ]
  },
  {
   "cell_type": "markdown",
   "id": "587d4a82",
   "metadata": {},
   "source": [
    "### Before Scaling"
   ]
  },
  {
   "cell_type": "code",
   "execution_count": 89,
   "id": "6af0233e",
   "metadata": {
    "ExecuteTime": {
     "end_time": "2022-11-30T14:27:32.060941Z",
     "start_time": "2022-11-30T14:27:31.612327Z"
    }
   },
   "outputs": [
    {
     "name": "stderr",
     "output_type": "stream",
     "text": [
      "C:\\Users\\SNEHIT REDDY\\AppData\\Local\\Temp\\ipykernel_19356\\4142645677.py:3: UserWarning: With alpha=0, this algorithm does not converge well. You are advised to use the LinearRegression estimator\n",
      "  model = ElasticNet(alpha=a).fit(X_train,y_train)\n",
      "C:\\Users\\SNEHIT REDDY\\AppData\\Local\\Programs\\Python\\Python310\\lib\\site-packages\\sklearn\\linear_model\\_coordinate_descent.py:648: UserWarning: Coordinate descent with no regularization may lead to unexpected results and is discouraged.\n",
      "  model = cd_fast.enet_coordinate_descent(\n",
      "C:\\Users\\SNEHIT REDDY\\AppData\\Local\\Programs\\Python\\Python310\\lib\\site-packages\\sklearn\\linear_model\\_coordinate_descent.py:648: ConvergenceWarning: Objective did not converge. You might want to increase the number of iterations, check the scale of the features or consider increasing regularisation. Duality gap: 3.146e+02, tolerance: 5.315e-01 Linear regression models with null weight for the l1 regularization term are more efficiently fitted using one of the solvers implemented in sklearn.linear_model.Ridge/RidgeCV instead.\n",
      "  model = cd_fast.enet_coordinate_descent(\n"
     ]
    },
    {
     "name": "stdout",
     "output_type": "stream",
     "text": [
      "Alpha:0.0000\n",
      ",train_score:88.160000,R2:86.650000,MAE:0.265558,MSE:0.134548,RMSE:0.366808\n",
      "Alpha:0.0001\n",
      ",train_score:88.160000,R2:86.650000,MAE:0.265558,MSE:0.134548,RMSE:0.366808\n",
      "Alpha:0.0010\n",
      ",train_score:88.160000,R2:86.640000,MAE:0.265558,MSE:0.134548,RMSE:0.366808\n",
      "Alpha:0.0100\n",
      ",train_score:88.070000,R2:86.440000,MAE:0.265558,MSE:0.134548,RMSE:0.366808\n",
      "Alpha:0.1000\n",
      ",train_score:85.240000,R2:83.330000,MAE:0.265558,MSE:0.134548,RMSE:0.366808\n",
      "Alpha:0.3000\n",
      ",train_score:77.910000,R2:76.370000,MAE:0.265558,MSE:0.134548,RMSE:0.366808\n",
      "Alpha:0.5000\n",
      ",train_score:65.710000,R2:64.370000,MAE:0.265558,MSE:0.134548,RMSE:0.366808\n",
      "Alpha:0.7000\n",
      ",train_score:51.050000,R2:50.000000,MAE:0.265558,MSE:0.134548,RMSE:0.366808\n",
      "Alpha:0.9000\n",
      ",train_score:34.040000,R2:33.330000,MAE:0.265558,MSE:0.134548,RMSE:0.366808\n",
      "Alpha:1.0000\n",
      ",train_score:25.350000,R2:24.770000,MAE:0.265558,MSE:0.134548,RMSE:0.366808\n",
      "Alpha:10.0000\n",
      ",train_score:0.000000,R2:-0.040000,MAE:0.265558,MSE:0.134548,RMSE:0.366808\n",
      "Alpha:100.0000\n",
      ",train_score:0.000000,R2:-0.040000,MAE:0.265558,MSE:0.134548,RMSE:0.366808\n"
     ]
    }
   ],
   "source": [
    "alphas = [0,0.0001,0.001,0.01,0.1,0.3,0.5,0.7,0.9,1,10,100]\n",
    "for a in alphas:\n",
    "    model = ElasticNet(alpha=a).fit(X_train,y_train)\n",
    "    train_score = round(model.score(X_train,y_train)*100,2)\n",
    "    score = round(model.score(X_test,y_test)*100,2)\n",
    "    Y_pred = model.predict(X_test)\n",
    "    mae=metrics.mean_absolute_error(y_test,y_pred_EN)\n",
    "    Mse=metrics.mean_squared_error(y_test,y_pred_EN)\n",
    "    print(\"Alpha:{0:.4f}\\n,train_score:{1:4f},R2:{2:4f},MAE:{3:4f},MSE:{4:4f},RMSE:{5:4f}\"\n",
    "         .format(a,train_score,score,mae,Mse,np.sqrt(Mse)))"
   ]
  },
  {
   "cell_type": "markdown",
   "id": "63b63bb4",
   "metadata": {},
   "source": [
    "### After Scaling"
   ]
  },
  {
   "cell_type": "code",
   "execution_count": 90,
   "id": "b40ff28d",
   "metadata": {
    "ExecuteTime": {
     "end_time": "2022-11-30T14:27:32.527733Z",
     "start_time": "2022-11-30T14:27:32.062940Z"
    }
   },
   "outputs": [
    {
     "name": "stderr",
     "output_type": "stream",
     "text": [
      "C:\\Users\\SNEHIT REDDY\\AppData\\Local\\Temp\\ipykernel_19356\\3244763454.py:3: UserWarning: With alpha=0, this algorithm does not converge well. You are advised to use the LinearRegression estimator\n",
      "  model = ElasticNet(alpha=a).fit(X_train_scaled,y_train)\n",
      "C:\\Users\\SNEHIT REDDY\\AppData\\Local\\Programs\\Python\\Python310\\lib\\site-packages\\sklearn\\linear_model\\_coordinate_descent.py:648: UserWarning: Coordinate descent with no regularization may lead to unexpected results and is discouraged.\n",
      "  model = cd_fast.enet_coordinate_descent(\n",
      "C:\\Users\\SNEHIT REDDY\\AppData\\Local\\Programs\\Python\\Python310\\lib\\site-packages\\sklearn\\linear_model\\_coordinate_descent.py:648: ConvergenceWarning: Objective did not converge. You might want to increase the number of iterations, check the scale of the features or consider increasing regularisation. Duality gap: 3.146e+02, tolerance: 5.315e-01 Linear regression models with null weight for the l1 regularization term are more efficiently fitted using one of the solvers implemented in sklearn.linear_model.Ridge/RidgeCV instead.\n",
      "  model = cd_fast.enet_coordinate_descent(\n"
     ]
    },
    {
     "name": "stdout",
     "output_type": "stream",
     "text": [
      "Alpha:0.0000\n",
      ",train_score:88.160000,R2:86.650000,MAE:0.265558,MSE:0.134548,RMSE:0.366808\n",
      "Alpha:0.0001\n",
      ",train_score:88.160000,R2:86.650000,MAE:0.265558,MSE:0.134548,RMSE:0.366808\n",
      "Alpha:0.0010\n",
      ",train_score:88.160000,R2:86.640000,MAE:0.265558,MSE:0.134548,RMSE:0.366808\n",
      "Alpha:0.0100\n",
      ",train_score:88.070000,R2:86.440000,MAE:0.265558,MSE:0.134548,RMSE:0.366808\n",
      "Alpha:0.1000\n",
      ",train_score:85.250000,R2:83.330000,MAE:0.265558,MSE:0.134548,RMSE:0.366808\n",
      "Alpha:0.3000\n",
      ",train_score:77.920000,R2:76.380000,MAE:0.265558,MSE:0.134548,RMSE:0.366808\n",
      "Alpha:0.5000\n",
      ",train_score:65.730000,R2:64.390000,MAE:0.265558,MSE:0.134548,RMSE:0.366808\n",
      "Alpha:0.7000\n",
      ",train_score:51.070000,R2:50.020000,MAE:0.265558,MSE:0.134548,RMSE:0.366808\n",
      "Alpha:0.9000\n",
      ",train_score:34.060000,R2:33.340000,MAE:0.265558,MSE:0.134548,RMSE:0.366808\n",
      "Alpha:1.0000\n",
      ",train_score:25.390000,R2:24.800000,MAE:0.265558,MSE:0.134548,RMSE:0.366808\n",
      "Alpha:10.0000\n",
      ",train_score:0.000000,R2:-0.040000,MAE:0.265558,MSE:0.134548,RMSE:0.366808\n",
      "Alpha:100.0000\n",
      ",train_score:0.000000,R2:-0.040000,MAE:0.265558,MSE:0.134548,RMSE:0.366808\n"
     ]
    }
   ],
   "source": [
    "alphas = [0,0.0001,0.001,0.01,0.1,0.3,0.5,0.7,0.9,1,10,100]\n",
    "for a in alphas:\n",
    "    model = ElasticNet(alpha=a).fit(X_train_scaled,y_train)\n",
    "    train_score = round(model.score(X_train_scaled,y_train)*100,2)\n",
    "    score = round(model.score(X_test_scaled,y_test)*100,2)\n",
    "    Y_pred = model.predict(X_test_scaled)\n",
    "    mae=metrics.mean_absolute_error(y_test,y_pred_scaled_EN)\n",
    "    Mse=metrics.mean_squared_error(y_test,y_pred_scaled_EN)\n",
    "    print(\"Alpha:{0:.4f}\\n,train_score:{1:4f},R2:{2:4f},MAE:{3:4f},MSE:{4:4f},RMSE:{5:4f}\"\n",
    "         .format(a,train_score,score,mae,Mse,np.sqrt(Mse)))"
   ]
  },
  {
   "cell_type": "markdown",
   "id": "b49d3a40",
   "metadata": {},
   "source": [
    " "
   ]
  },
  {
   "cell_type": "markdown",
   "id": "03c76ab4",
   "metadata": {},
   "source": [
    " "
   ]
  },
  {
   "cell_type": "markdown",
   "id": "0a551083",
   "metadata": {},
   "source": [
    " "
   ]
  },
  {
   "cell_type": "markdown",
   "id": "06d3563d",
   "metadata": {},
   "source": [
    " \n",
    " "
   ]
  },
  {
   "cell_type": "markdown",
   "id": "c0bab82a",
   "metadata": {},
   "source": [
    "## SVR"
   ]
  },
  {
   "cell_type": "code",
   "execution_count": 91,
   "id": "e68cbddf",
   "metadata": {
    "ExecuteTime": {
     "end_time": "2022-11-30T14:28:19.180940Z",
     "start_time": "2022-11-30T14:28:19.163884Z"
    }
   },
   "outputs": [],
   "source": [
    "from sklearn.svm import SVR"
   ]
  },
  {
   "cell_type": "code",
   "execution_count": 92,
   "id": "a53e38ae",
   "metadata": {
    "ExecuteTime": {
     "end_time": "2022-11-30T14:28:35.741609Z",
     "start_time": "2022-11-30T14:28:35.728860Z"
    }
   },
   "outputs": [],
   "source": [
    "Svr = SVR(kernel='rbf')"
   ]
  },
  {
   "cell_type": "code",
   "execution_count": 95,
   "id": "a611b55b",
   "metadata": {
    "ExecuteTime": {
     "end_time": "2022-11-30T14:29:25.873157Z",
     "start_time": "2022-11-30T14:29:24.571583Z"
    }
   },
   "outputs": [
    {
     "data": {
      "text/html": [
       "<style>#sk-container-id-6 {color: black;background-color: white;}#sk-container-id-6 pre{padding: 0;}#sk-container-id-6 div.sk-toggleable {background-color: white;}#sk-container-id-6 label.sk-toggleable__label {cursor: pointer;display: block;width: 100%;margin-bottom: 0;padding: 0.3em;box-sizing: border-box;text-align: center;}#sk-container-id-6 label.sk-toggleable__label-arrow:before {content: \"▸\";float: left;margin-right: 0.25em;color: #696969;}#sk-container-id-6 label.sk-toggleable__label-arrow:hover:before {color: black;}#sk-container-id-6 div.sk-estimator:hover label.sk-toggleable__label-arrow:before {color: black;}#sk-container-id-6 div.sk-toggleable__content {max-height: 0;max-width: 0;overflow: hidden;text-align: left;background-color: #f0f8ff;}#sk-container-id-6 div.sk-toggleable__content pre {margin: 0.2em;color: black;border-radius: 0.25em;background-color: #f0f8ff;}#sk-container-id-6 input.sk-toggleable__control:checked~div.sk-toggleable__content {max-height: 200px;max-width: 100%;overflow: auto;}#sk-container-id-6 input.sk-toggleable__control:checked~label.sk-toggleable__label-arrow:before {content: \"▾\";}#sk-container-id-6 div.sk-estimator input.sk-toggleable__control:checked~label.sk-toggleable__label {background-color: #d4ebff;}#sk-container-id-6 div.sk-label input.sk-toggleable__control:checked~label.sk-toggleable__label {background-color: #d4ebff;}#sk-container-id-6 input.sk-hidden--visually {border: 0;clip: rect(1px 1px 1px 1px);clip: rect(1px, 1px, 1px, 1px);height: 1px;margin: -1px;overflow: hidden;padding: 0;position: absolute;width: 1px;}#sk-container-id-6 div.sk-estimator {font-family: monospace;background-color: #f0f8ff;border: 1px dotted black;border-radius: 0.25em;box-sizing: border-box;margin-bottom: 0.5em;}#sk-container-id-6 div.sk-estimator:hover {background-color: #d4ebff;}#sk-container-id-6 div.sk-parallel-item::after {content: \"\";width: 100%;border-bottom: 1px solid gray;flex-grow: 1;}#sk-container-id-6 div.sk-label:hover label.sk-toggleable__label {background-color: #d4ebff;}#sk-container-id-6 div.sk-serial::before {content: \"\";position: absolute;border-left: 1px solid gray;box-sizing: border-box;top: 0;bottom: 0;left: 50%;z-index: 0;}#sk-container-id-6 div.sk-serial {display: flex;flex-direction: column;align-items: center;background-color: white;padding-right: 0.2em;padding-left: 0.2em;position: relative;}#sk-container-id-6 div.sk-item {position: relative;z-index: 1;}#sk-container-id-6 div.sk-parallel {display: flex;align-items: stretch;justify-content: center;background-color: white;position: relative;}#sk-container-id-6 div.sk-item::before, #sk-container-id-6 div.sk-parallel-item::before {content: \"\";position: absolute;border-left: 1px solid gray;box-sizing: border-box;top: 0;bottom: 0;left: 50%;z-index: -1;}#sk-container-id-6 div.sk-parallel-item {display: flex;flex-direction: column;z-index: 1;position: relative;background-color: white;}#sk-container-id-6 div.sk-parallel-item:first-child::after {align-self: flex-end;width: 50%;}#sk-container-id-6 div.sk-parallel-item:last-child::after {align-self: flex-start;width: 50%;}#sk-container-id-6 div.sk-parallel-item:only-child::after {width: 0;}#sk-container-id-6 div.sk-dashed-wrapped {border: 1px dashed gray;margin: 0 0.4em 0.5em 0.4em;box-sizing: border-box;padding-bottom: 0.4em;background-color: white;}#sk-container-id-6 div.sk-label label {font-family: monospace;font-weight: bold;display: inline-block;line-height: 1.2em;}#sk-container-id-6 div.sk-label-container {text-align: center;}#sk-container-id-6 div.sk-container {/* jupyter's `normalize.less` sets `[hidden] { display: none; }` but bootstrap.min.css set `[hidden] { display: none !important; }` so we also need the `!important` here to be able to override the default hidden behavior on the sphinx rendered scikit-learn.org. See: https://github.com/scikit-learn/scikit-learn/issues/21755 */display: inline-block !important;position: relative;}#sk-container-id-6 div.sk-text-repr-fallback {display: none;}</style><div id=\"sk-container-id-6\" class=\"sk-top-container\"><div class=\"sk-text-repr-fallback\"><pre>SVR()</pre><b>In a Jupyter environment, please rerun this cell to show the HTML representation or trust the notebook. <br />On GitHub, the HTML representation is unable to render, please try loading this page with nbviewer.org.</b></div><div class=\"sk-container\" hidden><div class=\"sk-item\"><div class=\"sk-estimator sk-toggleable\"><input class=\"sk-toggleable__control sk-hidden--visually\" id=\"sk-estimator-id-6\" type=\"checkbox\" checked><label for=\"sk-estimator-id-6\" class=\"sk-toggleable__label sk-toggleable__label-arrow\">SVR</label><div class=\"sk-toggleable__content\"><pre>SVR()</pre></div></div></div></div></div>"
      ],
      "text/plain": [
       "SVR()"
      ]
     },
     "execution_count": 95,
     "metadata": {},
     "output_type": "execute_result"
    }
   ],
   "source": [
    "Svr.fit(X_train_scaled,y_train)"
   ]
  },
  {
   "cell_type": "code",
   "execution_count": 101,
   "id": "d115d950",
   "metadata": {
    "ExecuteTime": {
     "end_time": "2022-11-30T14:32:15.480101Z",
     "start_time": "2022-11-30T14:32:15.266135Z"
    }
   },
   "outputs": [],
   "source": [
    "Y_pred_scaled = Svr.predict(X_test_scaled)"
   ]
  },
  {
   "cell_type": "code",
   "execution_count": 102,
   "id": "ddf2f889",
   "metadata": {
    "ExecuteTime": {
     "end_time": "2022-11-30T14:32:22.717853Z",
     "start_time": "2022-11-30T14:32:22.704300Z"
    }
   },
   "outputs": [
    {
     "data": {
      "text/plain": [
       "(592,)"
      ]
     },
     "execution_count": 102,
     "metadata": {},
     "output_type": "execute_result"
    }
   ],
   "source": [
    "Y_pred_scaled.shape"
   ]
  },
  {
   "cell_type": "code",
   "execution_count": 103,
   "id": "ae50e74a",
   "metadata": {
    "ExecuteTime": {
     "end_time": "2022-11-30T14:32:28.359442Z",
     "start_time": "2022-11-30T14:32:26.672257Z"
    }
   },
   "outputs": [
    {
     "name": "stdout",
     "output_type": "stream",
     "text": [
      "Model Score for train data after scaling 97.37016399760984\n"
     ]
    }
   ],
   "source": [
    "Train_data_score = Svr.score(X_train_scaled,y_train)*100\n",
    "print(\"Model Score for train data after scaling\",Train_data_score)"
   ]
  },
  {
   "cell_type": "code",
   "execution_count": 104,
   "id": "a13e61ef",
   "metadata": {
    "ExecuteTime": {
     "end_time": "2022-11-30T14:32:31.575599Z",
     "start_time": "2022-11-30T14:32:31.560795Z"
    }
   },
   "outputs": [
    {
     "name": "stdout",
     "output_type": "stream",
     "text": [
      "score is: 95.27828994161861\n"
     ]
    }
   ],
   "source": [
    "from sklearn.metrics import r2_score\n",
    "score=r2_score(y_test,Y_pred_scaled)*100\n",
    "print(\"score is:\",score)"
   ]
  },
  {
   "cell_type": "markdown",
   "id": "874469b0",
   "metadata": {},
   "source": [
    " "
   ]
  },
  {
   "cell_type": "markdown",
   "id": "75613c7d",
   "metadata": {},
   "source": [
    " "
   ]
  },
  {
   "cell_type": "markdown",
   "id": "0519d684",
   "metadata": {},
   "source": [
    " "
   ]
  },
  {
   "cell_type": "markdown",
   "id": "a0b1f495",
   "metadata": {},
   "source": [
    "# END"
   ]
  }
 ],
 "metadata": {
  "hide_input": false,
  "kernelspec": {
   "display_name": "Python 3 (ipykernel)",
   "language": "python",
   "name": "python3"
  },
  "language_info": {
   "codemirror_mode": {
    "name": "ipython",
    "version": 3
   },
   "file_extension": ".py",
   "mimetype": "text/x-python",
   "name": "python",
   "nbconvert_exporter": "python",
   "pygments_lexer": "ipython3",
   "version": "3.10.6"
  },
  "toc": {
   "base_numbering": 1,
   "nav_menu": {},
   "number_sections": true,
   "sideBar": true,
   "skip_h1_title": false,
   "title_cell": "Table of Contents",
   "title_sidebar": "Contents",
   "toc_cell": false,
   "toc_position": {},
   "toc_section_display": true,
   "toc_window_display": false
  },
  "varInspector": {
   "cols": {
    "lenName": 16,
    "lenType": 16,
    "lenVar": 40
   },
   "kernels_config": {
    "python": {
     "delete_cmd_postfix": "",
     "delete_cmd_prefix": "del ",
     "library": "var_list.py",
     "varRefreshCmd": "print(var_dic_list())"
    },
    "r": {
     "delete_cmd_postfix": ") ",
     "delete_cmd_prefix": "rm(",
     "library": "var_list.r",
     "varRefreshCmd": "cat(var_dic_list()) "
    }
   },
   "types_to_exclude": [
    "module",
    "function",
    "builtin_function_or_method",
    "instance",
    "_Feature"
   ],
   "window_display": false
  }
 },
 "nbformat": 4,
 "nbformat_minor": 5
}
